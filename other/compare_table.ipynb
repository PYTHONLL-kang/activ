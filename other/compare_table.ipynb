{
 "cells": [
  {
   "cell_type": "code",
   "execution_count": 1,
   "metadata": {},
   "outputs": [],
   "source": [
    "import pandas as pd\n",
    "import numpy as np\n",
    "\n",
    "from sklearn.preprocessing import MinMaxScaler\n",
    "import math"
   ]
  },
  {
   "cell_type": "code",
   "execution_count": 2,
   "metadata": {},
   "outputs": [],
   "source": [
    "import os\n",
    "os.chdir(\"C:\\\\code\\\\activ\")"
   ]
  },
  {
   "cell_type": "code",
   "execution_count": 3,
   "metadata": {},
   "outputs": [],
   "source": [
    "df = pd.read_excel('./documents/aug_nine_var.xlsx').iloc[:,1::].to_numpy()\n",
    "min_pop = np.min(df[:,21])\n",
    "scaler = MinMaxScaler()\n",
    "df = scaler.fit_transform(df)\n",
    "index = np.argmin(df[:,21])\n",
    "dist = 0\n",
    "for j in range(21):\n",
    "        dist += math.sqrt((df[index][j] - df[-1][j]) ** 2)\n",
    "\n",
    "table_dict = [{\"name\":\"real\", \"min_pop\": min_pop, \"dist\":dist}]"
   ]
  },
  {
   "cell_type": "code",
   "execution_count": 4,
   "metadata": {},
   "outputs": [
    {
     "data": {
      "text/plain": [
       "[{'name': 'real', 'min_pop': 36.092, 'dist': 10.39230230832239}]"
      ]
     },
     "execution_count": 4,
     "metadata": {},
     "output_type": "execute_result"
    }
   ],
   "source": [
    "table_dict"
   ]
  },
  {
   "cell_type": "code",
   "execution_count": 5,
   "metadata": {},
   "outputs": [],
   "source": [
    "np.set_printoptions(precision=6, suppress=True)"
   ]
  },
  {
   "cell_type": "code",
   "execution_count": 6,
   "metadata": {},
   "outputs": [],
   "source": [
    "path = \"./documents/result/\"\n",
    "\n",
    "basic_gen = pd.read_excel(path+'basic.xlsx').iloc[:,1::].to_numpy()\n",
    "basic_gen_formula = pd.read_excel(path+\"basic_formula.xlsx\").iloc[:,1::].to_numpy()\n",
    "ae_gen_formula = pd.read_excel(path+\"ae_formula.xlsx\").iloc[:,1::].to_numpy()\n",
    "q_learning = pd.read_excel(path+\"reinforce.xlsx\").iloc[:,1::].to_numpy()\n",
    "dqn = pd.read_excel(path+\"dqn.xlsx\").iloc[:,1::].to_numpy()\n",
    "gan_q_learning = pd.read_excel(path+\"reinforce_Gan.xlsx\").iloc[:,1::].to_numpy()\n",
    "ae_intersection = pd.read_excel(path+\"ae_intersect_result.xlsx\").iloc[:,1::].to_numpy()"
   ]
  },
  {
   "cell_type": "code",
   "execution_count": 7,
   "metadata": {},
   "outputs": [],
   "source": [
    "result_gen = [basic_gen, basic_gen_formula, ae_gen_formula, q_learning, dqn, gan_q_learning, ae_intersection]\n",
    "lab = ['basic', 'basic_form', 'ae_form', 'reinforce', 'dqn', 'rein_gan', 'ae_intersect']\n",
    "gen_num = len(result_gen)"
   ]
  },
  {
   "cell_type": "code",
   "execution_count": 8,
   "metadata": {},
   "outputs": [],
   "source": [
    "real = pd.read_excel(\"./documents/aug_nine_var.xlsx\").iloc[:,1:22].to_numpy()[-1]"
   ]
  },
  {
   "cell_type": "code",
   "execution_count": 9,
   "metadata": {},
   "outputs": [
    {
     "name": "stdout",
     "output_type": "stream",
     "text": [
      "(4499, 21)\n"
     ]
    }
   ],
   "source": [
    "concat_result = []\n",
    "\n",
    "for i in range(21):\n",
    "    concat_result.append([])\n",
    "    for result in result_gen:\n",
    "        for data in result:\n",
    "            concat_result[i].append(data[i])\n",
    "\n",
    "    concat_result[i].append(real[i])\n",
    "concat_result = np.array(concat_result).T\n",
    "print(concat_result.shape)"
   ]
  },
  {
   "cell_type": "code",
   "execution_count": 10,
   "metadata": {},
   "outputs": [],
   "source": [
    "concat_index = [0]\n",
    "for result in result_gen:\n",
    "    concat_index.append(concat_index[-1] + len(result))"
   ]
  },
  {
   "cell_type": "code",
   "execution_count": 11,
   "metadata": {},
   "outputs": [
    {
     "data": {
      "text/plain": [
       "[0, 1000, 2000, 3000, 3182, 3290, 3498, 4498]"
      ]
     },
     "execution_count": 11,
     "metadata": {},
     "output_type": "execute_result"
    }
   ],
   "source": [
    "concat_index"
   ]
  },
  {
   "cell_type": "code",
   "execution_count": 12,
   "metadata": {},
   "outputs": [],
   "source": [
    "concat_result = scaler.fit_transform(concat_result)"
   ]
  },
  {
   "cell_type": "code",
   "execution_count": 13,
   "metadata": {},
   "outputs": [],
   "source": [
    "for i in range(gen_num):\n",
    "    min_pop = np.min(result_gen[i][:,21])\n",
    "    key = np.argmin(result_gen[i][:,21])\n",
    "    index = concat_index[i]\n",
    "\n",
    "    dist = 0\n",
    "    \n",
    "    for j in range(21):\n",
    "        dist += math.sqrt((concat_result[index + key][j] - concat_result[-1][j]) ** 2)\n",
    "\n",
    "    table_dict.append({\"name\":lab[i], \"min_pop\":np.round(min_pop, 3), \"dist\":np.round(dist, 3)})"
   ]
  },
  {
   "cell_type": "code",
   "execution_count": 14,
   "metadata": {},
   "outputs": [
    {
     "data": {
      "text/plain": [
       "8"
      ]
     },
     "execution_count": 14,
     "metadata": {},
     "output_type": "execute_result"
    }
   ],
   "source": [
    "len(table_dict)"
   ]
  },
  {
   "cell_type": "code",
   "execution_count": 15,
   "metadata": {},
   "outputs": [
    {
     "name": "stdout",
     "output_type": "stream",
     "text": [
      "{'name': 'real', 'min_pop': 36.092, 'dist': 10.39230230832239}\n",
      "{'name': 'basic', 'min_pop': 25.713, 'dist': 0.664}\n",
      "{'name': 'basic_form', 'min_pop': 34.172, 'dist': 0.95}\n",
      "{'name': 'ae_form', 'min_pop': 34.222, 'dist': 1.162}\n",
      "{'name': 'reinforce', 'min_pop': 34.331, 'dist': 0.95}\n",
      "{'name': 'dqn', 'min_pop': 14.693, 'dist': 1.748}\n",
      "{'name': 'rein_gan', 'min_pop': 35.18, 'dist': 2.178}\n",
      "{'name': 'ae_intersect', 'min_pop': 36.279, 'dist': 2.929}\n"
     ]
    }
   ],
   "source": [
    "for diction in table_dict:\n",
    "    print(diction)"
   ]
  },
  {
   "cell_type": "code",
   "execution_count": null,
   "metadata": {},
   "outputs": [],
   "source": []
  }
 ],
 "metadata": {
  "kernelspec": {
   "display_name": "Python 3.10.6 ('tensor')",
   "language": "python",
   "name": "python3"
  },
  "language_info": {
   "codemirror_mode": {
    "name": "ipython",
    "version": 3
   },
   "file_extension": ".py",
   "mimetype": "text/x-python",
   "name": "python",
   "nbconvert_exporter": "python",
   "pygments_lexer": "ipython3",
   "version": "3.10.6"
  },
  "orig_nbformat": 4,
  "vscode": {
   "interpreter": {
    "hash": "f52cf5ba9cdea042db831f93434c1e9c95a6644d0436f290cb96b0dc07e19ad3"
   }
  }
 },
 "nbformat": 4,
 "nbformat_minor": 2
}
