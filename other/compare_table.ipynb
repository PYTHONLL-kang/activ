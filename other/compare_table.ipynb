{
 "cells": [
  {
   "cell_type": "code",
   "execution_count": 139,
   "metadata": {},
   "outputs": [],
   "source": [
    "import pandas as pd\n",
    "import numpy as np\n",
    "\n",
    "from sklearn.preprocessing import MinMaxScaler\n",
    "import math"
   ]
  },
  {
   "cell_type": "code",
   "execution_count": 140,
   "metadata": {},
   "outputs": [],
   "source": [
    "np.set_printoptions(precision=6, suppress=True)"
   ]
  },
  {
   "cell_type": "code",
   "execution_count": 141,
   "metadata": {},
   "outputs": [],
   "source": [
    "basic_gen = pd.read_excel('./result/basic_result.xlsx').iloc[:,1::].to_numpy()\n",
    "basic_gen_formula = pd.read_excel(\"./result/basic_result_formula.xlsx\").iloc[:,1::].to_numpy()\n",
    "gan_based = pd.read_excel(\"./result/gan_based.xlsx\").iloc[:,1::].to_numpy()\n",
    "gan_based_formula = pd.read_excel(\"./result/gan_based_formula.xlsx\").iloc[:,1::].to_numpy()\n",
    "ae_gen_formula = pd.read_excel(\"./result/ae_gen_formula.xlsx\").iloc[:,1::].to_numpy()\n",
    "q_learning = pd.read_excel(\"./result/q_learning.xlsx\").iloc[:,1::].to_numpy()\n",
    "dqn = pd.read_excel(\"./result/dqn.xlsx\").iloc[:,1::].to_numpy()\n",
    "gan_q_learning = pd.read_excel(\"./result/gan_q_learn.xlsx\").iloc[:,1::].to_numpy()\n",
    "ae_intersection = pd.read_excel(\"./result/ae_intersect_result.xlsx\").iloc[:,1::].to_numpy()"
   ]
  },
  {
   "cell_type": "code",
   "execution_count": 142,
   "metadata": {},
   "outputs": [],
   "source": [
    "result_gen = [basic_gen, basic_gen_formula, gan_based, gan_based_formula, ae_gen_formula, q_learning, dqn, gan_q_learning, ae_intersection]"
   ]
  },
  {
   "cell_type": "code",
   "execution_count": 143,
   "metadata": {},
   "outputs": [],
   "source": [
    "real = pd.read_excel(\"C:\\\\code\\\\activ\\\\documents\\\\aug_nine_var.xlsx\").iloc[:,1:22].to_numpy()[-1]"
   ]
  },
  {
   "cell_type": "code",
   "execution_count": 144,
   "metadata": {},
   "outputs": [
    {
     "name": "stdout",
     "output_type": "stream",
     "text": [
      "(1000, 22)\n"
     ]
    }
   ],
   "source": [
    "print(basic_gen.shape)"
   ]
  },
  {
   "cell_type": "code",
   "execution_count": 145,
   "metadata": {},
   "outputs": [],
   "source": [
    "concat_result = []\n",
    "\n",
    "for i in range(21):\n",
    "    concat_result.append([])\n",
    "    for j in range(len(basic_gen)):\n",
    "        concat_result[i].append(basic_gen[:,i][j])\n",
    "\n",
    "for i in range(21):\n",
    "    for j in range(len(basic_gen_formula)):\n",
    "        concat_result[i].append(basic_gen_formula[:,i][j])\n",
    "\n",
    "for i in range(21):\n",
    "    for j in range(len(gan_based)):\n",
    "        concat_result[i].append(gan_based[:,i][j])\n",
    "\n",
    "for i in range(21):\n",
    "    for j in range(len(gan_based_formula)):\n",
    "        concat_result[i].append(gan_based_formula[:,i][j])\n",
    "\n",
    "for i in range(21):\n",
    "    for j in range(len(ae_gen_formula)):\n",
    "        concat_result[i].append(ae_gen_formula[:,i][j])\n",
    "\n",
    "for i in range(21):\n",
    "    for j in range(len(q_learning)):\n",
    "        concat_result[i].append(q_learning[:,i][j])\n",
    "\n",
    "for i in range(21):\n",
    "    for j in range(len(dqn)):\n",
    "        concat_result[i].append(dqn[:,i][j])\n",
    "\n",
    "for i in range(21):\n",
    "    for j in range(len(gan_q_learning)):\n",
    "        concat_result[i].append(gan_q_learning[:,i][j])\n",
    "\n",
    "for i in range(21):\n",
    "    for j in range(len(ae_intersection)):\n",
    "        concat_result[i].append(ae_intersection[:,i][j])\n",
    "\n",
    "for i in range(21):\n",
    "    concat_result[i].append(real[i])\n",
    "\n",
    "concat_result = np.array(concat_result)\n",
    "concat_result = concat_result.T"
   ]
  },
  {
   "cell_type": "code",
   "execution_count": 146,
   "metadata": {},
   "outputs": [],
   "source": [
    "concat_index = [0]\n",
    "concat_index.append(len(basic_gen))\n",
    "concat_index.append(len(basic_gen_formula))\n",
    "concat_index.append(len(gan_based))\n",
    "concat_index.append(len(gan_based_formula))\n",
    "concat_index.append(len(ae_gen_formula))\n",
    "concat_index.append(len(q_learning))\n",
    "concat_index.append(len(dqn))\n",
    "concat_index.append(len(gan_q_learning))\n",
    "concat_index.append(len(ae_intersection))"
   ]
  },
  {
   "cell_type": "code",
   "execution_count": 147,
   "metadata": {},
   "outputs": [],
   "source": [
    "scaler = MinMaxScaler()\n",
    "concat_result = scaler.fit_transform(concat_result)"
   ]
  },
  {
   "cell_type": "code",
   "execution_count": 148,
   "metadata": {},
   "outputs": [
    {
     "data": {
      "text/plain": [
       "(3622, 21)"
      ]
     },
     "execution_count": 148,
     "metadata": {},
     "output_type": "execute_result"
    }
   ],
   "source": [
    "concat_result.shape"
   ]
  },
  {
   "cell_type": "code",
   "execution_count": 149,
   "metadata": {},
   "outputs": [],
   "source": [
    "def return_distance(key, index):\n",
    "    dis = 0\n",
    "    \n",
    "    for i in range(21):\n",
    "        dis = dis + math.sqrt((concat_result[index + key][i] - concat_result[-1][i]) ** 2)\n",
    "        \n",
    "    return dis"
   ]
  },
  {
   "cell_type": "code",
   "execution_count": 150,
   "metadata": {},
   "outputs": [],
   "source": [
    "distance_list = []\n",
    "for i in range(len(concat_index)-1):\n",
    "    key = np.argmin(result_gen[i][:,21])\n",
    "    index = concat_index[i]\n",
    "\n",
    "    dist = return_distance(key, index)\n",
    "    distance_list.append(dist)\n",
    "dist_array = np.array(distance_list)"
   ]
  },
  {
   "cell_type": "code",
   "execution_count": 151,
   "metadata": {},
   "outputs": [
    {
     "name": "stdout",
     "output_type": "stream",
     "text": [
      "2.111339\n",
      "2.233178\n",
      "2.205002\n",
      "2.016868\n",
      "2.029192\n",
      "2.155276\n",
      "2.185413\n",
      "2.188959\n",
      "2.15099\n"
     ]
    }
   ],
   "source": [
    "for i in range(9):\n",
    "    print(round(dist_array[i], 6))"
   ]
  },
  {
   "cell_type": "code",
   "execution_count": 157,
   "metadata": {},
   "outputs": [
    {
     "name": "stdout",
     "output_type": "stream",
     "text": [
      "15.83\n",
      "14.82\n",
      "37.79\n",
      "20.94\n",
      "26.52\n",
      "34.33\n",
      "37.74\n",
      "35.18\n",
      "35.85\n"
     ]
    }
   ],
   "source": [
    "for i in range(9):\n",
    "    print(round(np.min(result_gen[i][:,21]), 2))"
   ]
  },
  {
   "cell_type": "code",
   "execution_count": null,
   "metadata": {},
   "outputs": [],
   "source": []
  }
 ],
 "metadata": {
  "kernelspec": {
   "display_name": "Python 3.8.13 ('tens-cpu38')",
   "language": "python",
   "name": "python3"
  },
  "language_info": {
   "codemirror_mode": {
    "name": "ipython",
    "version": 3
   },
   "file_extension": ".py",
   "mimetype": "text/x-python",
   "name": "python",
   "nbconvert_exporter": "python",
   "pygments_lexer": "ipython3",
   "version": "3.8.13"
  },
  "orig_nbformat": 4,
  "vscode": {
   "interpreter": {
    "hash": "4d69d666dea1d14e04e4d38b06e20d4d04fc31a418cef854ebdceb8b68a0927a"
   }
  }
 },
 "nbformat": 4,
 "nbformat_minor": 2
}
