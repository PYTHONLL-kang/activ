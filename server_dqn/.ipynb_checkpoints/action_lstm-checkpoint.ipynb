{
 "cells": [
  {
   "cell_type": "code",
   "execution_count": 1,
   "metadata": {},
   "outputs": [],
   "source": [
    "import pandas as pd\n",
    "import numpy as np\n",
    "import matplotlib.pyplot as plt\n",
    "import random as rand\n",
    "\n",
    "import tensorflow as tf\n",
    "from sklearn.model_selection import train_test_split\n",
    "from sklearn.preprocessing import MinMaxScaler"
   ]
  },
  {
   "cell_type": "code",
   "execution_count": 2,
   "metadata": {},
   "outputs": [],
   "source": [
    "LENGTH = 60"
   ]
  },
  {
   "cell_type": "code",
   "execution_count": 3,
   "metadata": {},
   "outputs": [],
   "source": [
    "from tensorflow.python.ops.numpy_ops import np_config\n",
    "np_config.enable_numpy_behavior()\n",
    "\n",
    "tf.config.run_functions_eagerly(True)\n",
    "tf.data.experimental.enable_debug_mode()"
   ]
  },
  {
   "cell_type": "code",
   "execution_count": 4,
   "metadata": {},
   "outputs": [],
   "source": [
    "df_name = 'nov_nine_var.xlsx'"
   ]
  },
  {
   "cell_type": "code",
   "execution_count": 5,
   "metadata": {},
   "outputs": [],
   "source": [
    "df = pd.read_excel(df_name).iloc[:,1::]\n",
    "X = df.iloc[:,0:21].to_numpy()\n",
    "y = df.iloc[:,-1].to_numpy()"
   ]
  },
  {
   "cell_type": "code",
   "execution_count": 6,
   "metadata": {},
   "outputs": [],
   "source": [
    "goal_df = pd.read_excel('./basic_formula.xlsx').iloc[:,-1].to_numpy()\n",
    "goal = goal_df[[min(range(len(goal_df)), key=lambda i: goal_df[i])]]"
   ]
  },
  {
   "cell_type": "code",
   "execution_count": 7,
   "metadata": {},
   "outputs": [],
   "source": [
    "scaler = MinMaxScaler()\n",
    "X = scaler.fit_transform(X)"
   ]
  },
  {
   "cell_type": "code",
   "execution_count": 8,
   "metadata": {},
   "outputs": [],
   "source": [
    "ACTION_NUM = 5\n",
    "LENGTH = 60"
   ]
  },
  {
   "cell_type": "code",
   "execution_count": 9,
   "metadata": {},
   "outputs": [],
   "source": [
    "def make_dataset(X, length, n=150, test_size=0.2):\n",
    "    X_data, y_data = [], []\n",
    "\n",
    "    for i in range(int(n/(1-test_size))):\n",
    "        idx = rand.randint(0, len(X)-length-2)\n",
    "        X_data.append(X[idx:idx+length])\n",
    "        y_data.append(X[idx+length+1])\n",
    "\n",
    "    X_data = np.array(X_data)\n",
    "    y_data = np.array(y_data)\n",
    "\n",
    "    return train_test_split(X_data, y_data, test_size=test_size, shuffle=False)"
   ]
  },
  {
   "cell_type": "code",
   "execution_count": 10,
   "metadata": {},
   "outputs": [],
   "source": [
    "class Model_(tf.keras.Model):\n",
    "    def __init__(self):\n",
    "        super(Model_, self).__init__()\n",
    "        self.d0 = tf.keras.layers.LSTM(64, activation='tanh', kernel_initializer=tf.keras.initializers.GlorotUniform() , return_sequences=True, dropout=0.2)\n",
    "        self.d1 = tf.keras.layers.LSTM(32, activation='tanh', return_sequences=False)\n",
    "        self.d2 = tf.keras.layers.Dense(32, activation='relu', kernel_initializer=tf.keras.initializers.HeNormal())\n",
    "        self.d3 = tf.keras.layers.Dense(units=21, activation='linear')\n",
    "\n",
    "        self.batch_norm = tf.keras.layers.BatchNormalization()\n",
    "\n",
    "    def call(self, inputs):\n",
    "        x = self.d0(inputs)\n",
    "        x = self.d1(x)\n",
    "        x = self.batch_norm(x, training=False)\n",
    "        x = self.d2(x)\n",
    "        x = self.d3(x)\n",
    "\n",
    "        return x"
   ]
  },
  {
   "cell_type": "code",
   "execution_count": 11,
   "metadata": {},
   "outputs": [],
   "source": [
    "model_list = [Model_() for i in range(ACTION_NUM)]"
   ]
  },
  {
   "cell_type": "code",
   "execution_count": 12,
   "metadata": {},
   "outputs": [
    {
     "name": "stdout",
     "output_type": "stream",
     "text": [
      "0\n",
      "1\n",
      "2\n",
      "3\n",
      "4\n"
     ]
    }
   ],
   "source": [
    "for i in range(5):\n",
    "    model_list[i].build(input_shape=(1, LENGTH, 21))\n",
    "    model_list[i].compile(optimizer='adam', loss='mse')\n",
    "    d = make_dataset(X, LENGTH)\n",
    "    print(i)\n",
    "    model_list[i].fit(d[0], d[2], epochs=10000, batch_size=1024, validation_data=(d[1], d[3]), verbose=0)"
   ]
  },
  {
   "cell_type": "code",
   "execution_count": 13,
   "metadata": {},
   "outputs": [
    {
     "ename": "TypeError",
     "evalue": "unsupported operand type(s) for /: 'list' and 'int'",
     "output_type": "error",
     "traceback": [
      "\u001b[0;31m---------------------------------------------------------------------------\u001b[0m",
      "\u001b[0;31mTypeError\u001b[0m                                 Traceback (most recent call last)",
      "Cell \u001b[0;32mIn [13], line 6\u001b[0m\n\u001b[1;32m      4\u001b[0m     d \u001b[38;5;241m=\u001b[39m make_dataset(X, \u001b[38;5;241m60\u001b[39m)\n\u001b[1;32m      5\u001b[0m     error[i] \u001b[38;5;241m+\u001b[39m\u001b[38;5;241m=\u001b[39m model_list[i]\u001b[38;5;241m.\u001b[39mevaluate(d[\u001b[38;5;241m1\u001b[39m], d[\u001b[38;5;241m3\u001b[39m], verbose\u001b[38;5;241m=\u001b[39m\u001b[38;5;241m0\u001b[39m)\n\u001b[0;32m----> 6\u001b[0m \u001b[38;5;28mprint\u001b[39m(\u001b[43merror\u001b[49m\u001b[38;5;241;43m/\u001b[39;49m\u001b[38;5;241;43m100\u001b[39;49m)\n",
      "\u001b[0;31mTypeError\u001b[0m: unsupported operand type(s) for /: 'list' and 'int'"
     ]
    }
   ],
   "source": [
    "error = [0 for i in range(5)]\n",
    "# for j in range(100):\n",
    "for i in range(5):\n",
    "    d = make_dataset(X, 60)\n",
    "    error[i] += model_list[i].evaluate(d[1], d[3], verbose=0)"
   ]
  },
  {
   "cell_type": "code",
   "execution_count": 14,
   "metadata": {},
   "outputs": [
    {
     "name": "stdout",
     "output_type": "stream",
     "text": [
      "[0.002667507156729698, 0.002787933452054858, 0.00285320938564837, 0.0031804866157472134, 0.0037142951041460037]\n"
     ]
    }
   ],
   "source": [
    "print(error)"
   ]
  },
  {
   "cell_type": "code",
   "execution_count": 15,
   "metadata": {},
   "outputs": [],
   "source": [
    "dnn_model = tf.keras.models.load_model('./model/dnn.h5')"
   ]
  },
  {
   "cell_type": "code",
   "execution_count": 16,
   "metadata": {},
   "outputs": [],
   "source": [
    "def shift_data(origin, d, length):\n",
    "    shift_d = tf.concat((origin[0][1::], d), axis=0).reshape(1, LENGTH, 21)\n",
    "    return shift_d"
   ]
  },
  {
   "cell_type": "code",
   "execution_count": 17,
   "metadata": {},
   "outputs": [],
   "source": [
    "class Node:\n",
    "    def __init__(self, parent, state):\n",
    "        self.parent = parent\n",
    "        self.child = None\n",
    "        self.state = state"
   ]
  },
  {
   "cell_type": "code",
   "execution_count": 18,
   "metadata": {},
   "outputs": [],
   "source": [
    "class Tree:\n",
    "    def __init__(self, leaf_num, grow_type):\n",
    "        self.root = None\n",
    "        self.state_list = []\n",
    "        self.type = grow_type\n",
    "        self.leaf_num = leaf_num\n",
    "        self.size = 0\n",
    "        self.depth = 1\n",
    "\n",
    "    def _size(self):\n",
    "        i = 0\n",
    "        t = self.size\n",
    "        while True:\n",
    "            t -=  self.leaf_num**i\n",
    "            i += 1\n",
    "\n",
    "            if t == 0:\n",
    "                break\n",
    "\n",
    "        self.depth = i\n",
    "\n",
    "    @tf.function\n",
    "    def average_the_state(self, node, child_state):\n",
    "        state = tf.Variable(tf.zeros((5, 1, 21)))\n",
    "        for i in range(5):\n",
    "            state = state[i].assign(child_state[i][0][-1].reshape(1, 21))\n",
    "\n",
    "        mean_state = tf.reduce_mean(state, 0)\n",
    "        return mean_state\n",
    "\n",
    "    @tf.function\n",
    "    def sort_by_value(self, node, child_state):\n",
    "        value = tf.Variable(tf.zeros(5))\n",
    "        for i in range(5):\n",
    "            state = child_state[i][0][-1].reshape(1, 21)\n",
    "            value = value[i].assign(dnn_model(state)[0][0])\n",
    "\n",
    "        argsort_order = tf.argsort(value)\n",
    "        return argsort_order\n",
    "\n",
    "    def pruning(self, leaf_node):\n",
    "        if leaf_node.parent == None:\n",
    "            return\n",
    "            \n",
    "        if leaf_node.parent.parent == None:\n",
    "            return\n",
    "\n",
    "        node = leaf_node.parent.parent\n",
    "        child_value_list = np.zeros((self.leaf_num, self.leaf_num))\n",
    "        for i in range(self.leaf_num):\n",
    "            if node.child[i] == None:\n",
    "                break\n",
    "\n",
    "            for ii in range(self.leaf_num):\n",
    "                if node.child[i].child[ii] == None:\n",
    "                    break\n",
    "\n",
    "                child_value_list[i][ii] = dnn_model(node.child[i].child[ii].state[0][-1].reshape(1, 21))\n",
    "\n",
    "            node.child[i].child = node.child[i].child[np.argmin(child_value_list[i])]\n",
    "\n",
    "        return node\n",
    "\n",
    "    def push(self, state):\n",
    "        node = Node(None, state)\n",
    "\n",
    "        node.child = [Node for i in range(self.leaf_num)]\n",
    "\n",
    "        if type(self.type) == int:\n",
    "            node.child[0] = Node(node, shift_data(state, model_list[self.type](state), LENGTH))\n",
    "            self.size += 1\n",
    "\n",
    "            return node\n",
    "\n",
    "        child_state = np.zeros((5, 1, LENGTH, 21))\n",
    "\n",
    "        for i in range(5):\n",
    "            child_state[i] = shift_data(state, model_list[i](state), LENGTH)\n",
    "\n",
    "        if self.type == 'min':\n",
    "            sorting_child_state = self.sort_by_value(node, child_state)\n",
    "            for j in range(self.leaf_num):\n",
    "                i = sorting_child_state[j]\n",
    "                node.child[j] = Node(node, child_state[i])\n",
    "\n",
    "        if self.type == 'mean':\n",
    "            mean_child_state = self.average_the_state(node, child_state)\n",
    "            for i in range(self.leaf_num):\n",
    "                node.child[i] = Node(node, shift_data(state, mean_child_state, LENGTH))\n",
    "            \n",
    "        self.size += 1\n",
    "\n",
    "        return node\n",
    "    \n",
    "    def post_order(self):\n",
    "        self.state_list = []\n",
    "        def _post_order(node):\n",
    "            if node.child != None:\n",
    "                for i in range(self.leaf_num):\n",
    "                    _post_order(node.child[i])\n",
    "            self.state_list.append(node.state[0][-1].reshape(1, 21))\n",
    "\n",
    "        _post_order(self.root)\n",
    "\n",
    "    def sort_value_by_level(self):\n",
    "        self.post_order()\n",
    "        self._size()\n",
    "        arr = np.zeros((self.depth, self.leaf_num))\n",
    "        counter = np.zeros(self.depth, dtype=np.int8)\n",
    "\n",
    "        c = self.depth -1\n",
    "        for s in self.state_list:\n",
    "            if counter[c] >= self.leaf_num:\n",
    "                c -= 1\n",
    "\n",
    "            arr[c][counter[c]] = dnn_model(s)\n",
    "            counter[c] += 1\n",
    "\n",
    "            if c == 0:\n",
    "                break\n",
    "            \n",
    "            if counter[c] % self.leaf_num == 0 and self.leaf_num != 1:\n",
    "                arr[c-1][counter[c-1]] = dnn_model(s)\n",
    "                counter[c-1] += 1\n",
    "\n",
    "        return arr\n",
    "\n",
    "    def sort_state_by_level(self):\n",
    "        self.post_order()\n",
    "        self._size()\n",
    "        arr = np.zeros((self.depth, self.leaf_num, 1, 21))\n",
    "        counter = np.zeros(self.depth, dtype=np.int8)\n",
    "\n",
    "        c = self.depth -1\n",
    "        for s in self.state_list:\n",
    "            if counter[c] >= self.leaf_num:\n",
    "                c -= 1\n",
    "\n",
    "            arr[c][counter[c]][0] = s\n",
    "            counter[c] += 1\n",
    "\n",
    "            if c == 0:\n",
    "                break\n",
    "            \n",
    "            if counter[c] % self.leaf_num == 0 and self.leaf_num != 1:\n",
    "                arr[c-1][counter[c-1]][0] = s\n",
    "                counter[c-1] += 1\n",
    "\n",
    "        return arr"
   ]
  },
  {
   "cell_type": "code",
   "execution_count": 19,
   "metadata": {},
   "outputs": [],
   "source": [
    "def grow(leaf, grow_type, end, root_data):\n",
    "    def _grow(tree, node, t, end):\n",
    "        if t >= end:\n",
    "            return\n",
    "\n",
    "        if t % 2 == 0:\n",
    "            tree.pruning(node)\n",
    "\n",
    "        for i in range(leaf):\n",
    "            node.child[i] = tree.push(node.child[i].state)\n",
    "            _grow(tree, node.child[i], t+1, end)\n",
    "\n",
    "    tree = Tree(leaf, grow_type)\n",
    "    tree.root = tree.push(root_data)\n",
    "    _grow(tree, tree.root, 0, end)\n",
    "\n",
    "    return tree"
   ]
  },
  {
   "cell_type": "code",
   "execution_count": 20,
   "metadata": {},
   "outputs": [],
   "source": [
    "b = []\n",
    "for i in range(0, len(X)-LENGTH):\n",
    "    b.append(X[i:i+LENGTH])\n",
    "b = np.array(b).reshape(len(b), LENGTH, 21)\n",
    "\n",
    "c_list = ['b', 'g', 'r', 'y', 'm']"
   ]
  },
  {
   "cell_type": "code",
   "execution_count": 21,
   "metadata": {},
   "outputs": [
    {
     "data": {
      "image/png": "[encoded data removed]",
      "text/plain": [
       "<Figure size 1600x800 with 2 Axes>"
      ]
     },
     "metadata": {},
     "output_type": "display_data"
    }
   ],
   "source": [
    "plt.figure(figsize=(16, 8))\n",
    "\n",
    "plt.subplot(1, 2, 1)\n",
    "\n",
    "for i in range(5):\n",
    "    plt.plot(dnn_model.predict(model_list[i](b), verbose=0), c=c_list[i])\n",
    "\n",
    "plt.plot(y, c='black')\n",
    "\n",
    "plt.subplot(1, 2, 2)\n",
    "real_data_len = len(X)\n",
    "plt.plot([i for i in range(real_data_len)], dnn_model(X), c='black')\n",
    "\n",
    "e = 400\n",
    "root = b[-1].reshape(1, LENGTH, 21)\n",
    "\n",
    "for t in range(ACTION_NUM):\n",
    "    pred_list = []\n",
    "    tree = grow(1, t, e, root)\n",
    "    l = tree.sort_value_by_level()\n",
    "\n",
    "    for j in range(l.shape[0]):\n",
    "        for i in range(l.shape[1]):\n",
    "            if l[j][i] != 0:\n",
    "                pred_list.append(l[j][i])\n",
    "\n",
    "    plt.plot([i for i in range(real_data_len, e+real_data_len+1)], pred_list, c=c_list[t])\n",
    "\n",
    "plt.scatter(real_data_len+e+5, goal, c='gold')\n",
    "plt.show()"
   ]
  },
  {
   "cell_type": "code",
   "execution_count": null,
   "metadata": {},
   "outputs": [],
   "source": []
  },
  {
   "cell_type": "code",
   "execution_count": 22,
   "metadata": {},
   "outputs": [
    {
     "name": "stderr",
     "output_type": "stream",
     "text": [
      "WARNING:absl:Found untraced functions such as _update_step_xla, lstm_cell_layer_call_fn, lstm_cell_layer_call_and_return_conditional_losses, lstm_cell_1_layer_call_fn, lstm_cell_1_layer_call_and_return_conditional_losses while saving (showing 5 of 5). These functions will not be directly callable after loading.\n"
     ]
    },
    {
     "name": "stdout",
     "output_type": "stream",
     "text": [
      "INFO:tensorflow:Assets written to: ./model/action_net/action_net0/assets\n"
     ]
    },
    {
     "name": "stderr",
     "output_type": "stream",
     "text": [
      "INFO:tensorflow:Assets written to: ./model/action_net/action_net0/assets\n"
     ]
    },
    {
     "name": "stdout",
     "output_type": "stream",
     "text": [
      "0\n"
     ]
    },
    {
     "name": "stderr",
     "output_type": "stream",
     "text": [
      "WARNING:absl:Found untraced functions such as _update_step_xla, lstm_cell_2_layer_call_fn, lstm_cell_2_layer_call_and_return_conditional_losses, lstm_cell_3_layer_call_fn, lstm_cell_3_layer_call_and_return_conditional_losses while saving (showing 5 of 5). These functions will not be directly callable after loading.\n"
     ]
    },
    {
     "name": "stdout",
     "output_type": "stream",
     "text": [
      "INFO:tensorflow:Assets written to: ./model/action_net/action_net1/assets\n"
     ]
    },
    {
     "name": "stderr",
     "output_type": "stream",
     "text": [
      "INFO:tensorflow:Assets written to: ./model/action_net/action_net1/assets\n"
     ]
    },
    {
     "name": "stdout",
     "output_type": "stream",
     "text": [
      "1\n"
     ]
    },
    {
     "name": "stderr",
     "output_type": "stream",
     "text": [
      "WARNING:absl:Found untraced functions such as _update_step_xla, lstm_cell_4_layer_call_fn, lstm_cell_4_layer_call_and_return_conditional_losses, lstm_cell_5_layer_call_fn, lstm_cell_5_layer_call_and_return_conditional_losses while saving (showing 5 of 5). These functions will not be directly callable after loading.\n"
     ]
    },
    {
     "name": "stdout",
     "output_type": "stream",
     "text": [
      "INFO:tensorflow:Assets written to: ./model/action_net/action_net2/assets\n"
     ]
    },
    {
     "name": "stderr",
     "output_type": "stream",
     "text": [
      "INFO:tensorflow:Assets written to: ./model/action_net/action_net2/assets\n"
     ]
    },
    {
     "name": "stdout",
     "output_type": "stream",
     "text": [
      "2\n"
     ]
    },
    {
     "name": "stderr",
     "output_type": "stream",
     "text": [
      "WARNING:absl:Found untraced functions such as _update_step_xla, lstm_cell_6_layer_call_fn, lstm_cell_6_layer_call_and_return_conditional_losses, lstm_cell_7_layer_call_fn, lstm_cell_7_layer_call_and_return_conditional_losses while saving (showing 5 of 5). These functions will not be directly callable after loading.\n"
     ]
    },
    {
     "name": "stdout",
     "output_type": "stream",
     "text": [
      "INFO:tensorflow:Assets written to: ./model/action_net/action_net3/assets\n"
     ]
    },
    {
     "name": "stderr",
     "output_type": "stream",
     "text": [
      "INFO:tensorflow:Assets written to: ./model/action_net/action_net3/assets\n"
     ]
    },
    {
     "name": "stdout",
     "output_type": "stream",
     "text": [
      "3\n"
     ]
    },
    {
     "name": "stderr",
     "output_type": "stream",
     "text": [
      "WARNING:absl:Found untraced functions such as _update_step_xla, lstm_cell_8_layer_call_fn, lstm_cell_8_layer_call_and_return_conditional_losses, lstm_cell_9_layer_call_fn, lstm_cell_9_layer_call_and_return_conditional_losses while saving (showing 5 of 5). These functions will not be directly callable after loading.\n"
     ]
    },
    {
     "name": "stdout",
     "output_type": "stream",
     "text": [
      "INFO:tensorflow:Assets written to: ./model/action_net/action_net4/assets\n"
     ]
    },
    {
     "name": "stderr",
     "output_type": "stream",
     "text": [
      "INFO:tensorflow:Assets written to: ./model/action_net/action_net4/assets\n"
     ]
    },
    {
     "name": "stdout",
     "output_type": "stream",
     "text": [
      "4\n"
     ]
    }
   ],
   "source": [
    "for i in range(5):\n",
    "    model_list[i].save('./model/action_net/action_net{0}'.format(i))\n",
    "    print(i)"
   ]
  },
  {
   "cell_type": "code",
   "execution_count": null,
   "metadata": {},
   "outputs": [],
   "source": [
    "faker = tf.keras.Sequential()\n",
    "faker.add(tf.keras.layers.LSTM(128, input_shape=(12, 1), activation='tanh', return_sequences=False))\n",
    "faker.add(tf.keras.layers.Dense(64, activation='relu'))\n",
    "faker.add(tf.keras.layers.Dense(1, activation='linear'))\n",
    "faker.compile(optimizer='adam', loss='mse')"
   ]
  },
  {
   "cell_type": "code",
   "execution_count": null,
   "metadata": {},
   "outputs": [],
   "source": [
    "X_data = []\n",
    "y_data = []\n",
    "for idx in range(len(y)-12-1):\n",
    "    X_data.append(y[idx:idx+12])\n",
    "    y_data.append(y[idx+12+1])\n",
    "dd = train_test_split(np.array(X_data), np.array(y_data))\n",
    "faker.fit(dd[0], dd[2], epochs=1000, batch_size=128, validation_data=(dd[1], dd[3]), callbacks=[tf.keras.callbacks.EarlyStopping(patience=10)])"
   ]
  },
  {
   "cell_type": "code",
   "execution_count": null,
   "metadata": {},
   "outputs": [],
   "source": [
    "def fake(data, li, t):\n",
    "    if len(li) >= 100:\n",
    "        return li\n",
    "    \n",
    "    d = faker(data).reshape(1, 1)\n",
    "    v = np.concatenate((data[0][1::], d), axis=0).reshape(1, 12, 1)\n",
    "    li.append(v)\n",
    "    li = fake(li[-1], li, t+1)\n",
    "    return li"
   ]
  },
  {
   "cell_type": "code",
   "execution_count": null,
   "metadata": {},
   "outputs": [],
   "source": [
    "li = fake(y[-13:-1].reshape(1, 12, 1), [], 0)\n",
    "a = []\n",
    "for i in range(len(li)):\n",
    "    a.append(li[i][0][0])\n",
    "for i in range(11):\n",
    "    a.append(li[99][0][i+1])\n",
    "plt.plot(y, label='real_data')\n",
    "plt.plot([i-3 for i in range(len(y), len(y)+len(a))], a, linestyle='dashed', label='prediction')\n",
    "plt.legend()\n",
    "plt.savefig('./documents/fig/faker_lstm.jpg')\n",
    "plt.show()"
   ]
  },
  {
   "cell_type": "code",
   "execution_count": null,
   "metadata": {},
   "outputs": [],
   "source": []
  }
 ],
 "metadata": {
  "kernelspec": {
   "display_name": "Python 3",
   "language": "python",
   "name": "python3"
  },
  "vscode": {
   "interpreter": {
    "hash": "78ddfc3686b8b7161f2836984651df038ec9a0366954334fc42499f59ad2b3c8"
   }
  }
 },
 "nbformat": 4,
 "nbformat_minor": 2
}
