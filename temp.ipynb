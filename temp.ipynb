{
 "cells": [
  {
   "cell_type": "code",
   "execution_count": 1,
   "metadata": {},
   "outputs": [],
   "source": [
    "import tensorflow as tf"
   ]
  },
  {
   "cell_type": "code",
   "execution_count": 7,
   "metadata": {},
   "outputs": [],
   "source": [
    "STATE_SIZE = 10"
   ]
  },
  {
   "cell_type": "code",
   "execution_count": 8,
   "metadata": {},
   "outputs": [],
   "source": [
    "input_layer = tf.keras.layers.Input(shape=(STATE_SIZE,))\n",
    "\n",
    "hidden1 = tf.keras.layers.Dense(64, activation='relu')(input_layer)\n",
    "hidden2 = tf.keras.layers.Dense(32, activation='relu')(hidden1)\n",
    "\n",
    "output_layer0 = tf.keras.layers.Dense(1, activation='softmax')(hidden2)\n",
    "output_layer1 = tf.keras.layers.Dense(3, activation='sigmoid')(hidden2)\n",
    "output_layer2 = tf.keras.layers.Dense(1, activation='tanh')(hidden2)\n",
    " \n",
    "agent_net = tf.keras.Model(inputs=[input_layer], outputs=[output_layer0, output_layer1, output_layer2])"
   ]
  },
  {
   "cell_type": "code",
   "execution_count": 6,
   "metadata": {},
   "outputs": [],
   "source": [
    "agent_net.compile(optimizer='Adam', loss=['mse', 'mse', 'mse'])"
   ]
  },
  {
   "cell_type": "code",
   "execution_count": 9,
   "metadata": {},
   "outputs": [],
   "source": [
    "def return_reward(state):\n",
    "    pass"
   ]
  },
  {
   "cell_type": "code",
   "execution_count": 10,
   "metadata": {},
   "outputs": [],
   "source": [
    "def next_state(state, action):\n",
    "    pass"
   ]
  },
  {
   "cell_type": "code",
   "execution_count": 12,
   "metadata": {},
   "outputs": [],
   "source": [
    "def is_goal():\n",
    "    \"\"\"\n",
    "    에피소드가 끝났는지 확인\n",
    "    \"\"\"\n",
    "\n",
    "    pass"
   ]
  },
  {
   "cell_type": "code",
   "execution_count": 11,
   "metadata": {},
   "outputs": [],
   "source": [
    "class Agent:\n",
    "    def __init__(self, gamma):\n",
    "        self.model = agent_net\n",
    "        self.gamma = gamma\n",
    "\n",
    "    def act(self, x):\n",
    "        a = self.model(x)\n",
    "        return a\n",
    "\n",
    "    def run(self, x, a, r, s):\n",
    "        state = tf.convert_to_tensor(x).reshape(s, STATE_SIZE)\n",
    "        action = tf.convert_to_tensor(a)\n",
    "        reward = tf.convert_to_tensor(r)\n",
    "\n",
    "        loss = self.learn(state, action, reward)\n",
    "        return loss\n",
    "\n",
    "    @tf.function\n",
    "    def learn(self, x, a, r):\n",
    "\n",
    "        with tf.GradientTape() as tape:\n",
    "            a = self.model(x)\n",
    "            \n",
    "        \n",
    "        return None"
   ]
  },
  {
   "cell_type": "code",
   "execution_count": null,
   "metadata": {},
   "outputs": [],
   "source": [
    "agent = Agent()\n",
    "init_state = None\n",
    "\n",
    "MAX_EPISODE = None\n",
    "MAX_STEP = None  \n",
    "print_freq = None\n",
    "\n",
    "for e in range(MAX_EPISODE):\n",
    "    state_hist = []\n",
    "    action_hist []\n",
    "    reward_hist = []\n",
    "\n",
    "    state = init_state\n",
    "    steps = 0\n",
    "\n",
    "    while True:\n",
    "        if steps == MAX_STEP or is_goal():\n",
    "            loss = agent.run(state_hist, action_hist, reward_hist, steps)\n",
    "            \n",
    "            if e % print_freq == 0:\n",
    "                print(f'episode : {e}, reward : {reward}, loss : {loss}')\n",
    "            break\n",
    "\n",
    "        action = agent.act(state)\n",
    "        next_state = return_state(state, action)\n",
    "        reward = return_reward(next_state)\n",
    "\n",
    "        state_hist.append(state)\n",
    "        action_hist.append(action)\n",
    "        reward_hist.append(reward)\n",
    "\n",
    "        state = next_state\n",
    "        steps += 1"
   ]
  }
 ],
 "metadata": {
  "kernelspec": {
   "display_name": "Python 3.10.8 ('tf')",
   "language": "python",
   "name": "python3"
  },
  "language_info": {
   "codemirror_mode": {
    "name": "ipython",
    "version": 3
   },
   "file_extension": ".py",
   "mimetype": "text/x-python",
   "name": "python",
   "nbconvert_exporter": "python",
   "pygments_lexer": "ipython3",
   "version": "3.10.8"
  },
  "orig_nbformat": 4,
  "vscode": {
   "interpreter": {
    "hash": "78ddfc3686b8b7161f2836984651df038ec9a0366954334fc42499f59ad2b3c8"
   }
  }
 },
 "nbformat": 4,
 "nbformat_minor": 2
}
