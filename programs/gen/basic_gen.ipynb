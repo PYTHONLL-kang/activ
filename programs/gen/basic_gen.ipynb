{
 "cells": [
  {
   "cell_type": "code",
   "execution_count": 1,
   "metadata": {},
   "outputs": [],
   "source": [
    "import pandas as pd\n",
    "import numpy as np\n",
    "import tensorflow as tf\n",
    "from sklearn.preprocessing import MinMaxScaler\n",
    "from sklearn.model_selection import train_test_split"
   ]
  },
  {
   "cell_type": "code",
   "execution_count": 2,
   "metadata": {},
   "outputs": [],
   "source": [
    "df = pd.read_excel('aug_nine_var.xlsx').iloc[:,1::]\n",
    "X = df.iloc[:,0:21]\n",
    "y = df.iloc[:,21::].to_numpy()"
   ]
  },
  {
   "cell_type": "code",
   "execution_count": 3,
   "metadata": {},
   "outputs": [
    {
     "data": {
      "text/plain": [
       "(395, 21)"
      ]
     },
     "execution_count": 3,
     "metadata": {},
     "output_type": "execute_result"
    }
   ],
   "source": [
    "scaler = MinMaxScaler()\n",
    "X = scaler.fit_transform(X)\n",
    "X.shape"
   ]
  },
  {
   "cell_type": "code",
   "execution_count": 4,
   "metadata": {},
   "outputs": [],
   "source": [
    "dnn_model = tf.keras.models.load_model('dnn.h5')"
   ]
  },
  {
   "cell_type": "code",
   "execution_count": 5,
   "metadata": {},
   "outputs": [],
   "source": [
    "def my_loss(real, X_pred):\n",
    "    y_pred = dnn_model(X_pred)\n",
    "    return tf.math.subtract(y_pred, 42)"
   ]
  },
  {
   "cell_type": "code",
   "execution_count": 6,
   "metadata": {},
   "outputs": [],
   "source": [
    "def return_latest():\n",
    "    df = pd.read_excel('aug_nine_var.xlsx').iloc[:,1::]\n",
    "    X = df.iloc[:,0:21]\n",
    "    scaler = MinMaxScaler()\n",
    "    X = scaler.fit_transform(X)\n",
    "\n",
    "    return X[-1]"
   ]
  },
  {
   "cell_type": "code",
   "execution_count": 7,
   "metadata": {},
   "outputs": [],
   "source": [
    "generator = tf.keras.Sequential()\n",
    "generator.add(tf.keras.layers.Dense(256, input_dim=21, activation='relu'))\n",
    "generator.add(tf.keras.layers.Dense(128, activation='relu'))\n",
    "generator.add(tf.keras.layers.Dense(64, activation='relu'))\n",
    "generator.add(tf.keras.layers.Dense(32, activation='relu'))\n",
    "generator.add(tf.keras.layers.Dense(21, activation='tanh'))\n",
    "\n",
    "generator.compile(loss=my_loss, optimizer='adam')"
   ]
  },
  {
   "cell_type": "code",
   "execution_count": 8,
   "metadata": {},
   "outputs": [
    {
     "name": "stdout",
     "output_type": "stream",
     "text": [
      "epoch: 0, loss: [[-1.4577484]]\n",
      "epoch: 10, loss: [[-5.499859]]\n",
      "epoch: 20, loss: [[-9.957203]]\n",
      "epoch: 30, loss: [[-15.119354]]\n",
      "epoch: 40, loss: [[-16.674128]]\n",
      "epoch: 50, loss: [[-17.354593]]\n",
      "epoch: 60, loss: [[-17.501606]]\n",
      "epoch: 70, loss: [[-17.433739]]\n",
      "epoch: 80, loss: [[-17.45922]]\n",
      "epoch: 90, loss: [[-17.598505]]\n",
      "epoch: 100, loss: [[-17.519272]]\n",
      "epoch: 110, loss: [[-17.500946]]\n",
      "epoch: 120, loss: [[-17.600372]]\n",
      "epoch: 130, loss: [[-17.625214]]\n",
      "epoch: 140, loss: [[-17.718977]]\n",
      "epoch: 150, loss: [[-17.665142]]\n",
      "epoch: 160, loss: [[-17.509075]]\n",
      "epoch: 170, loss: [[-17.801888]]\n",
      "epoch: 180, loss: [[-17.943739]]\n",
      "epoch: 190, loss: [[-17.919998]]\n",
      "epoch: 200, loss: [[-17.894035]]\n",
      "epoch: 210, loss: [[-17.949715]]\n",
      "epoch: 220, loss: [[-18.060005]]\n",
      "epoch: 230, loss: [[-17.987228]]\n",
      "epoch: 240, loss: [[-18.058344]]\n",
      "epoch: 250, loss: [[-17.712925]]\n",
      "epoch: 260, loss: [[-18.086573]]\n",
      "epoch: 270, loss: [[-18.052265]]\n",
      "epoch: 280, loss: [[-17.982414]]\n",
      "epoch: 290, loss: [[-18.125065]]\n",
      "epoch: 300, loss: [[-17.78531]]\n",
      "epoch: 310, loss: [[-17.94968]]\n",
      "epoch: 320, loss: [[-18.056215]]\n",
      "epoch: 330, loss: [[-18.06282]]\n",
      "epoch: 340, loss: [[-17.953125]]\n",
      "epoch: 350, loss: [[-17.969776]]\n",
      "epoch: 360, loss: [[-17.904083]]\n",
      "epoch: 370, loss: [[-18.065353]]\n",
      "epoch: 380, loss: [[-17.971529]]\n",
      "epoch: 390, loss: [[-18.010445]]\n",
      "epoch: 400, loss: [[-18.006699]]\n",
      "epoch: 410, loss: [[-18.060326]]\n",
      "epoch: 420, loss: [[-18.128332]]\n",
      "epoch: 430, loss: [[-18.09956]]\n",
      "epoch: 440, loss: [[-18.08083]]\n",
      "epoch: 450, loss: [[-17.996088]]\n",
      "epoch: 460, loss: [[-18.038885]]\n",
      "epoch: 470, loss: [[-18.122074]]\n",
      "epoch: 480, loss: [[-18.08893]]\n",
      "epoch: 490, loss: [[-18.034807]]\n",
      "epoch: 500, loss: [[-18.13911]]\n",
      "epoch: 510, loss: [[-18.083899]]\n",
      "epoch: 520, loss: [[-18.008224]]\n",
      "epoch: 530, loss: [[-18.068111]]\n",
      "epoch: 540, loss: [[-18.095585]]\n",
      "epoch: 550, loss: [[-18.112537]]\n",
      "epoch: 560, loss: [[-18.083961]]\n",
      "epoch: 570, loss: [[-18.08428]]\n",
      "epoch: 580, loss: [[-17.998562]]\n",
      "epoch: 590, loss: [[-18.09988]]\n",
      "epoch: 600, loss: [[-18.050182]]\n",
      "epoch: 610, loss: [[-18.105183]]\n",
      "epoch: 620, loss: [[-18.089905]]\n",
      "epoch: 630, loss: [[-18.107601]]\n",
      "epoch: 640, loss: [[-18.114988]]\n",
      "epoch: 650, loss: [[-17.951725]]\n",
      "epoch: 660, loss: [[-18.067448]]\n",
      "epoch: 670, loss: [[-18.11895]]\n",
      "epoch: 680, loss: [[-18.140944]]\n",
      "epoch: 690, loss: [[-17.987213]]\n",
      "epoch: 700, loss: [[-18.117636]]\n",
      "epoch: 710, loss: [[-18.118519]]\n",
      "epoch: 720, loss: [[-18.11264]]\n",
      "epoch: 730, loss: [[-17.879826]]\n",
      "epoch: 740, loss: [[-18.112087]]\n",
      "epoch: 750, loss: [[-18.075924]]\n",
      "epoch: 760, loss: [[-18.135122]]\n",
      "epoch: 770, loss: [[-18.074986]]\n",
      "epoch: 780, loss: [[-18.11647]]\n",
      "epoch: 790, loss: [[-18.14021]]\n",
      "epoch: 800, loss: [[-18.098587]]\n",
      "epoch: 810, loss: [[-18.1231]]\n",
      "epoch: 820, loss: [[-18.068245]]\n",
      "epoch: 830, loss: [[-18.13277]]\n",
      "epoch: 840, loss: [[-18.137728]]\n",
      "epoch: 850, loss: [[-18.090363]]\n",
      "epoch: 860, loss: [[-18.068989]]\n",
      "epoch: 870, loss: [[-18.097466]]\n",
      "epoch: 880, loss: [[-18.09917]]\n",
      "epoch: 890, loss: [[-18.13734]]\n",
      "epoch: 900, loss: [[-18.127518]]\n",
      "epoch: 910, loss: [[-18.158695]]\n",
      "epoch: 920, loss: [[-18.066658]]\n",
      "epoch: 930, loss: [[-18.086988]]\n",
      "epoch: 940, loss: [[-18.021626]]\n",
      "epoch: 950, loss: [[-18.108799]]\n",
      "epoch: 960, loss: [[-18.10375]]\n",
      "epoch: 970, loss: [[-18.123526]]\n",
      "epoch: 980, loss: [[-18.078129]]\n",
      "epoch: 990, loss: [[-18.121925]]\n"
     ]
    }
   ],
   "source": [
    "result = []\n",
    "pop_result = []\n",
    "for i in range(1000):\n",
    "    noise = tf.random.normal([1, 21])\n",
    "    X_pred = generator.predict(noise, verbose=0)\n",
    "    loss = my_loss(noise, X_pred)\n",
    "\n",
    "    pop = dnn_model.predict(X_pred, verbose=0)\n",
    "    generator.train_on_batch(noise, X_pred)\n",
    "    \n",
    "    result.append(X_pred)\n",
    "    pop_result.append(pop)\n",
    "\n",
    "    if i % 10 == 0:\n",
    "        print(f\"epoch: {i}, loss: {loss}\")"
   ]
  },
  {
   "cell_type": "code",
   "execution_count": 9,
   "metadata": {},
   "outputs": [],
   "source": [
    "result = np.array(result).reshape(1000, 21)\n",
    "pop_result = np.array(pop_result).reshape(1000, 1)\n",
    "X_result = scaler.inverse_transform(result)\n",
    "\n",
    "pd_result = pd.DataFrame(X_result)\n",
    "pd_result.to_excel('basic.xlsx')\n",
    "\n",
    "pd_pop_result = pd.DataFrame(pop_result)\n",
    "pd_pop_result.to_excel('basic_pop.xlsx')"
   ]
  }
 ],
 "metadata": {
  "kernelspec": {
   "display_name": "Python 3.8.13 ('tens-cpu38')",
   "language": "python",
   "name": "python3"
  },
  "language_info": {
   "codemirror_mode": {
    "name": "ipython",
    "version": 3
   },
   "file_extension": ".py",
   "mimetype": "text/x-python",
   "name": "python",
   "nbconvert_exporter": "python",
   "pygments_lexer": "ipython3",
   "version": "3.8.13"
  },
  "orig_nbformat": 4,
  "vscode": {
   "interpreter": {
    "hash": "4d69d666dea1d14e04e4d38b06e20d4d04fc31a418cef854ebdceb8b68a0927a"
   }
  }
 },
 "nbformat": 4,
 "nbformat_minor": 2
}
