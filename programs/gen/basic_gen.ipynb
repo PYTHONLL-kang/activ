{
 "cells": [
  {
   "cell_type": "code",
   "execution_count": 1,
   "metadata": {},
   "outputs": [],
   "source": [
    "import matplotlib.pyplot as plt\n",
    "import tensorflow as tf\n",
    "from math import *\n",
    "import pandas as pd\n",
    "import numpy as np\n",
    "from random import *\n",
    "from sklearn.preprocessing import StandardScaler, MinMaxScaler, RobustScaler, Normalizer\n",
    "from sklearn.model_selection import train_test_split"
   ]
  },
  {
   "cell_type": "code",
   "execution_count": 2,
   "metadata": {},
   "outputs": [],
   "source": [
    "np.set_printoptions(precision=6, suppress=True)\n",
    "tf.config.run_functions_eagerly(True)\n",
    "tf.data.experimental.enable_debug_mode()\n",
    "tf.compat.v1.logging.set_verbosity(tf.compat.v1.logging.ERROR)"
   ]
  },
  {
   "cell_type": "code",
   "execution_count": 3,
   "metadata": {},
   "outputs": [],
   "source": [
    "def evaluate_loss(X_train, y_train, y_pred, y_test, model):\n",
    "    y_pred = y_pred\n",
    "    y_pred = np.array(y_pred).reshape((1,21,))\n",
    "    last_data = X_train[-1]\n",
    "    pred_1 = model.predict(y_pred,verbose=0)\n",
    "    b = np.sqrt(np.sum(np.square(y_pred-last_data)))\n",
    "    a = (np.square(y_train[-1]-pred_1))\n",
    "    return pred_1"
   ]
  },
  {
   "cell_type": "code",
   "execution_count": 5,
   "metadata": {},
   "outputs": [],
   "source": [
    "df = pd.read_excel('aug_nine_var.xlsx')\n",
    "\n",
    "X = df.iloc[:,1:22]\n",
    "y = df.iloc[:,22].to_numpy()\n",
    "\n",
    "scaler = MinMaxScaler()\n",
    "X = scaler.fit_transform(X)\n",
    "\n",
    "_,X_test,_,y_test=train_test_split(X, y, test_size=0.05, random_state=42,shuffle=False)\n",
    "X_train,_,y_train,_=train_test_split(X, y, test_size=0.05, random_state=42,shuffle=True)\n",
    "\n",
    "model = tf.keras.models.load_model('dnn.h5')"
   ]
  },
  {
   "cell_type": "code",
   "execution_count": 8,
   "metadata": {},
   "outputs": [],
   "source": [
    "epochs = 1000\n",
    "latent_dim = 21 \n",
    "model.trainable = False\n",
    "noise_shape = tf.keras.Input(shape=(latent_dim,))\n",
    "my_model = tf.keras.Sequential([\n",
    "    tf.keras.Input((latent_dim,)),\n",
    "    tf.keras.layers.Reshape((latent_dim,)),\n",
    "    tf.keras.layers.Activation('relu'),\n",
    "    tf.keras.layers.Dense(128,activation='relu'),\n",
    "    tf.keras.layers.Dense(256,activation='selu'),\n",
    "    tf.keras.layers.Dense(512,activation='relu'),\n",
    "    tf.keras.layers.Dense(1024,activation='relu'),\n",
    "    tf.keras.layers.Dense(21,activation='relu'),\n",
    "    tf.keras.layers.Activation('relu')\n",
    "    ])\n",
    "\n",
    "my_model.compile()"
   ]
  },
  {
   "cell_type": "code",
   "execution_count": 12,
   "metadata": {},
   "outputs": [],
   "source": [
    "generator = tf.keras.Model(noise_shape, my_model(noise_shape))\n",
    "\n",
    "noise_shape = tf.keras.Input(shape=(latent_dim,))\n",
    "noise_shape2 = tf.keras.Input(shape=(latent_dim,))\n",
    "\n",
    "c = tf.keras.Model(noise_shape2,model(noise_shape2))\n",
    "\n",
    "gen_thing_to_real_model = tf.keras.Model(noise_shape, c(my_model(noise_shape)))\n",
    "g_optimizer = tf.keras.optimizers.Adam(learning_rate=0.0001)\n",
    "\n",
    "generator.compile(loss=evaluate_loss, optimizer=g_optimizer)\n",
    "gen_thing_to_real_model.compile(loss = 'mse', optimizer = g_optimizer)"
   ]
  },
  {
   "cell_type": "code",
   "execution_count": 13,
   "metadata": {},
   "outputs": [],
   "source": [
    "def evaluate_loss(y_pred, y_test):\n",
    "    y_pred = y_pred\n",
    "    y_pred = np.array(y_pred).reshape((1,21,))\n",
    "    last_data = X_train[-1]\n",
    "    pred_1 = model.predict(y_pred,verbose=0)\n",
    "    # pred_2 = model.predict(y_test,verbose=0)\n",
    "    b = np.sqrt(np.sum(np.square(y_pred-last_data)))\n",
    "    a = (np.square(y_train[-1]-pred_1))\n",
    "    return a+(np.abs(b*10-a))"
   ]
  },
  {
   "cell_type": "code",
   "execution_count": null,
   "metadata": {},
   "outputs": [],
   "source": [
    "def train_step(real_model,generator,epochs,model):\n",
    "    df = pd.read_excel('dataframe.xlsx')\n",
    "    batch_size = 1\n",
    "    y_train = list(y_train)\n",
    "    x = []\n",
    "    y = np.array([])\n",
    "    result_ = np.array([])\n",
    "    to_excel_list = []\n",
    "    average = sum(y_train) / len(y_train)\n",
    "    for j in range(epochs):\n",
    "        noise = tf.random.normal([1,21])\n",
    "        real_model.train_on_batch(noise,np.zeros((1,21)))\n",
    "        y_pred = generator.predict(noise,verbose=0)[0]\n",
    "        s = evaluate_loss(y_pred,_)\n",
    "        average = model.predict(y_pred.reshape((1,21)),verbose=0)\n",
    "        print(\"loss_value: %.4f average: %.4f try: %d\" % (s,average,j))\n",
    "        to_excel_list = generator.predict(noise,verbose=0)[0]\n",
    "        to_excel_list = np.array(to_excel_list).reshape((1,21))\n",
    "        c = to_excel_list\n",
    "        to_excel_list = scaler.inverse_transform(to_excel_list)\n",
    "        to_excel_list = np.append(to_excel_list,model.predict(c,verbose=0))\n",
    "        result_ = np.append(result_,to_excel_list).reshape((-1,22))\n",
    "        df = pd.DataFrame(result_)    \n",
    "        df.to_excel(\"basic_formula.xlsx\")"
   ]
  }
 ],
 "metadata": {
  "kernelspec": {
   "display_name": "Python 3.8.13 ('tens-cpu38')",
   "language": "python",
   "name": "python3"
  },
  "language_info": {
   "codemirror_mode": {
    "name": "ipython",
    "version": 3
   },
   "file_extension": ".py",
   "mimetype": "text/x-python",
   "name": "python",
   "nbconvert_exporter": "python",
   "pygments_lexer": "ipython3",
   "version": "3.8.13"
  },
  "orig_nbformat": 4,
  "vscode": {
   "interpreter": {
    "hash": "4d69d666dea1d14e04e4d38b06e20d4d04fc31a418cef854ebdceb8b68a0927a"
   }
  }
 },
 "nbformat": 4,
 "nbformat_minor": 2
}
