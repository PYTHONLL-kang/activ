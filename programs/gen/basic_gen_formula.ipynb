{
 "cells": [
  {
   "cell_type": "code",
   "execution_count": 1,
   "metadata": {},
   "outputs": [],
   "source": [
    "import pandas as pd\n",
    "import numpy as np\n",
    "import tensorflow as tf\n",
    "from sklearn.preprocessing import MinMaxScaler"
   ]
  },
  {
   "cell_type": "code",
   "execution_count": 2,
   "metadata": {},
   "outputs": [],
   "source": [
    "df = pd.read_excel('aug_nine_var.xlsx').iloc[:,1::]\n",
    "X = df.iloc[:,0:21]\n",
    "y = df.iloc[:,21::].to_numpy()"
   ]
  },
  {
   "cell_type": "code",
   "execution_count": 3,
   "metadata": {},
   "outputs": [
    {
     "data": {
      "text/plain": [
       "(395, 21)"
      ]
     },
     "execution_count": 3,
     "metadata": {},
     "output_type": "execute_result"
    }
   ],
   "source": [
    "scaler = MinMaxScaler()\n",
    "X = scaler.fit_transform(X)\n",
    "X.shape"
   ]
  },
  {
   "cell_type": "code",
   "execution_count": 4,
   "metadata": {},
   "outputs": [],
   "source": [
    "dnn_model = tf.keras.models.load_model('dnn.h5')"
   ]
  },
  {
   "cell_type": "code",
   "execution_count": 5,
   "metadata": {},
   "outputs": [],
   "source": [
    "def my_loss(real_data, gen_data):\n",
    "    err = real_data - gen_data\n",
    "    mse = tf.math.reduce_mean(tf.math.square(err))\n",
    "    y_pred = dnn_model(gen_data)\n",
    "    b = tf.math.divide(y_pred, 100000)\n",
    "    b = tf.math.square(b)\n",
    "\n",
    "    loss = tf.math.add(tf.math.multiply(mse, 2), b)\n",
    "    return loss"
   ]
  },
  {
   "cell_type": "code",
   "execution_count": 6,
   "metadata": {},
   "outputs": [],
   "source": [
    "generator = tf.keras.Sequential()\n",
    "generator.add(tf.keras.layers.Dense(128, input_dim=21, activation='relu'))\n",
    "generator.add(tf.keras.layers.Dense(64, activation='relu'))\n",
    "generator.add(tf.keras.layers.Dense(32, activation='relu'))\n",
    "generator.add(tf.keras.layers.Dense(21, activation='tanh'))\n",
    "\n",
    "generator.compile(loss=my_loss, optimizer='adam')"
   ]
  },
  {
   "cell_type": "code",
   "execution_count": 7,
   "metadata": {},
   "outputs": [],
   "source": [
    "def return_latest():\n",
    "    df = pd.read_excel('aug_nine_var.xlsx').iloc[:,1::]\n",
    "    X = df.iloc[:,0:21]\n",
    "    scaler = MinMaxScaler()\n",
    "    X = scaler.fit_transform(X)\n",
    "\n",
    "    return X[-1]"
   ]
  },
  {
   "cell_type": "code",
   "execution_count": 8,
   "metadata": {},
   "outputs": [
    {
     "name": "stdout",
     "output_type": "stream",
     "text": [
      "epoch: 0, loss: [[2.3586683]], pop: [[37.589573]]\n",
      "epoch: 10, loss: [[2.1327908]], pop: [[41.8522]]\n",
      "epoch: 20, loss: [[1.5575552]], pop: [[39.66579]]\n",
      "epoch: 30, loss: [[2.2169325]], pop: [[40.7542]]\n",
      "epoch: 40, loss: [[3.297326]], pop: [[42.062237]]\n",
      "epoch: 50, loss: [[2.32229]], pop: [[40.647778]]\n",
      "epoch: 60, loss: [[2.5195203]], pop: [[40.38322]]\n",
      "epoch: 70, loss: [[1.9757067]], pop: [[39.886715]]\n",
      "epoch: 80, loss: [[1.7739415]], pop: [[39.487293]]\n",
      "epoch: 90, loss: [[3.0806456]], pop: [[40.90259]]\n",
      "epoch: 100, loss: [[2.3799086]], pop: [[39.821804]]\n",
      "epoch: 110, loss: [[1.8867396]], pop: [[40.94074]]\n",
      "epoch: 120, loss: [[3.378153]], pop: [[41.02762]]\n",
      "epoch: 130, loss: [[1.1879398]], pop: [[40.81262]]\n",
      "epoch: 140, loss: [[2.6613853]], pop: [[41.45104]]\n",
      "epoch: 150, loss: [[1.7816528]], pop: [[40.45324]]\n",
      "epoch: 160, loss: [[1.3731868]], pop: [[40.978916]]\n",
      "epoch: 170, loss: [[0.8101455]], pop: [[38.950695]]\n",
      "epoch: 180, loss: [[1.4712676]], pop: [[40.16362]]\n",
      "epoch: 190, loss: [[3.0483434]], pop: [[40.503525]]\n",
      "epoch: 200, loss: [[1.9252331]], pop: [[37.91617]]\n",
      "epoch: 210, loss: [[2.2083738]], pop: [[38.643063]]\n",
      "epoch: 220, loss: [[2.3129308]], pop: [[38.239223]]\n",
      "epoch: 230, loss: [[2.7476263]], pop: [[38.822052]]\n",
      "epoch: 240, loss: [[1.1884055]], pop: [[38.97227]]\n",
      "epoch: 250, loss: [[1.7458321]], pop: [[39.44125]]\n",
      "epoch: 260, loss: [[1.7232015]], pop: [[38.46353]]\n",
      "epoch: 270, loss: [[2.354859]], pop: [[39.99954]]\n",
      "epoch: 280, loss: [[2.6404538]], pop: [[38.951366]]\n",
      "epoch: 290, loss: [[2.242314]], pop: [[39.26726]]\n",
      "epoch: 300, loss: [[1.9564342]], pop: [[36.33151]]\n",
      "epoch: 310, loss: [[1.8436545]], pop: [[38.698055]]\n",
      "epoch: 320, loss: [[1.1763774]], pop: [[39.604572]]\n",
      "epoch: 330, loss: [[2.4958494]], pop: [[38.94863]]\n",
      "epoch: 340, loss: [[2.8437014]], pop: [[38.74667]]\n",
      "epoch: 350, loss: [[2.3236923]], pop: [[38.628944]]\n",
      "epoch: 360, loss: [[2.1564043]], pop: [[38.783703]]\n",
      "epoch: 370, loss: [[1.9240794]], pop: [[38.577927]]\n",
      "epoch: 380, loss: [[2.719667]], pop: [[36.61236]]\n",
      "epoch: 390, loss: [[1.0481788]], pop: [[38.04574]]\n",
      "epoch: 400, loss: [[1.2545886]], pop: [[38.308743]]\n",
      "epoch: 410, loss: [[1.5089148]], pop: [[37.167473]]\n",
      "epoch: 420, loss: [[2.4835813]], pop: [[37.216717]]\n",
      "epoch: 430, loss: [[1.7324649]], pop: [[36.70929]]\n",
      "epoch: 440, loss: [[2.351612]], pop: [[36.80344]]\n",
      "epoch: 450, loss: [[4.437842]], pop: [[34.706245]]\n",
      "epoch: 460, loss: [[0.95794016]], pop: [[38.604107]]\n",
      "epoch: 470, loss: [[2.7527761]], pop: [[35.093586]]\n",
      "epoch: 480, loss: [[2.3830237]], pop: [[35.84723]]\n",
      "epoch: 490, loss: [[1.7822375]], pop: [[37.32751]]\n",
      "epoch: 500, loss: [[4.4587812]], pop: [[37.537136]]\n",
      "epoch: 510, loss: [[3.2631285]], pop: [[36.42046]]\n",
      "epoch: 520, loss: [[2.0246384]], pop: [[37.378517]]\n",
      "epoch: 530, loss: [[2.42449]], pop: [[35.611877]]\n",
      "epoch: 540, loss: [[1.9521049]], pop: [[37.851772]]\n",
      "epoch: 550, loss: [[2.4976535]], pop: [[38.071278]]\n",
      "epoch: 560, loss: [[1.3745968]], pop: [[36.511444]]\n",
      "epoch: 570, loss: [[2.0902097]], pop: [[36.737907]]\n",
      "epoch: 580, loss: [[2.1199386]], pop: [[37.405087]]\n",
      "epoch: 590, loss: [[2.623267]], pop: [[34.54826]]\n",
      "epoch: 600, loss: [[2.4289005]], pop: [[36.492207]]\n",
      "epoch: 610, loss: [[2.0505486]], pop: [[34.43748]]\n",
      "epoch: 620, loss: [[2.0994024]], pop: [[34.81285]]\n",
      "epoch: 630, loss: [[2.326464]], pop: [[34.682713]]\n",
      "epoch: 640, loss: [[3.2107344]], pop: [[36.23537]]\n",
      "epoch: 650, loss: [[2.190101]], pop: [[37.149906]]\n",
      "epoch: 660, loss: [[2.073782]], pop: [[35.770657]]\n",
      "epoch: 670, loss: [[1.3940295]], pop: [[34.549957]]\n",
      "epoch: 680, loss: [[3.9961977]], pop: [[33.497738]]\n",
      "epoch: 690, loss: [[1.5788158]], pop: [[34.534546]]\n",
      "epoch: 700, loss: [[2.733431]], pop: [[33.141594]]\n",
      "epoch: 710, loss: [[2.1497474]], pop: [[35.95785]]\n",
      "epoch: 720, loss: [[1.9650654]], pop: [[34.78341]]\n",
      "epoch: 730, loss: [[2.8482733]], pop: [[34.691074]]\n",
      "epoch: 740, loss: [[1.1819094]], pop: [[34.25078]]\n",
      "epoch: 750, loss: [[3.1951969]], pop: [[32.035057]]\n",
      "epoch: 760, loss: [[3.9285383]], pop: [[29.932285]]\n",
      "epoch: 770, loss: [[3.3859863]], pop: [[33.789757]]\n",
      "epoch: 780, loss: [[3.2312443]], pop: [[33.630672]]\n",
      "epoch: 790, loss: [[3.0064511]], pop: [[34.366837]]\n",
      "epoch: 800, loss: [[1.6150078]], pop: [[32.685062]]\n",
      "epoch: 810, loss: [[2.1807466]], pop: [[32.659332]]\n",
      "epoch: 820, loss: [[1.5490772]], pop: [[34.16745]]\n",
      "epoch: 830, loss: [[1.3875216]], pop: [[35.479656]]\n",
      "epoch: 840, loss: [[3.8714476]], pop: [[32.137928]]\n",
      "epoch: 850, loss: [[2.5582454]], pop: [[34.595875]]\n",
      "epoch: 860, loss: [[1.8073386]], pop: [[33.96255]]\n",
      "epoch: 870, loss: [[1.7264496]], pop: [[32.89518]]\n",
      "epoch: 880, loss: [[2.320564]], pop: [[32.8853]]\n",
      "epoch: 890, loss: [[2.2277923]], pop: [[32.194054]]\n",
      "epoch: 900, loss: [[1.5735731]], pop: [[33.495056]]\n",
      "epoch: 910, loss: [[1.8921145]], pop: [[32.79921]]\n",
      "epoch: 920, loss: [[2.0265894]], pop: [[32.425087]]\n",
      "epoch: 930, loss: [[2.2221935]], pop: [[31.365025]]\n",
      "epoch: 940, loss: [[1.7499561]], pop: [[33.94273]]\n",
      "epoch: 950, loss: [[2.034451]], pop: [[33.602024]]\n",
      "epoch: 960, loss: [[3.0506814]], pop: [[31.223406]]\n",
      "epoch: 970, loss: [[2.4907444]], pop: [[31.932667]]\n",
      "epoch: 980, loss: [[4.015845]], pop: [[29.46946]]\n",
      "epoch: 990, loss: [[2.1300654]], pop: [[31.162167]]\n"
     ]
    }
   ],
   "source": [
    "result = []\n",
    "pop_result = []\n",
    "for i in range(1000):\n",
    "    noise = tf.random.normal([1, 21])\n",
    "    X_pred = generator.predict(noise, verbose=0)\n",
    "    loss = my_loss(noise, X_pred)\n",
    "\n",
    "    pop = dnn_model.predict(X_pred, verbose=0)\n",
    "    generator.train_on_batch(noise, X_pred)\n",
    "    \n",
    "    result.append(X_pred)\n",
    "    pop_result.append(pop)\n",
    "\n",
    "    if i % 10 == 0:\n",
    "        print(f\"epoch: {i}, loss: {loss}, pop: {pop}\")"
   ]
  },
  {
   "cell_type": "code",
   "execution_count": 10,
   "metadata": {},
   "outputs": [],
   "source": [
    "result = np.array(result).reshape(1000, 21)\n",
    "pop_result = np.array(pop_result).reshape(1000, 1)\n",
    "X_result = scaler.inverse_transform(result)\n",
    "\n",
    "pd_result = pd.DataFrame(X_result)\n",
    "pd_result.to_excel('basic_formula.xlsx')\n",
    "\n",
    "pd_pop_result = pd.DataFrame(pop_result)\n",
    "pd_pop_result.to_excel('basic_formula_pop.xlsx')"
   ]
  }
 ],
 "metadata": {
  "kernelspec": {
   "display_name": "Python 3.8.13 ('tens-cpu38')",
   "language": "python",
   "name": "python3"
  },
  "language_info": {
   "codemirror_mode": {
    "name": "ipython",
    "version": 3
   },
   "file_extension": ".py",
   "mimetype": "text/x-python",
   "name": "python",
   "nbconvert_exporter": "python",
   "pygments_lexer": "ipython3",
   "version": "3.8.13"
  },
  "orig_nbformat": 4,
  "vscode": {
   "interpreter": {
    "hash": "4d69d666dea1d14e04e4d38b06e20d4d04fc31a418cef854ebdceb8b68a0927a"
   }
  }
 },
 "nbformat": 4,
 "nbformat_minor": 2
}
