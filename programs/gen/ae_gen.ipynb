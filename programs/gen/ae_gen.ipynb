{
 "cells": [
  {
   "cell_type": "code",
   "execution_count": 1,
   "metadata": {},
   "outputs": [],
   "source": [
    "import pandas as pd\n",
    "import numpy as np\n",
    "import matplotlib.pyplot as plt\n",
    "import tensorflow as tf"
   ]
  },
  {
   "cell_type": "code",
   "execution_count": 2,
   "metadata": {},
   "outputs": [],
   "source": [
    "df = pd.read_excel('aug_nine_var.xlsx').iloc[:,1::]\n",
    "X = df.iloc[:,0:21]\n",
    "y = df.iloc[:,21:22].to_numpy()"
   ]
  },
  {
   "cell_type": "code",
   "execution_count": 3,
   "metadata": {},
   "outputs": [],
   "source": [
    "from sklearn.preprocessing import MinMaxScaler\n",
    "from sklearn.model_selection import train_test_split\n",
    "\n",
    "scaler = MinMaxScaler()\n",
    "X = scaler.fit_transform(X)\n",
    "\n",
    "X_train, X_test, y_train, y_test = train_test_split(X, y, test_size=0.2, shuffle=True)"
   ]
  },
  {
   "cell_type": "code",
   "execution_count": 4,
   "metadata": {},
   "outputs": [],
   "source": [
    "dnn_model = tf.keras.models.load_model('dnn.h5')"
   ]
  },
  {
   "cell_type": "code",
   "execution_count": 5,
   "metadata": {},
   "outputs": [],
   "source": [
    "def my_loss(real_data, gen_data):\n",
    "    err = real_data - gen_data\n",
    "    mae = tf.math.reduce_mean(tf.math.abs(err))\n",
    "    y_pred = dnn_model(gen_data)\n",
    "\n",
    "    loss = tf.math.add(tf.math.multiply(mae, 2), y_pred/30)\n",
    "    return loss"
   ]
  },
  {
   "cell_type": "code",
   "execution_count": 6,
   "metadata": {},
   "outputs": [],
   "source": [
    "input_layer = tf.keras.layers.Input(shape=(21,))\n",
    "\n",
    "encoded = tf.keras.layers.Dense(128, activation='relu')(input_layer)\n",
    "encoded = tf.keras.layers.Dense(64, activation='relu')(encoded)\n",
    "encoded = tf.keras.layers.Dense(32, activation='relu')(encoded)\n",
    "encoded = tf.keras.layers.Dense(16, activation='relu')(encoded)\n",
    "encoded = tf.keras.layers.Dense(3)(encoded)\n",
    " \n",
    "decoded = tf.keras.layers.Dense(3, activation='relu')(encoded)\n",
    "decoded = tf.keras.layers.Dense(16, activation='relu')(decoded)\n",
    "decoded = tf.keras.layers.Dense(32, activation='relu')(decoded)\n",
    "decoded = tf.keras.layers.Dense(64, activation='relu')(decoded)\n",
    "decoded = tf.keras.layers.Dense(128, activation='relu')(decoded)\n",
    "decoded = tf.keras.layers.Dense(21)(decoded)\n",
    " \n",
    "# autoencoder\n",
    "autoencoder = tf.keras.Model(input_layer, decoded)\n",
    " \n",
    "# encoder\n",
    "encoder = tf.keras.Model(input_layer, encoded)\n",
    "\n",
    "# decoder\n",
    "encoded_input = tf.keras.layers.Input(shape=(3,))\n",
    "\n",
    "decoded_layer = autoencoder.layers[6](encoded_input)\n",
    "decoded_layer = autoencoder.layers[7](decoded_layer)\n",
    "decoded_layer = autoencoder.layers[8](decoded_layer)\n",
    "decoded_layer = autoencoder.layers[9](decoded_layer)\n",
    "decoded_layer = autoencoder.layers[10](decoded_layer)\n",
    "decoded_layer = autoencoder.layers[11](decoded_layer)\n",
    "\n",
    "decoder = tf.keras.Model(encoded_input, decoded_layer)"
   ]
  },
  {
   "cell_type": "code",
   "execution_count": 7,
   "metadata": {},
   "outputs": [],
   "source": [
    "autoencoder.compile(optimizer='adam', loss=my_loss, metrics=['mae'])"
   ]
  },
  {
   "cell_type": "code",
   "execution_count": 8,
   "metadata": {},
   "outputs": [
    {
     "name": "stdout",
     "output_type": "stream",
     "text": [
      "13/13 [==============================] - 0s 1ms/step\n"
     ]
    }
   ],
   "source": [
    "gen = autoencoder.predict(X)"
   ]
  },
  {
   "cell_type": "code",
   "execution_count": 9,
   "metadata": {},
   "outputs": [
    {
     "name": "stdout",
     "output_type": "stream",
     "text": [
      "13/13 [==============================] - 0s 1ms/step\n"
     ]
    }
   ],
   "source": [
    "gen_en = encoder.predict(X)\n",
    "pd_gen_en = pd.DataFrame(gen_en)\n",
    "pd_gen_en.to_excel('ae_gen_en.xlsx')"
   ]
  },
  {
   "cell_type": "code",
   "execution_count": 10,
   "metadata": {},
   "outputs": [
    {
     "name": "stdout",
     "output_type": "stream",
     "text": [
      "13/13 [==============================] - 0s 1ms/step\n"
     ]
    },
    {
     "data": {
      "text/plain": [
       "39.75384"
      ]
     },
     "execution_count": 10,
     "metadata": {},
     "output_type": "execute_result"
    }
   ],
   "source": [
    "dnn_model.predict(gen).mean()"
   ]
  },
  {
   "cell_type": "code",
   "execution_count": 11,
   "metadata": {},
   "outputs": [
    {
     "ename": "NameError",
     "evalue": "name 'error' is not defined",
     "output_type": "error",
     "traceback": [
      "\u001b[1;31m---------------------------------------------------------------------------\u001b[0m",
      "\u001b[1;31mNameError\u001b[0m                                 Traceback (most recent call last)",
      "\u001b[1;32mc:\\code\\activ\\programs\\gen\\ae_gen.ipynb 셀 12\u001b[0m in \u001b[0;36m<cell line: 1>\u001b[1;34m()\u001b[0m\n\u001b[1;32m----> <a href='vscode-notebook-cell:/c%3A/code/activ/programs/gen/ae_gen.ipynb#X13sZmlsZQ%3D%3D?line=0'>1</a>\u001b[0m error\n",
      "\u001b[1;31mNameError\u001b[0m: name 'error' is not defined"
     ]
    }
   ],
   "source": [
    "error"
   ]
  },
  {
   "cell_type": "code",
   "execution_count": null,
   "metadata": {},
   "outputs": [
    {
     "name": "stdout",
     "output_type": "stream",
     "text": [
      "13/13 [==============================] - 0s 2ms/step\n"
     ]
    }
   ],
   "source": [
    "gen_pop = dnn_model.predict(gen)\n",
    "pd_gen_pop = pd.DataFrame(gen_pop)\n",
    "pd_gen_pop.to_excel('ae_gen_pop.xlsx')"
   ]
  },
  {
   "cell_type": "code",
   "execution_count": null,
   "metadata": {},
   "outputs": [],
   "source": [
    "inverse_gen = scaler.inverse_transform(gen)\n",
    "pd_gen = pd.DataFrame(inverse_gen)\n",
    "pd_gen.to_excel('ae_gen.xlsx')"
   ]
  },
  {
   "cell_type": "code",
   "execution_count": null,
   "metadata": {},
   "outputs": [],
   "source": []
  }
 ],
 "metadata": {
  "kernelspec": {
   "display_name": "Python 3.8.13 ('tens-cpu38')",
   "language": "python",
   "name": "python3"
  },
  "language_info": {
   "codemirror_mode": {
    "name": "ipython",
    "version": 3
   },
   "file_extension": ".py",
   "mimetype": "text/x-python",
   "name": "python",
   "nbconvert_exporter": "python",
   "pygments_lexer": "ipython3",
   "version": "3.8.13"
  },
  "orig_nbformat": 4,
  "vscode": {
   "interpreter": {
    "hash": "4d69d666dea1d14e04e4d38b06e20d4d04fc31a418cef854ebdceb8b68a0927a"
   }
  }
 },
 "nbformat": 4,
 "nbformat_minor": 2
}
