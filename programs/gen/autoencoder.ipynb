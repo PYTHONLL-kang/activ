{
 "cells": [
  {
   "cell_type": "code",
   "execution_count": null,
   "metadata": {},
   "outputs": [],
   "source": [
    "import matplotlib.pyplot as plt\n",
    "import numpy as np\n",
    "import pandas as pd\n",
    "import tensorflow as tf\n",
    "\n",
    "from sklearn.metrics import accuracy_score, precision_score, recall_score\n",
    "from sklearn.model_selection import train_test_split\n",
    "\n",
    "from sklearn.preprocessing import StandardScaler, MinMaxScaler, RobustScaler, Normalizer\n"
   ]
  },
  {
   "cell_type": "code",
   "execution_count": null,
   "metadata": {},
   "outputs": [],
   "source": [
    "df = pd.read_excel(\"aug_nine_var.xlsx\")\n",
    "X = df.loc[:,[\"국내총생산\", \"서울인구\", \"경기도인구\", \"인천시인구\", \"수도권 인구\", \"소비자 물가 지수\"]].to_numpy()\n",
    "y = df.iloc[:,22:23].to_numpy()\n"
   ]
  },
  {
   "cell_type": "code",
   "execution_count": null,
   "metadata": {},
   "outputs": [],
   "source": [
    "X_train,X_test,y_train,y_test=train_test_split(X, y, test_size=0.2, random_state=42,shuffle=True)"
   ]
  },
  {
   "cell_type": "code",
   "execution_count": null,
   "metadata": {},
   "outputs": [],
   "source": [
    "print(X_train.shape)\n",
    "print(y_train.shape)"
   ]
  },
  {
   "cell_type": "code",
   "execution_count": null,
   "metadata": {},
   "outputs": [],
   "source": [
    "# encoding dimension\n",
    "encoding_dim = 32\n",
    " \n",
    "input_layer = tf.keras.layers.Input(shape=(6,)) # 28*28\n",
    "encoded = tf.keras.layers.Dense(32, activation='relu')(input_layer)\n",
    "encoded = tf.keras.layers.Dense(64, activation='relu')(encoded)\n",
    "encoded = tf.keras.layers.Dense(128)(encoded)\n",
    " \n",
    "decoded = tf.keras.layers.Dense(128, activation='relu')(encoded)\n",
    "decoded = tf.keras.layers.Dense(64, activation='relu')(decoded)\n",
    "decoded = tf.keras.layers.Dense(32, activation='relu')(decoded)\n",
    "decoded = tf.keras.layers.Dense(6)(decoded)\n",
    " \n",
    "# autoencoder\n",
    "autoencoder = tf.keras.Model(input_layer, decoded)\n",
    " \n",
    "# encoder\n",
    "encoder = tf.keras.Model(input_layer, encoded)\n",
    " \n",
    "# decoder\n",
    "encoded_input = tf.keras.layers.Input(shape=(128,))\n",
    "decoded_layer = autoencoder.layers[4](encoded_input)\n",
    "decoded_layer = autoencoder.layers[5](decoded_layer)\n",
    "decoded_layer = autoencoder.layers[6](decoded_layer)\n",
    "decoded_layer = autoencoder.layers[7](decoded_layer)\n",
    "decoder = tf.keras.Model(encoded_input, decoded_layer)\n",
    " \n",
    "autoencoder.compile(optimizer='adam', loss='mse', metrics=['mae'])\n"
   ]
  },
  {
   "cell_type": "code",
   "execution_count": null,
   "metadata": {},
   "outputs": [],
   "source": [
    "hist = autoencoder.fit(X_train, y_train, \n",
    "                batch_size=64, epochs=10000,\n",
    "                validation_data=(X_test,y_test),\n",
    "                verbose=1)"
   ]
  },
  {
   "cell_type": "code",
   "execution_count": null,
   "metadata": {},
   "outputs": [],
   "source": [
    "fig, loss_ax = plt.subplots(figsize=(15, 5))\n",
    "\n",
    "acc_ax = loss_ax.twinx()\n",
    "\n",
    "loss_ax.plot(hist.history['loss'], 'y', label='train_mse')   # 훈련데이터의 loss (즉, mse)\n",
    "loss_ax.plot(hist.history['val_loss'], 'r', label='test_mse') # 검증데이터의 loss (즉, mse)\n",
    "\n",
    "acc_ax.plot(hist.history['mae'], 'b', label='train_mae')   # 훈련데이터의 mae\n",
    "acc_ax.plot(hist.history['val_mae'], 'g', label='val_mae') # 검증데이터의 mae\n",
    "\n",
    "loss_ax.set_xlabel('epoch')\n",
    "loss_ax.set_ylabel('loss')\n",
    "acc_ax.set_ylabel('mean_absolute_error')\n",
    "\n",
    "loss_ax.legend(loc='upper left')\n",
    "acc_ax.legend(loc='lower left')\n",
    "\n",
    "plt.show()"
   ]
  },
  {
   "cell_type": "code",
   "execution_count": null,
   "metadata": {},
   "outputs": [],
   "source": []
  }
 ],
 "metadata": {
  "kernelspec": {
   "display_name": "Python 3.8.13 ('tens-cpu38')",
   "language": "python",
   "name": "python3"
  },
  "language_info": {
   "codemirror_mode": {
    "name": "ipython",
    "version": 3
   },
   "file_extension": ".py",
   "mimetype": "text/x-python",
   "name": "python",
   "nbconvert_exporter": "python",
   "pygments_lexer": "ipython3",
   "version": "3.8.13"
  },
  "orig_nbformat": 4,
  "vscode": {
   "interpreter": {
    "hash": "4d69d666dea1d14e04e4d38b06e20d4d04fc31a418cef854ebdceb8b68a0927a"
   }
  }
 },
 "nbformat": 4,
 "nbformat_minor": 2
}
