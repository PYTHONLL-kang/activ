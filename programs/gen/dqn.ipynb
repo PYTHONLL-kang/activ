{
 "cells": [
  {
   "cell_type": "code",
   "execution_count": 1,
   "metadata": {},
   "outputs": [],
   "source": [
    "import tensorflow as tf\n",
    "import numpy as np\n",
    "from sklearn.preprocessing import MinMaxScaler\n",
    "import pandas as pd\n",
    "from collections import deque\n",
    "import random as rand\n",
    "import math\n",
    "import matplotlib.pyplot as plt"
   ]
  },
  {
   "cell_type": "code",
   "execution_count": 2,
   "metadata": {},
   "outputs": [],
   "source": [
    "import os\n",
    "os.chdir('C:\\\\code\\\\activ')"
   ]
  },
  {
   "cell_type": "code",
   "execution_count": 3,
   "metadata": {},
   "outputs": [],
   "source": [
    "from tensorflow.python.ops.numpy_ops import np_config\n",
    "np_config.enable_numpy_behavior()\n",
    "\n",
    "np.set_printoptions(precision=6, suppress=True)"
   ]
  },
  {
   "cell_type": "code",
   "execution_count": 4,
   "metadata": {},
   "outputs": [],
   "source": [
    "dnn_model = tf.keras.models.load_model('./model/dnn.h5')"
   ]
  },
  {
   "cell_type": "code",
   "execution_count": 5,
   "metadata": {},
   "outputs": [],
   "source": [
    "EPS_START = 1.0\n",
    "EPS_END = 0.01\n",
    "EPS_DECAY = 100\n",
    "\n",
    "GAMMA = 1.2\n",
    "batch_size = 64\n",
    "episode_done = 2000"
   ]
  },
  {
   "cell_type": "code",
   "execution_count": 6,
   "metadata": {},
   "outputs": [],
   "source": [
    "df = pd.read_excel('./documents/aug_nine_var.xlsx').iloc[:,1:22]\n",
    "\n",
    "scaler = MinMaxScaler()\n",
    "X = scaler.fit_transform(df)"
   ]
  },
  {
   "cell_type": "code",
   "execution_count": 7,
   "metadata": {},
   "outputs": [],
   "source": [
    "def return_latest():\n",
    "    df = pd.read_excel('./documents/aug_nine_var.xlsx').iloc[:,1::]\n",
    "    X = df.iloc[:,0:21]\n",
    "    scaler = MinMaxScaler()\n",
    "    X = scaler.fit_transform(X)\n",
    "    latest = X[-1].reshape(1, 21)\n",
    "\n",
    "    return latest"
   ]
  },
  {
   "cell_type": "code",
   "execution_count": 8,
   "metadata": {},
   "outputs": [],
   "source": [
    "def return_state(action, state):\n",
    "    if action % 2 == 0:\n",
    "        var = -0.01\n",
    "    \n",
    "    else:\n",
    "        var = 0.01\n",
    "\n",
    "    j = int(action / 2)\n",
    "    \n",
    "    state[0][j] = state[0][j] + var\n",
    "    next_state = state\n",
    "\n",
    "    return next_state"
   ]
  },
  {
   "cell_type": "code",
   "execution_count": 9,
   "metadata": {},
   "outputs": [],
   "source": [
    "def return_reward(state, y_pred):\n",
    "    real_state = return_latest()\n",
    "\n",
    "    dist = np.sqrt(np.sum(np.square(real_state-state)))\n",
    "\n",
    "    a = tf.cast(tf.math.subtract(y_pred, 42), dtype=tf.float32)\n",
    "    b = tf.cast(dist, dtype=tf.float32)\n",
    "\n",
    "    loss = tf.math.add(a, b)\n",
    "    return tf.math.multiply(loss, 100)"
   ]
  },
  {
   "cell_type": "code",
   "execution_count": 10,
   "metadata": {},
   "outputs": [],
   "source": [
    "class Dqn_agent:\n",
    "    def __init__(self):\n",
    "        self.target = self._create_model()\n",
    "        self.model = self._create_model()\n",
    "\n",
    "        self.target.set_weights(self.model.get_weights())\n",
    "\n",
    "        self.memory = deque(maxlen=10000)\n",
    "        \n",
    "    def _create_model(self):\n",
    "        model = tf.keras.models.Sequential()\n",
    "        model.add(tf.keras.layers.Dense(128, input_shape=(21, ), activation='relu'))\n",
    "        model.add(tf.keras.layers.Dense(128, activation='relu'))\n",
    "        model.add(tf.keras.layers.Dense(128, activation='relu'))\n",
    "        model.add(tf.keras.layers.Dense(42, activation='linear'))\n",
    "\n",
    "        optimizer = tf.keras.optimizers.Adam(learning_rate=0.00025, clipnorm=1.0)\n",
    "        model.compile(optimizer=optimizer, loss='mse')\n",
    "\n",
    "        return model\n",
    "\n",
    "    def forward(self, x):\n",
    "        x = self.model(x)\n",
    "        return x\n",
    "    \n",
    "    def memorize(self, state, action, reward, next_state):\n",
    "        self.memory.append((\n",
    "            state, action,\n",
    "            tf.cast(reward, tf.float16), next_state\n",
    "        ))\n",
    "\n",
    "    def act(self, state, episode):\n",
    "        eps_threshold = EPS_END + ((EPS_START - EPS_END) * math.exp(-1 * episode / EPS_DECAY))\n",
    "        if rand.random() > eps_threshold:\n",
    "            return tf.convert_to_tensor([np.argmin(self.forward(state))]), eps_threshold\n",
    "        else:\n",
    "            return tf.convert_to_tensor([rand.randrange(42)]), eps_threshold\n",
    "\n",
    "    def learn(self, episode):\n",
    "        if len(self.memory) < batch_size:\n",
    "            return\n",
    "\n",
    "        batch = rand.sample(self.memory, batch_size)\n",
    "        states, actions, rewards, next_states = zip(*batch)\n",
    "\n",
    "        states = tf.convert_to_tensor(states).reshape(batch_size, 21) # (batch_size, 21)\n",
    "        actions = tf.convert_to_tensor(actions) # (batch_size, )\n",
    "        rewards = tf.convert_to_tensor(rewards).reshape(batch_size, 1) # (batch_size, )\n",
    "        next_states = tf.convert_to_tensor(next_states).reshape(batch_size, 21) # (batch_size, 21)\n",
    "\n",
    "        # print(f\"s: {states.shape}, a: {actions.shape}, r: {rewards.shape}, ns: {next_states.shape}\")\n",
    "\n",
    "        current_q = self.model.predict(states, verbose=0)\n",
    "        next_q = self.target.predict(next_states, verbose=0)\n",
    "\n",
    "        # print(f\"cq: {current_q.shape}, nq: {next_q.shape}\")\n",
    "\n",
    "        for i in range(batch_size):\n",
    "            if episode == episode_done:\n",
    "                next_q_value = rewards[i]\n",
    "            else:\n",
    "                next_q_value = rewards[i] + GAMMA * np.min(next_q[i])\n",
    "            \n",
    "            current_q[i][actions[i]] = next_q_value\n",
    "\n",
    "        self.model.fit(states, current_q, batch_size=batch_size, verbose=False)\n",
    "        return self.model.evaluate(states, current_q, batch_size=batch_size, verbose=0)\n",
    "        "
   ]
  },
  {
   "cell_type": "code",
   "execution_count": 11,
   "metadata": {},
   "outputs": [
    {
     "name": "stdout",
     "output_type": "stream",
     "text": [
      "steps: 100, reward: 276.320343, pop: 44, loss: 1583.5156\n",
      "steps: 200, reward: 324.425110, pop: 45, loss: 1878.4954\n",
      "steps: 300, reward: 336.979584, pop: 45, loss: 1485.7764\n",
      "steps: 400, reward: 401.248688, pop: 45, loss: 504.1121\n",
      "steps: 500, reward: 433.700500, pop: 46, loss: 63.2163\n",
      "steps: 600, reward: 406.003418, pop: 45, loss: 77.6801\n",
      "steps: 700, reward: 454.497681, pop: 46, loss: 87.3178\n",
      "steps: 800, reward: 452.602142, pop: 46, loss: 115.9569\n",
      "steps: 900, reward: 480.444672, pop: 46, loss: 111.1132\n",
      "steps: 1000, reward: 491.117676, pop: 46, loss: 100.5212\n",
      "steps: 1100, reward: 531.324097, pop: 46, loss: 108.9357\n",
      "steps: 1200, reward: 520.989685, pop: 46, loss: 158.4533\n",
      "steps: 1300, reward: 510.521637, pop: 46, loss: 154.0184\n",
      "steps: 1400, reward: 503.492371, pop: 46, loss: 105.4743\n",
      "steps: 1500, reward: 483.468719, pop: 46, loss: 198.8296\n",
      "steps: 1600, reward: 512.606995, pop: 46, loss: 145.8158\n",
      "steps: 1700, reward: 528.472961, pop: 46, loss: 158.3791\n",
      "steps: 1800, reward: 573.705322, pop: 47, loss: 193.9703\n",
      "steps: 1900, reward: 605.280701, pop: 47, loss: 238.6828\n",
      "steps: 2000, reward: 624.469482, pop: 47, loss: 176.4586\n",
      "=============episode done=============\n",
      "episode: 1, reward: [[624.4695]], y_pred: [[47.741306]], eps: 0.9901493354116764\n",
      "=======================================\n",
      "steps: 100, reward: 223.755554, pop: 44, loss: 252.6434\n",
      "steps: 200, reward: 287.640198, pop: 44, loss: 194.5541\n",
      "steps: 300, reward: 188.469482, pop: 43, loss: 256.7639\n",
      "steps: 400, reward: 163.489914, pop: 43, loss: 291.6538\n",
      "steps: 500, reward: 122.657547, pop: 42, loss: 295.3556\n",
      "steps: 600, reward: 148.265503, pop: 43, loss: 320.7932\n",
      "steps: 700, reward: 129.063324, pop: 42, loss: 286.8492\n",
      "steps: 800, reward: 45.838432, pop: 42, loss: 220.3826\n",
      "steps: 900, reward: 28.456093, pop: 41, loss: 235.1678\n",
      "steps: 1000, reward: 41.535141, pop: 41, loss: 189.9832\n",
      "steps: 1100, reward: 54.496719, pop: 42, loss: 154.9625\n",
      "steps: 1200, reward: 55.996014, pop: 42, loss: 229.7428\n",
      "steps: 1300, reward: -35.258907, pop: 41, loss: 195.4580\n",
      "steps: 1400, reward: -25.148600, pop: 41, loss: 207.0459\n",
      "steps: 1500, reward: 8.081791, pop: 41, loss: 219.9277\n",
      "steps: 1600, reward: 14.030012, pop: 41, loss: 178.8065\n",
      "steps: 1700, reward: 15.173793, pop: 41, loss: 179.3810\n",
      "steps: 1800, reward: -22.037638, pop: 41, loss: 201.0750\n",
      "steps: 1900, reward: -4.870811, pop: 41, loss: 174.3249\n",
      "steps: 2000, reward: -3.290817, pop: 41, loss: 214.7707\n",
      "=============episode done=============\n",
      "episode: 2, reward: [[-3.290817]], y_pred: [[41.51212]], eps: 0.9803966865736877\n",
      "=======================================\n",
      "steps: 100, reward: 217.839462, pop: 44, loss: 207.5739\n",
      "steps: 200, reward: 238.788681, pop: 44, loss: 177.5899\n",
      "steps: 300, reward: 229.187042, pop: 44, loss: 192.6130\n",
      "steps: 400, reward: 202.336044, pop: 43, loss: 149.9323\n",
      "steps: 500, reward: 226.452560, pop: 44, loss: 140.1604\n",
      "steps: 600, reward: 301.196136, pop: 44, loss: 186.0316\n",
      "steps: 700, reward: 376.748718, pop: 45, loss: 203.7886\n",
      "steps: 800, reward: 362.964020, pop: 45, loss: 143.9404\n",
      "steps: 900, reward: 354.782898, pop: 45, loss: 231.9403\n",
      "steps: 1000, reward: 441.343414, pop: 46, loss: 208.1817\n",
      "steps: 1100, reward: 501.441376, pop: 46, loss: 227.7951\n",
      "steps: 1200, reward: 492.685455, pop: 46, loss: 262.1408\n",
      "steps: 1300, reward: 523.475769, pop: 46, loss: 172.1544\n",
      "steps: 1400, reward: 550.875916, pop: 47, loss: 247.2963\n",
      "steps: 1500, reward: 606.361145, pop: 47, loss: 162.8073\n",
      "steps: 1600, reward: 616.787720, pop: 47, loss: 278.7873\n",
      "steps: 1700, reward: 626.609375, pop: 47, loss: 254.7395\n",
      "steps: 1800, reward: 605.671875, pop: 47, loss: 343.3013\n",
      "steps: 1900, reward: 638.586304, pop: 47, loss: 303.7318\n",
      "steps: 2000, reward: 592.031860, pop: 47, loss: 218.4785\n",
      "=============episode done=============\n",
      "episode: 3, reward: [[592.03186]], y_pred: [[47.40651]], eps: 0.970741078213023\n",
      "=======================================\n",
      "steps: 100, reward: 232.058304, pop: 44, loss: 263.6122\n",
      "steps: 200, reward: 277.442963, pop: 44, loss: 240.3481\n",
      "steps: 300, reward: 363.554321, pop: 45, loss: 244.1297\n",
      "steps: 400, reward: 368.329346, pop: 45, loss: 394.1924\n",
      "steps: 500, reward: 379.655609, pop: 45, loss: 272.4840\n",
      "steps: 600, reward: 410.681427, pop: 45, loss: 375.8987\n",
      "steps: 700, reward: 395.608948, pop: 45, loss: 286.9975\n",
      "steps: 800, reward: 427.495911, pop: 45, loss: 285.6390\n",
      "steps: 900, reward: 461.582184, pop: 46, loss: 331.1661\n",
      "steps: 1000, reward: 489.796173, pop: 46, loss: 337.0627\n",
      "steps: 1100, reward: 516.260437, pop: 46, loss: 328.0977\n",
      "steps: 1200, reward: 558.380432, pop: 47, loss: 344.8940\n",
      "steps: 1300, reward: 567.893433, pop: 47, loss: 266.7001\n",
      "steps: 1400, reward: 505.838684, pop: 46, loss: 244.4742\n",
      "steps: 1500, reward: 537.520142, pop: 46, loss: 277.6771\n",
      "steps: 1600, reward: 491.911896, pop: 46, loss: 235.3398\n",
      "steps: 1700, reward: 507.209412, pop: 46, loss: 306.6920\n",
      "steps: 1800, reward: 396.242035, pop: 45, loss: 268.8767\n",
      "steps: 1900, reward: 459.377899, pop: 45, loss: 258.3996\n",
      "steps: 2000, reward: 489.834229, pop: 46, loss: 289.5801\n",
      "=============episode done=============\n",
      "episode: 4, reward: [[489.83423]], y_pred: [[46.212048]], eps: 0.9611815447608\n",
      "=======================================\n",
      "steps: 100, reward: 218.250961, pop: 44, loss: 294.1573\n",
      "steps: 200, reward: 290.688354, pop: 44, loss: 273.4125\n",
      "steps: 300, reward: 260.784851, pop: 44, loss: 238.7801\n",
      "steps: 400, reward: 297.470581, pop: 44, loss: 308.2272\n",
      "steps: 500, reward: 336.601776, pop: 45, loss: 305.7011\n",
      "steps: 600, reward: 426.812805, pop: 45, loss: 293.4257\n",
      "steps: 700, reward: 427.625214, pop: 45, loss: 291.7106\n",
      "steps: 800, reward: 481.375031, pop: 46, loss: 219.9950\n",
      "steps: 900, reward: 473.500244, pop: 46, loss: 268.9867\n",
      "steps: 1000, reward: 504.512634, pop: 46, loss: 309.4551\n",
      "steps: 1100, reward: 523.673340, pop: 46, loss: 310.2931\n",
      "steps: 1200, reward: 590.486633, pop: 47, loss: 227.9260\n",
      "steps: 1300, reward: 621.054993, pop: 47, loss: 314.4153\n",
      "steps: 1400, reward: 619.026245, pop: 47, loss: 367.0399\n",
      "steps: 1500, reward: 635.938354, pop: 47, loss: 313.9329\n",
      "steps: 1600, reward: 606.303284, pop: 47, loss: 269.1738\n",
      "steps: 1700, reward: 591.510193, pop: 47, loss: 337.9738\n",
      "steps: 1800, reward: 657.890198, pop: 47, loss: 322.8709\n",
      "steps: 1900, reward: 674.513550, pop: 47, loss: 297.6399\n",
      "steps: 2000, reward: 717.039429, pop: 48, loss: 318.4170\n",
      "=============episode done=============\n",
      "episode: 5, reward: [[717.0394]], y_pred: [[48.387962]], eps: 0.9517171302557069\n",
      "=======================================\n",
      "steps: 100, reward: 240.705566, pop: 44, loss: 339.1655\n",
      "steps: 200, reward: 202.479004, pop: 43, loss: 372.6960\n",
      "steps: 300, reward: 222.326065, pop: 44, loss: 314.5467\n",
      "steps: 400, reward: 222.622711, pop: 44, loss: 362.0803\n",
      "steps: 500, reward: 237.126785, pop: 44, loss: 284.4978\n",
      "steps: 600, reward: 251.850601, pop: 44, loss: 270.1195\n",
      "steps: 700, reward: 253.503555, pop: 44, loss: 345.8765\n",
      "steps: 800, reward: 262.857483, pop: 44, loss: 389.5726\n",
      "steps: 900, reward: 320.747437, pop: 44, loss: 451.5405\n",
      "steps: 1000, reward: 381.698151, pop: 45, loss: 387.6969\n",
      "steps: 1100, reward: 395.301361, pop: 45, loss: 437.9715\n",
      "steps: 1200, reward: 418.959717, pop: 45, loss: 403.9073\n",
      "steps: 1300, reward: 411.812500, pop: 45, loss: 333.8189\n",
      "steps: 1400, reward: 415.126556, pop: 45, loss: 323.8078\n",
      "steps: 1500, reward: 428.091095, pop: 45, loss: 338.1134\n",
      "steps: 1600, reward: 505.809875, pop: 46, loss: 331.1488\n",
      "steps: 1700, reward: 544.974976, pop: 46, loss: 395.2281\n",
      "steps: 1800, reward: 542.850586, pop: 46, loss: 297.5413\n",
      "steps: 1900, reward: 554.841492, pop: 46, loss: 319.6902\n",
      "steps: 2000, reward: 591.384888, pop: 47, loss: 362.7758\n",
      "=============episode done=============\n",
      "episode: 6, reward: [[591.3849]], y_pred: [[47.0309]], eps: 0.9423468882484062\n",
      "=======================================\n",
      "steps: 100, reward: 248.610519, pop: 44, loss: 289.2072\n",
      "steps: 200, reward: 259.256409, pop: 44, loss: 446.7471\n",
      "steps: 300, reward: 300.181671, pop: 44, loss: 378.7795\n",
      "steps: 400, reward: 328.113129, pop: 45, loss: 318.3619\n",
      "steps: 500, reward: 334.113037, pop: 45, loss: 377.7974\n",
      "steps: 600, reward: 303.948914, pop: 44, loss: 384.0414\n",
      "steps: 700, reward: 290.434814, pop: 44, loss: 216.4137\n",
      "steps: 800, reward: 362.189240, pop: 45, loss: 399.8630\n",
      "steps: 900, reward: 335.128601, pop: 44, loss: 307.0462\n",
      "steps: 1000, reward: 351.677002, pop: 45, loss: 309.7712\n",
      "steps: 1100, reward: 348.604736, pop: 45, loss: 296.2308\n",
      "steps: 1200, reward: 335.229980, pop: 44, loss: 349.4211\n",
      "steps: 1300, reward: 339.302429, pop: 44, loss: 364.9268\n",
      "steps: 1400, reward: 327.374847, pop: 44, loss: 340.8919\n",
      "steps: 1500, reward: 343.921997, pop: 44, loss: 261.6314\n",
      "steps: 1600, reward: 302.989044, pop: 44, loss: 303.0605\n",
      "steps: 1700, reward: 337.740814, pop: 44, loss: 309.8590\n",
      "steps: 1800, reward: 343.359650, pop: 44, loss: 273.0346\n",
      "steps: 1900, reward: 320.688354, pop: 44, loss: 329.8481\n",
      "steps: 2000, reward: 313.003906, pop: 44, loss: 363.0263\n",
      "=============episode done=============\n",
      "episode: 7, reward: [[313.0039]], y_pred: [[44.176834]], eps: 0.9330698817068888\n",
      "=======================================\n",
      "steps: 100, reward: 167.171219, pop: 43, loss: 300.0379\n",
      "steps: 200, reward: 253.767517, pop: 44, loss: 263.8095\n",
      "steps: 300, reward: 275.343414, pop: 44, loss: 402.4749\n",
      "steps: 400, reward: 307.595428, pop: 44, loss: 301.1996\n"
     ]
    }
   ],
   "source": [
    "agent = Dqn_agent()\n",
    "sc_hist = []\n",
    "st_hist = []\n",
    "pop_hist = []\n",
    "\n",
    "for e in range(1, 1000):\n",
    "    state = return_latest()\n",
    "    steps = 0\n",
    "\n",
    "    if e % 50 == 0:\n",
    "        agent.target.set_weights(agent.model.get_weights())\n",
    "    while True:\n",
    "        pred_y = dnn_model.predict(state, verbose=0)\n",
    "\n",
    "        action, eps = agent.act(state, e)\n",
    "\n",
    "        next_state = return_state(action, state)\n",
    "        reward = return_reward(state, pred_y)\n",
    "\n",
    "        agent.memorize(state, action, reward, next_state)\n",
    "        loss = agent.learn(e)\n",
    "\n",
    "        state = next_state\n",
    "        steps = steps + 1\n",
    "\n",
    "        if steps % 100 == 0:\n",
    "            print(f\"steps: {steps}, reward: {reward[0][0]:.6f}, pop: {int(pred_y)}, loss: {loss:.4f}\")\n",
    "\n",
    "        if steps == episode_done:\n",
    "            print(\"=============episode done=============\")\n",
    "            print(f\"episode: {e}, reward: {reward}, y_pred: {pred_y}, eps: {eps}\")\n",
    "            print(\"=======================================\")\n",
    "            sc_hist.append(reward)\n",
    "            st_hist.append(state)\n",
    "            pop_hist.append(pred_y)\n",
    "            break"
   ]
  },
  {
   "cell_type": "code",
   "execution_count": null,
   "metadata": {},
   "outputs": [
    {
     "data": {
      "image/png": "[encoded data removed]",
      "text/plain": [
       "<Figure size 432x288 with 1 Axes>"
      ]
     },
     "metadata": {
      "needs_background": "light"
     },
     "output_type": "display_data"
    }
   ],
   "source": [
    "plt.plot(np.array(pop_hist).reshape(99))\n",
    "plt.show()"
   ]
  },
  {
   "cell_type": "code",
   "execution_count": null,
   "metadata": {},
   "outputs": [
    {
     "data": {
      "image/png": "[encoded data removed]",
      "text/plain": [
       "<Figure size 432x288 with 1 Axes>"
      ]
     },
     "metadata": {
      "needs_background": "light"
     },
     "output_type": "display_data"
    }
   ],
   "source": [
    "plt.plot(np.array(sc_hist).reshape(99))\n",
    "plt.show()"
   ]
  },
  {
   "cell_type": "code",
   "execution_count": null,
   "metadata": {},
   "outputs": [],
   "source": [
    "np_st_hist = np.array(st_hist)"
   ]
  },
  {
   "cell_type": "code",
   "execution_count": null,
   "metadata": {},
   "outputs": [
    {
     "data": {
      "text/plain": [
       "(99, 1, 21)"
      ]
     },
     "execution_count": 20,
     "metadata": {},
     "output_type": "execute_result"
    }
   ],
   "source": [
    "np_st_hist.shape"
   ]
  },
  {
   "cell_type": "code",
   "execution_count": null,
   "metadata": {},
   "outputs": [],
   "source": [
    "result = np.array(st_hist).reshape(99, 21)\n",
    "X_result = scaler.inverse_transform(result)\n",
    "pop_result = np.array(pop_hist).reshape(99, 1)"
   ]
  },
  {
   "cell_type": "code",
   "execution_count": null,
   "metadata": {},
   "outputs": [],
   "source": [
    "df = np.append(X_result, pop_result, axis=1)"
   ]
  },
  {
   "cell_type": "code",
   "execution_count": null,
   "metadata": {},
   "outputs": [],
   "source": [
    "pd_df = pd.DataFrame(df)\n",
    "pd_df.to_excel('./documents/result/dqn.xlsx')"
   ]
  },
  {
   "cell_type": "code",
   "execution_count": null,
   "metadata": {},
   "outputs": [],
   "source": []
  }
 ],
 "metadata": {
  "kernelspec": {
   "display_name": "Python 3.8.13 ('tens-cpu38')",
   "language": "python",
   "name": "python3"
  },
  "language_info": {
   "codemirror_mode": {
    "name": "ipython",
    "version": 3
   },
   "file_extension": ".py",
   "mimetype": "text/x-python",
   "name": "python",
   "nbconvert_exporter": "python",
   "pygments_lexer": "ipython3",
   "version": "3.8.13"
  },
  "orig_nbformat": 4,
  "vscode": {
   "interpreter": {
    "hash": "4d69d666dea1d14e04e4d38b06e20d4d04fc31a418cef854ebdceb8b68a0927a"
   }
  }
 },
 "nbformat": 4,
 "nbformat_minor": 2
}
