{
 "cells": [
  {
   "cell_type": "code",
   "execution_count": 1,
   "metadata": {},
   "outputs": [],
   "source": [
    "import tensorflow as tf\n",
    "import numpy as np\n",
    "from sklearn.preprocessing import MinMaxScaler\n",
    "import pandas as pd\n",
    "from collections import deque\n",
    "import random as rand\n",
    "import math\n",
    "import matplotlib.pyplot as plt"
   ]
  },
  {
   "cell_type": "code",
   "execution_count": 2,
   "metadata": {},
   "outputs": [],
   "source": [
    "import os\n",
    "os.chdir('C:\\\\code\\\\activ')"
   ]
  },
  {
   "cell_type": "code",
   "execution_count": 3,
   "metadata": {},
   "outputs": [],
   "source": [
    "df_name = 'nov_nine_var.xlsx'"
   ]
  },
  {
   "cell_type": "code",
   "execution_count": 4,
   "metadata": {},
   "outputs": [],
   "source": [
    "from tensorflow.python.ops.numpy_ops import np_config\n",
    "np_config.enable_numpy_behavior()\n",
    "\n",
    "np.set_printoptions(precision=6, suppress=True)"
   ]
  },
  {
   "cell_type": "code",
   "execution_count": 5,
   "metadata": {},
   "outputs": [],
   "source": [
    "dnn_model = tf.keras.models.load_model('./model/dnn.h5')"
   ]
  },
  {
   "cell_type": "code",
   "execution_count": 6,
   "metadata": {},
   "outputs": [],
   "source": [
    "EPS_START = 1.0\n",
    "EPS_END = 0.01\n",
    "EPS_DECAY = 100\n",
    "\n",
    "GAMMA = 1.2\n",
    "batch_size = 128\n",
    "episode_done = 1000"
   ]
  },
  {
   "cell_type": "code",
   "execution_count": 7,
   "metadata": {},
   "outputs": [],
   "source": [
    "df = pd.read_excel('./documents/'+df_name).iloc[:,1:23]\n",
    "\n",
    "scaler = MinMaxScaler()\n",
    "X = scaler.fit_transform(df.iloc[:,0:21])"
   ]
  },
  {
   "cell_type": "code",
   "execution_count": 8,
   "metadata": {},
   "outputs": [
    {
     "data": {
      "text/plain": [
       "수도권 과밀화율    0.503849\n",
       "Name: 430, dtype: float64"
      ]
     },
     "execution_count": 8,
     "metadata": {},
     "output_type": "execute_result"
    }
   ],
   "source": [
    "df.iloc[:,21:22].iloc[-1]"
   ]
  },
  {
   "cell_type": "code",
   "execution_count": 9,
   "metadata": {},
   "outputs": [],
   "source": [
    "def return_latest():\n",
    "    df = pd.read_excel('./documents/'+df_name).iloc[:,1::]\n",
    "    X = df.iloc[:,0:21]\n",
    "    scaler = MinMaxScaler()\n",
    "    X = scaler.fit_transform(X)\n",
    "    latest = X[-1].reshape(1, 21)\n",
    "\n",
    "    return latest"
   ]
  },
  {
   "cell_type": "code",
   "execution_count": 10,
   "metadata": {},
   "outputs": [],
   "source": [
    "def return_state(action, state):\n",
    "    if action % 2 == 0:\n",
    "        var = -0.01\n",
    "    \n",
    "    else:\n",
    "        var = 0.01\n",
    "\n",
    "    j = int(action / 2)\n",
    "    \n",
    "    state[0][j] = state[0][j] + var\n",
    "    next_state = state\n",
    "\n",
    "    return next_state"
   ]
  },
  {
   "cell_type": "code",
   "execution_count": 11,
   "metadata": {},
   "outputs": [],
   "source": [
    "def return_reward(state, y_pred):\n",
    "    real_state = return_latest()\n",
    "\n",
    "    dist = np.sqrt(np.sum(np.square(real_state-state)))\n",
    "\n",
    "    a = tf.cast(tf.math.subtract(y_pred, 0.503849), dtype=tf.float32)\n",
    "    b = tf.cast(dist, dtype=tf.float32)\n",
    "\n",
    "    loss = tf.math.add(a, b)\n",
    "    return tf.math.multiply(loss, 100)"
   ]
  },
  {
   "cell_type": "code",
   "execution_count": 12,
   "metadata": {},
   "outputs": [],
   "source": [
    "class Dqn_agent:\n",
    "    def __init__(self):\n",
    "        self.target = self._create_model()\n",
    "        self.model = self._create_model()\n",
    "\n",
    "        self.target.set_weights(self.model.get_weights())\n",
    "\n",
    "        self.memory = deque(maxlen=10000)\n",
    "        \n",
    "    def _create_model(self):\n",
    "        model = tf.keras.models.Sequential()\n",
    "        model.add(tf.keras.layers.Dense(128, input_shape=(21, ), activation='relu'))\n",
    "        model.add(tf.keras.layers.Dense(128, activation='relu'))\n",
    "        model.add(tf.keras.layers.Dense(128, activation='relu'))\n",
    "        model.add(tf.keras.layers.Dense(42, activation='linear'))\n",
    "\n",
    "        optimizer = tf.keras.optimizers.Adam(learning_rate=0.0001, clipnorm=1.0)\n",
    "        model.compile(optimizer=optimizer, loss='mse')\n",
    "\n",
    "        return model\n",
    "\n",
    "    def forward(self, x):\n",
    "        x = self.model(x)\n",
    "        return x\n",
    "    \n",
    "    def memorize(self, state, action, reward, next_state):\n",
    "        self.memory.append((\n",
    "            state, action,\n",
    "            tf.cast(reward, tf.float16), next_state\n",
    "        ))\n",
    "\n",
    "    def act(self, state, episode):\n",
    "        eps_threshold = EPS_END + ((EPS_START - EPS_END) * (10 / episode))\n",
    "        if rand.random() > eps_threshold:\n",
    "            return tf.convert_to_tensor([np.argmin(self.forward(state))]), eps_threshold\n",
    "        else:\n",
    "            return tf.convert_to_tensor([rand.randrange(42)]), eps_threshold\n",
    "\n",
    "    def learn(self, episode):\n",
    "        if len(self.memory) < batch_size:\n",
    "            return\n",
    "\n",
    "        batch = rand.sample(self.memory, batch_size)\n",
    "        states, actions, rewards, next_states = zip(*batch)\n",
    "\n",
    "        states = tf.convert_to_tensor(states).reshape(batch_size, 21) # (batch_size, 21)\n",
    "        actions = tf.convert_to_tensor(actions) # (batch_size, )\n",
    "        rewards = tf.convert_to_tensor(rewards).reshape(batch_size, 1) # (batch_size, )\n",
    "        next_states = tf.convert_to_tensor(next_states).reshape(batch_size, 21) # (batch_size, 21)\n",
    "\n",
    "        # print(f\"s: {states.shape}, a: {actions.shape}, r: {rewards.shape}, ns: {next_states.shape}\")\n",
    "\n",
    "        current_q = self.model.predict(states, verbose=0)\n",
    "        next_q = self.target.predict(next_states, verbose=0)\n",
    "\n",
    "        # print(f\"cq: {current_q.shape}, nq: {next_q.shape}\")\n",
    "\n",
    "        for i in range(batch_size):\n",
    "            if episode == episode_done:\n",
    "                next_q_value = rewards[i]\n",
    "            else:\n",
    "                next_q_value = rewards[i] + GAMMA * np.min(next_q[i])\n",
    "            \n",
    "            current_q[i, actions[i]] = next_q_value\n",
    "\n",
    "        self.model.fit(states, current_q, batch_size=16, epochs=5, verbose=0)\n",
    "        return self.model.evaluate(states, current_q, batch_size=batch_size, verbose=0)\n",
    "        "
   ]
  },
  {
   "cell_type": "code",
   "execution_count": 13,
   "metadata": {},
   "outputs": [
    {
     "name": "stdout",
     "output_type": "stream",
     "text": [
      "steps: 200, reward: 11.951863, pop: 0.5033680200576782, loss: 0.3053\n",
      "steps: 400, reward: 15.422441, pop: 0.5031539797782898, loss: 0.2533\n",
      "steps: 600, reward: 27.992785, pop: 0.5073710083961487, loss: 0.7113\n",
      "steps: 800, reward: 28.645596, pop: 0.5056999921798706, loss: 1.6104\n",
      "steps: 1000, reward: 28.218719, pop: 0.5067510008811951, loss: 1.5332\n",
      "=============episode done=============\n",
      "episode: 1, reward: [[28.21872]], y_pred: [[0.506751]], eps: 9.91\n",
      "=======================================\n",
      "steps: 200, reward: 12.023467, pop: 0.5049200057983398, loss: 1.8542\n",
      "steps: 400, reward: 16.193674, pop: 0.5045409798622131, loss: 1.3371\n",
      "steps: 600, reward: 18.363180, pop: 0.5052719712257385, loss: 1.0891\n",
      "steps: 800, reward: 23.866755, pop: 0.5050299763679504, loss: 1.0968\n",
      "steps: 1000, reward: 30.267139, pop: 0.5071880221366882, loss: 1.3791\n",
      "=============episode done=============\n",
      "episode: 2, reward: [[30.26714]], y_pred: [[0.507188]], eps: 4.96\n",
      "=======================================\n",
      "steps: 200, reward: 14.583820, pop: 0.5034000277519226, loss: 1.4208\n",
      "steps: 400, reward: 21.254110, pop: 0.5019140243530273, loss: 1.2596\n",
      "steps: 600, reward: 24.000528, pop: 0.5001329779624939, loss: 1.2049\n",
      "steps: 800, reward: 29.941828, pop: 0.498308002948761, loss: 1.3227\n",
      "steps: 1000, reward: 27.761742, pop: 0.4986239969730377, loss: 1.1865\n",
      "=============episode done=============\n",
      "episode: 3, reward: [[27.761742]], y_pred: [[0.498624]], eps: 3.31\n",
      "=======================================\n",
      "steps: 200, reward: 16.680157, pop: 0.5003569722175598, loss: 1.2908\n",
      "steps: 400, reward: 24.744812, pop: 0.5018979907035828, loss: 1.1468\n",
      "steps: 600, reward: 30.480639, pop: 0.5004349946975708, loss: 1.3907\n",
      "steps: 800, reward: 38.027462, pop: 0.49734199047088623, loss: 1.3745\n",
      "steps: 1000, reward: 40.892849, pop: 0.4958840012550354, loss: 1.4679\n",
      "=============episode done=============\n",
      "episode: 4, reward: [[40.89285]], y_pred: [[0.495884]], eps: 2.485\n",
      "=======================================\n",
      "steps: 200, reward: 16.244024, pop: 0.5031939744949341, loss: 2.0650\n",
      "steps: 400, reward: 20.951630, pop: 0.5012329816818237, loss: 1.6239\n",
      "steps: 600, reward: 22.478603, pop: 0.5028030276298523, loss: 1.2921\n",
      "steps: 800, reward: 29.584333, pop: 0.5037189722061157, loss: 1.7789\n",
      "steps: 1000, reward: 26.589796, pop: 0.5029140114784241, loss: 1.5941\n",
      "=============episode done=============\n",
      "episode: 5, reward: [[26.589796]], y_pred: [[0.502914]], eps: 1.99\n",
      "=======================================\n",
      "steps: 200, reward: 14.133077, pop: 0.5023509860038757, loss: 1.6121\n",
      "steps: 400, reward: 19.136246, pop: 0.49976301193237305, loss: 1.2558\n",
      "steps: 600, reward: 20.978809, pop: 0.5019770264625549, loss: 1.5903\n",
      "steps: 800, reward: 27.055830, pop: 0.5005459785461426, loss: 1.5695\n",
      "steps: 1000, reward: 29.365328, pop: 0.5008540153503418, loss: 1.4104\n",
      "=============episode done=============\n",
      "episode: 6, reward: [[29.365328]], y_pred: [[0.500854]], eps: 1.6600000000000001\n",
      "=======================================\n",
      "steps: 200, reward: 12.610835, pop: 0.5026779770851135, loss: 1.2939\n",
      "steps: 400, reward: 21.034090, pop: 0.5011169910430908, loss: 1.2865\n",
      "steps: 600, reward: 26.319736, pop: 0.5009639859199524, loss: 1.5981\n",
      "steps: 800, reward: 30.360062, pop: 0.500855028629303, loss: 1.5703\n",
      "steps: 1000, reward: 31.119146, pop: 0.5010340213775635, loss: 1.4091\n",
      "=============episode done=============\n",
      "episode: 7, reward: [[31.119146]], y_pred: [[0.501034]], eps: 1.4242857142857144\n",
      "=======================================\n",
      "steps: 200, reward: 13.344280, pop: 0.5053830146789551, loss: 1.4371\n",
      "steps: 400, reward: 19.035698, pop: 0.5044689774513245, loss: 1.3056\n",
      "steps: 600, reward: 23.351402, pop: 0.5058460235595703, loss: 1.2805\n",
      "steps: 800, reward: 31.494463, pop: 0.5067039728164673, loss: 1.4943\n",
      "steps: 1000, reward: 33.040657, pop: 0.5083720088005066, loss: 1.3620\n",
      "=============episode done=============\n",
      "episode: 8, reward: [[33.040657]], y_pred: [[0.508372]], eps: 1.2475\n",
      "=======================================\n",
      "steps: 200, reward: 15.668980, pop: 0.5030590295791626, loss: 1.4812\n",
      "steps: 400, reward: 22.131458, pop: 0.5024530291557312, loss: 1.5809\n",
      "steps: 600, reward: 26.976505, pop: 0.5023210048675537, loss: 1.4524\n",
      "steps: 800, reward: 30.075909, pop: 0.5042750239372253, loss: 1.5443\n",
      "steps: 1000, reward: 33.644531, pop: 0.502951979637146, loss: 1.8203\n",
      "=============episode done=============\n",
      "episode: 9, reward: [[33.64453]], y_pred: [[0.502952]], eps: 1.11\n",
      "=======================================\n",
      "steps: 200, reward: 12.852465, pop: 0.5027589797973633, loss: 1.2655\n",
      "steps: 400, reward: 16.823118, pop: 0.5017859935760498, loss: 1.5760\n",
      "steps: 600, reward: 18.631443, pop: 0.5041530132293701, loss: 1.8627\n",
      "steps: 800, reward: 24.261301, pop: 0.5052149891853333, loss: 1.3995\n",
      "steps: 1000, reward: 32.567451, pop: 0.506413996219635, loss: 1.5406\n",
      "=============episode done=============\n",
      "episode: 10, reward: [[32.56745]], y_pred: [[0.506414]], eps: 1.0\n",
      "=======================================\n",
      "steps: 200, reward: 15.482274, pop: 0.5018280148506165, loss: 1.6163\n",
      "steps: 400, reward: 22.013327, pop: 0.5021719932556152, loss: 1.4527\n",
      "steps: 600, reward: 32.285740, pop: 0.5008230209350586, loss: 1.2587\n",
      "steps: 800, reward: 38.749088, pop: 0.4986569881439209, loss: 1.4240\n",
      "steps: 1000, reward: 50.478889, pop: 0.4977560043334961, loss: 1.5527\n",
      "=============episode done=============\n",
      "episode: 11, reward: [[50.47889]], y_pred: [[0.497756]], eps: 0.9099999999999999\n",
      "=======================================\n",
      "steps: 200, reward: 26.538345, pop: 0.5009040236473083, loss: 1.7511\n",
      "steps: 400, reward: 41.603889, pop: 0.49562400579452515, loss: 1.7333\n",
      "steps: 600, reward: 52.087357, pop: 0.49462801218032837, loss: 1.8210\n",
      "steps: 800, reward: 59.586071, pop: 0.4902839958667755, loss: 2.6300\n",
      "steps: 1000, reward: 72.371735, pop: 0.4841960072517395, loss: 2.4020\n",
      "=============episode done=============\n",
      "episode: 12, reward: [[72.371735]], y_pred: [[0.484196]], eps: 0.8350000000000001\n",
      "=======================================\n",
      "steps: 200, reward: 29.864670, pop: 0.498522013425827, loss: 3.1778\n",
      "steps: 400, reward: 41.273865, pop: 0.49754101037979126, loss: 2.7315\n",
      "steps: 600, reward: 65.639854, pop: 0.49451500177383423, loss: 2.6939\n",
      "steps: 800, reward: 83.473373, pop: 0.4911159873008728, loss: 3.2757\n",
      "steps: 1000, reward: 107.513847, pop: 0.487199991941452, loss: 5.0991\n",
      "=============episode done=============\n",
      "episode: 13, reward: [[107.51385]], y_pred: [[0.4872]], eps: 0.7715384615384616\n",
      "=======================================\n",
      "steps: 200, reward: 44.996376, pop: 0.5039240121841431, loss: 5.3768\n",
      "steps: 400, reward: 80.187729, pop: 0.5028560161590576, loss: 5.1271\n",
      "steps: 600, reward: 89.679543, pop: 0.5075600147247314, loss: 6.0503\n",
      "steps: 800, reward: 118.329025, pop: 0.5077329874038696, loss: 4.1788\n",
      "steps: 1000, reward: 156.046173, pop: 0.5131819844245911, loss: 9.7754\n",
      "=============episode done=============\n",
      "episode: 14, reward: [[156.04617]], y_pred: [[0.513182]], eps: 0.7171428571428572\n",
      "=======================================\n",
      "steps: 200, reward: 38.594921, pop: 0.5045710206031799, loss: 6.4676\n",
      "steps: 400, reward: 54.801250, pop: 0.5032269954681396, loss: 7.4405\n",
      "steps: 600, reward: 90.870262, pop: 0.5061299800872803, loss: 8.2857\n",
      "steps: 800, reward: 97.127205, pop: 0.5029069781303406, loss: 8.2471\n",
      "steps: 1000, reward: 106.578186, pop: 0.499210000038147, loss: 9.7941\n",
      "=============episode done=============\n",
      "episode: 15, reward: [[106.578186]], y_pred: [[0.49921]], eps: 0.6699999999999999\n",
      "=======================================\n",
      "steps: 200, reward: 24.221388, pop: 0.5031639933586121, loss: 9.3947\n",
      "steps: 400, reward: 27.606947, pop: 0.503512978553772, loss: 7.2343\n",
      "steps: 600, reward: 63.648640, pop: 0.5037819743156433, loss: 9.7034\n",
      "steps: 800, reward: 91.565224, pop: 0.5038589835166931, loss: 10.9993\n",
      "steps: 1000, reward: 102.312828, pop: 0.5073689818382263, loss: 14.2611\n",
      "=============episode done=============\n",
      "episode: 16, reward: [[102.31283]], y_pred: [[0.507369]], eps: 0.62875\n",
      "=======================================\n",
      "steps: 200, reward: 57.158245, pop: 0.5051680207252502, loss: 11.1738\n",
      "steps: 400, reward: 60.505909, pop: 0.5064129829406738, loss: 10.3100\n",
      "steps: 600, reward: 111.115196, pop: 0.5084750056266785, loss: 11.9646\n",
      "steps: 800, reward: 145.281494, pop: 0.5163859724998474, loss: 13.1864\n",
      "steps: 1000, reward: 159.373093, pop: 0.5175169706344604, loss: 13.8175\n",
      "=============episode done=============\n",
      "episode: 17, reward: [[159.3731]], y_pred: [[0.517517]], eps: 0.5923529411764706\n",
      "=======================================\n",
      "steps: 200, reward: 47.677200, pop: 0.5002049803733826, loss: 15.1740\n",
      "steps: 400, reward: 99.183571, pop: 0.49959200620651245, loss: 15.3307\n",
      "steps: 600, reward: 138.065491, pop: 0.49677199125289917, loss: 18.4172\n",
      "steps: 800, reward: 183.980209, pop: 0.4920029938220978, loss: 25.4318\n",
      "steps: 1000, reward: 211.921356, pop: 0.4867570102214813, loss: 22.2465\n",
      "=============episode done=============\n",
      "episode: 18, reward: [[211.92136]], y_pred: [[0.486757]], eps: 0.56\n",
      "=======================================\n",
      "steps: 200, reward: 62.350655, pop: 0.49998000264167786, loss: 27.7087\n",
      "steps: 400, reward: 121.841095, pop: 0.5026699900627136, loss: 22.7832\n",
      "steps: 600, reward: 170.110764, pop: 0.5076649785041809, loss: 22.3484\n",
      "steps: 800, reward: 212.304382, pop: 0.4901660084724426, loss: 28.0461\n"
     ]
    }
   ],
   "source": [
    "agent = Dqn_agent()\n",
    "sc_hist = []\n",
    "st_hist = []\n",
    "pop_hist = []\n",
    "\n",
    "for e in range(1, 100):\n",
    "    state = return_latest()\n",
    "    steps = 0\n",
    "\n",
    "    if e % 50 == 0:\n",
    "        agent.target.set_weights(agent.model.get_weights())\n",
    "    while True:\n",
    "        pred_y = dnn_model.predict(state, verbose=0)\n",
    "\n",
    "        action, eps = agent.act(state, e)\n",
    "\n",
    "        next_state = return_state(action, state)\n",
    "        reward = return_reward(state, pred_y)\n",
    "\n",
    "        agent.memorize(state, action, reward, next_state)\n",
    "        loss = agent.learn(e)\n",
    "\n",
    "        state = next_state\n",
    "        steps = steps + 1\n",
    "\n",
    "        if steps % 200 == 0:\n",
    "            print(f\"steps: {steps}, reward: {reward[0][0]:.6f}, pop: {round(pred_y[0][0], 6)}, loss: {loss:.4f}\")\n",
    "\n",
    "        if steps == episode_done:\n",
    "            print(\"=============episode done=============\")\n",
    "            print(f\"episode: {e}, reward: {reward}, y_pred: {pred_y}, eps: {eps}\")\n",
    "            print(\"=======================================\")\n",
    "            sc_hist.append(reward)\n",
    "            st_hist.append(state)\n",
    "            pop_hist.append(pred_y)\n",
    "            break"
   ]
  },
  {
   "cell_type": "code",
   "execution_count": null,
   "metadata": {},
   "outputs": [],
   "source": [
    "len(pop_hist)"
   ]
  },
  {
   "cell_type": "code",
   "execution_count": null,
   "metadata": {},
   "outputs": [
    {
     "data": {
      "image/png": "[encoded data removed]",
      "text/plain": [
       "<Figure size 432x288 with 1 Axes>"
      ]
     },
     "metadata": {
      "needs_background": "light"
     },
     "output_type": "display_data"
    }
   ],
   "source": [
    "plt.plot(np.array(pop_hist).reshape(len(pop_hist)))\n",
    "plt.show()"
   ]
  },
  {
   "cell_type": "code",
   "execution_count": null,
   "metadata": {},
   "outputs": [
    {
     "data": {
      "image/png": "[encoded data removed]",
      "text/plain": [
       "<Figure size 432x288 with 1 Axes>"
      ]
     },
     "metadata": {
      "needs_background": "light"
     },
     "output_type": "display_data"
    }
   ],
   "source": [
    "plt.plot(np.array(sc_hist).reshape(len(sc_hist)))\n",
    "plt.show()"
   ]
  },
  {
   "cell_type": "code",
   "execution_count": null,
   "metadata": {},
   "outputs": [],
   "source": [
    "np_st_hist = np.array(st_hist)"
   ]
  },
  {
   "cell_type": "code",
   "execution_count": null,
   "metadata": {},
   "outputs": [
    {
     "data": {
      "text/plain": [
       "(99, 1, 21)"
      ]
     },
     "execution_count": 20,
     "metadata": {},
     "output_type": "execute_result"
    }
   ],
   "source": [
    "np_st_hist.shape"
   ]
  },
  {
   "cell_type": "code",
   "execution_count": null,
   "metadata": {},
   "outputs": [],
   "source": [
    "result = np.array(st_hist).reshape(99, 21)\n",
    "X_result = scaler.inverse_transform(result)\n",
    "pop_result = np.array(pop_hist).reshape(99, 1)"
   ]
  },
  {
   "cell_type": "code",
   "execution_count": null,
   "metadata": {},
   "outputs": [],
   "source": [
    "df = np.append(X_result, pop_result, axis=1)"
   ]
  },
  {
   "cell_type": "code",
   "execution_count": null,
   "metadata": {},
   "outputs": [],
   "source": [
    "pd_df = pd.DataFrame(df)\n",
    "pd_df.to_excel('./documents/result/dqn.xlsx')"
   ]
  },
  {
   "cell_type": "code",
   "execution_count": null,
   "metadata": {},
   "outputs": [],
   "source": []
  }
 ],
 "metadata": {
  "kernelspec": {
   "display_name": "Python 3.10.8 ('tensor')",
   "language": "python",
   "name": "python3"
  },
  "language_info": {
   "codemirror_mode": {
    "name": "ipython",
    "version": 3
   },
   "file_extension": ".py",
   "mimetype": "text/x-python",
   "name": "python",
   "nbconvert_exporter": "python",
   "pygments_lexer": "ipython3",
   "version": "3.9.13"
  },
  "orig_nbformat": 4,
  "vscode": {
   "interpreter": {
    "hash": "f52cf5ba9cdea042db831f93434c1e9c95a6644d0436f290cb96b0dc07e19ad3"
   }
  }
 },
 "nbformat": 4,
 "nbformat_minor": 2
}
