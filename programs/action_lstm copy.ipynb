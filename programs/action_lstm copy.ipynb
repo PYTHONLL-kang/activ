{
 "cells": [
  {
   "cell_type": "code",
   "execution_count": 1,
   "metadata": {},
   "outputs": [],
   "source": [
    "import pandas as pd\n",
    "import numpy as np\n",
    "import matplotlib.pyplot as plt\n",
    "import random as rand\n",
    "\n",
    "import tensorflow as tf\n",
    "from sklearn.model_selection import train_test_split\n",
    "from sklearn.preprocessing import MinMaxScaler"
   ]
  },
  {
   "cell_type": "code",
   "execution_count": 2,
   "metadata": {},
   "outputs": [],
   "source": [
    "import os\n",
    "os.chdir(\"C:\\\\code\\\\activ\")"
   ]
  },
  {
   "cell_type": "code",
   "execution_count": 3,
   "metadata": {},
   "outputs": [],
   "source": [
    "df = pd.read_excel('./documents/feature.xlsx')"
   ]
  },
  {
   "cell_type": "code",
   "execution_count": 4,
   "metadata": {},
   "outputs": [],
   "source": [
    "ACTION_NUM = 5"
   ]
  },
  {
   "cell_type": "code",
   "execution_count": 6,
   "metadata": {},
   "outputs": [
    {
     "name": "stdout",
     "output_type": "stream",
     "text": [
      "(78, 1, 21)\n"
     ]
    }
   ],
   "source": [
    "def make_dataset(training_data, t=1, k=100, test_size=0.2):\n",
    "    scaler = MinMaxScaler()\n",
    "    training_data = scaler.fit_transform(training_data.to_numpy()[:,1::])\n",
    "\n",
    "    p = []\n",
    "    for i in range(ACTION_NUM):\n",
    "        idx = rand.randint(0, len(training_data)-k-t)\n",
    "\n",
    "        X = []\n",
    "        y = []\n",
    "        for ii in range(t, k-t):\n",
    "            X.append(training_data[idx+ii-t:idx+ii])\n",
    "            y.append(training_data[idx+ii+1])\n",
    "\n",
    "        X = np.array(X)\n",
    "        y = np.array(y)\n",
    "        X_train,X_test,y_train,y_test = train_test_split(X, y, test_size=test_size, shuffle=False)\n",
    "        p.append([X_train,X_test,y_train,y_test])\n",
    "\n",
    "    return p\n",
    "p = make_dataset(df)\n",
    "print(p[0][0].shape)"
   ]
  },
  {
   "cell_type": "code",
   "execution_count": 7,
   "metadata": {},
   "outputs": [],
   "source": [
    "class my_model(tf.keras.Model):\n",
    "    def __init__(self):\n",
    "        super(my_model, self).__init__()\n",
    "        self.d1 = tf.keras.layers.LSTM(units=128, activation='tanh', return_sequences=True)\n",
    "        self.d2 = tf.keras.layers.LSTM(units=128, activation='tanh', return_sequences=True)\n",
    "        self.d3 = tf.keras.layers.LSTM(units=128, activation='tanh', return_sequences=False)\n",
    "        self.d4 = tf.keras.layers.Dense(units=21, activation='linear')\n",
    "    def call(self, inputs):\n",
    "        x = self.d1(inputs)\n",
    "        x = self.d2(x)\n",
    "        x = self.d3(x)\n",
    "        x = self.d4(x)\n",
    "\n",
    "        return x"
   ]
  },
  {
   "cell_type": "code",
   "execution_count": 8,
   "metadata": {},
   "outputs": [],
   "source": [
    "model_1 = my_model()\n",
    "model_2 = my_model()\n",
    "model_3 = my_model()\n",
    "model_4 = my_model()\n",
    "model_5 = my_model()"
   ]
  },
  {
   "cell_type": "code",
   "execution_count": 9,
   "metadata": {},
   "outputs": [],
   "source": [
    "model_list = [model_1,model_2,model_3,model_4,model_5]"
   ]
  },
  {
   "cell_type": "code",
   "execution_count": 10,
   "metadata": {},
   "outputs": [
    {
     "name": "stdout",
     "output_type": "stream",
     "text": [
      "0\n",
      "1\n",
      "2\n",
      "3\n",
      "4\n"
     ]
    }
   ],
   "source": [
    "for i in range(5):\n",
    "    model_list[i].build(input_shape=(1, 1, 21))\n",
    "    model_list[i].compile(optimizer='adam', loss='mse')\n",
    "    print(i)"
   ]
  },
  {
   "cell_type": "code",
   "execution_count": 11,
   "metadata": {
    "collapsed": true
   },
   "outputs": [
    {
     "name": "stdout",
     "output_type": "stream",
     "text": [
      "Epoch 1/5000\n",
      "2/2 [==============================] - 12s 2s/step - loss: 0.2745 - val_loss: 0.2999\n",
      "Epoch 2/5000\n",
      "2/2 [==============================] - 0s 28ms/step - loss: 0.2689 - val_loss: 0.2932\n",
      "Epoch 3/5000\n",
      "2/2 [==============================] - 0s 35ms/step - loss: 0.2624 - val_loss: 0.2847\n",
      "Epoch 4/5000\n",
      "2/2 [==============================] - 0s 36ms/step - loss: 0.2542 - val_loss: 0.2736\n",
      "Epoch 5/5000\n",
      "2/2 [==============================] - 0s 52ms/step - loss: 0.2434 - val_loss: 0.2589\n",
      "Epoch 6/5000\n",
      "2/2 [==============================] - 0s 64ms/step - loss: 0.2292 - val_loss: 0.2393\n",
      "Epoch 7/5000\n",
      "2/2 [==============================] - 0s 26ms/step - loss: 0.2103 - val_loss: 0.2137\n",
      "Epoch 8/5000\n",
      "2/2 [==============================] - 0s 30ms/step - loss: 0.1857 - val_loss: 0.1809\n",
      "Epoch 9/5000\n",
      "2/2 [==============================] - 0s 84ms/step - loss: 0.1543 - val_loss: 0.1411\n",
      "Epoch 10/5000\n",
      "2/2 [==============================] - 0s 29ms/step - loss: 0.1164 - val_loss: 0.0971\n",
      "Epoch 11/5000\n",
      "2/2 [==============================] - 0s 30ms/step - loss: 0.0753 - val_loss: 0.0586\n",
      "Epoch 12/5000\n",
      "2/2 [==============================] - 0s 29ms/step - loss: 0.0405 - val_loss: 0.0432\n",
      "Epoch 13/5000\n",
      "2/2 [==============================] - 0s 30ms/step - loss: 0.0290 - val_loss: 0.0531\n",
      "Epoch 14/5000\n",
      "2/2 [==============================] - 0s 34ms/step - loss: 0.0390 - val_loss: 0.0502\n",
      "Epoch 15/5000\n",
      "2/2 [==============================] - 0s 29ms/step - loss: 0.0366 - val_loss: 0.0308\n",
      "Epoch 16/5000\n",
      "2/2 [==============================] - 0s 27ms/step - loss: 0.0204 - val_loss: 0.0159\n",
      "Epoch 17/5000\n",
      "2/2 [==============================] - 0s 27ms/step - loss: 0.0083 - val_loss: 0.0118\n",
      "Epoch 18/5000\n",
      "2/2 [==============================] - 0s 41ms/step - loss: 0.0061 - val_loss: 0.0136\n",
      "Epoch 19/5000\n",
      "2/2 [==============================] - 0s 32ms/step - loss: 0.0088 - val_loss: 0.0156\n",
      "Epoch 20/5000\n",
      "2/2 [==============================] - 0s 26ms/step - loss: 0.0114 - val_loss: 0.0154\n",
      "Epoch 21/5000\n",
      "2/2 [==============================] - 0s 30ms/step - loss: 0.0119 - val_loss: 0.0131\n",
      "Epoch 22/5000\n",
      "2/2 [==============================] - 0s 26ms/step - loss: 0.0106 - val_loss: 0.0101\n",
      "Epoch 23/5000\n",
      "2/2 [==============================] - 0s 29ms/step - loss: 0.0089 - val_loss: 0.0081\n",
      "Epoch 24/5000\n",
      "2/2 [==============================] - 0s 27ms/step - loss: 0.0079 - val_loss: 0.0075\n",
      "Epoch 25/5000\n",
      "2/2 [==============================] - 0s 25ms/step - loss: 0.0078 - val_loss: 0.0074\n",
      "Epoch 26/5000\n",
      "2/2 [==============================] - 0s 25ms/step - loss: 0.0077 - val_loss: 0.0073\n",
      "Epoch 27/5000\n",
      "2/2 [==============================] - 0s 33ms/step - loss: 0.0070 - val_loss: 0.0072\n",
      "Epoch 28/5000\n",
      "2/2 [==============================] - 0s 31ms/step - loss: 0.0060 - val_loss: 0.0075\n",
      "Epoch 29/5000\n",
      "2/2 [==============================] - 0s 30ms/step - loss: 0.0054 - val_loss: 0.0083\n",
      "Epoch 30/5000\n",
      "2/2 [==============================] - 0s 33ms/step - loss: 0.0054 - val_loss: 0.0092\n",
      "Epoch 31/5000\n",
      "2/2 [==============================] - 0s 28ms/step - loss: 0.0056 - val_loss: 0.0098\n",
      "Epoch 32/5000\n",
      "2/2 [==============================] - 0s 30ms/step - loss: 0.0057 - val_loss: 0.0100\n",
      "Epoch 33/5000\n",
      "2/2 [==============================] - 0s 27ms/step - loss: 0.0056 - val_loss: 0.0099\n",
      "Epoch 34/5000\n",
      "2/2 [==============================] - 0s 27ms/step - loss: 0.0054 - val_loss: 0.0098\n",
      "Epoch 35/5000\n",
      "2/2 [==============================] - 0s 29ms/step - loss: 0.0053 - val_loss: 0.0098\n",
      "Epoch 36/5000\n",
      "2/2 [==============================] - 0s 31ms/step - loss: 0.0053 - val_loss: 0.0098\n",
      "Epoch 37/5000\n",
      "2/2 [==============================] - 0s 54ms/step - loss: 0.0054 - val_loss: 0.0097\n",
      "Epoch 37: early stopping\n",
      "Epoch 1/5000\n",
      "2/2 [==============================] - 10s 2s/step - loss: 0.2444 - val_loss: 0.2284\n",
      "Epoch 2/5000\n",
      "2/2 [==============================] - 0s 24ms/step - loss: 0.2400 - val_loss: 0.2239\n",
      "Epoch 3/5000\n",
      "2/2 [==============================] - 0s 30ms/step - loss: 0.2350 - val_loss: 0.2183\n",
      "Epoch 4/5000\n",
      "2/2 [==============================] - 0s 29ms/step - loss: 0.2287 - val_loss: 0.2110\n",
      "Epoch 5/5000\n",
      "2/2 [==============================] - 0s 23ms/step - loss: 0.2206 - val_loss: 0.2015\n",
      "Epoch 6/5000\n",
      "2/2 [==============================] - 0s 29ms/step - loss: 0.2099 - val_loss: 0.1888\n",
      "Epoch 7/5000\n",
      "2/2 [==============================] - 0s 30ms/step - loss: 0.1958 - val_loss: 0.1720\n",
      "Epoch 8/5000\n",
      "2/2 [==============================] - 0s 28ms/step - loss: 0.1771 - val_loss: 0.1501\n",
      "Epoch 9/5000\n",
      "2/2 [==============================] - 0s 31ms/step - loss: 0.1528 - val_loss: 0.1227\n",
      "Epoch 10/5000\n",
      "2/2 [==============================] - 0s 25ms/step - loss: 0.1227 - val_loss: 0.0909\n",
      "Epoch 11/5000\n",
      "2/2 [==============================] - 0s 25ms/step - loss: 0.0874 - val_loss: 0.0594\n",
      "Epoch 12/5000\n",
      "2/2 [==============================] - 0s 27ms/step - loss: 0.0532 - val_loss: 0.0408\n",
      "Epoch 13/5000\n",
      "2/2 [==============================] - 0s 25ms/step - loss: 0.0332 - val_loss: 0.0503\n",
      "Epoch 14/5000\n",
      "2/2 [==============================] - 0s 27ms/step - loss: 0.0392 - val_loss: 0.0653\n",
      "Epoch 15/5000\n",
      "2/2 [==============================] - 0s 29ms/step - loss: 0.0472 - val_loss: 0.0594\n",
      "Epoch 16/5000\n",
      "2/2 [==============================] - 0s 26ms/step - loss: 0.0367 - val_loss: 0.0475\n",
      "Epoch 17/5000\n",
      "2/2 [==============================] - 0s 27ms/step - loss: 0.0241 - val_loss: 0.0426\n",
      "Epoch 18/5000\n",
      "2/2 [==============================] - 0s 27ms/step - loss: 0.0196 - val_loss: 0.0441\n",
      "Epoch 19/5000\n",
      "2/2 [==============================] - 0s 28ms/step - loss: 0.0215 - val_loss: 0.0470\n",
      "Epoch 20/5000\n",
      "2/2 [==============================] - 0s 25ms/step - loss: 0.0244 - val_loss: 0.0486\n",
      "Epoch 21/5000\n",
      "2/2 [==============================] - 0s 27ms/step - loss: 0.0257 - val_loss: 0.0485\n",
      "Epoch 22/5000\n",
      "2/2 [==============================] - 0s 32ms/step - loss: 0.0250 - val_loss: 0.0474\n",
      "Epoch 22: early stopping\n",
      "Epoch 1/5000\n",
      "2/2 [==============================] - 8s 1s/step - loss: 0.2477 - val_loss: 0.2344\n",
      "Epoch 2/5000\n",
      "2/2 [==============================] - 0s 27ms/step - loss: 0.2431 - val_loss: 0.2296\n",
      "Epoch 3/5000\n",
      "2/2 [==============================] - 0s 29ms/step - loss: 0.2380 - val_loss: 0.2237\n",
      "Epoch 4/5000\n",
      "2/2 [==============================] - 0s 26ms/step - loss: 0.2318 - val_loss: 0.2162\n",
      "Epoch 5/5000\n",
      "2/2 [==============================] - 0s 27ms/step - loss: 0.2238 - val_loss: 0.2063\n",
      "Epoch 6/5000\n",
      "2/2 [==============================] - 0s 25ms/step - loss: 0.2132 - val_loss: 0.1931\n",
      "Epoch 7/5000\n",
      "2/2 [==============================] - 0s 28ms/step - loss: 0.1992 - val_loss: 0.1757\n",
      "Epoch 8/5000\n",
      "2/2 [==============================] - 0s 25ms/step - loss: 0.1807 - val_loss: 0.1530\n",
      "Epoch 9/5000\n",
      "2/2 [==============================] - 0s 31ms/step - loss: 0.1566 - val_loss: 0.1245\n",
      "Epoch 10/5000\n",
      "2/2 [==============================] - 0s 31ms/step - loss: 0.1270 - val_loss: 0.0912\n",
      "Epoch 11/5000\n",
      "2/2 [==============================] - 0s 29ms/step - loss: 0.0921 - val_loss: 0.0579\n",
      "Epoch 12/5000\n",
      "2/2 [==============================] - 0s 32ms/step - loss: 0.0581 - val_loss: 0.0372\n",
      "Epoch 13/5000\n",
      "2/2 [==============================] - 0s 27ms/step - loss: 0.0387 - val_loss: 0.0437\n",
      "Epoch 14/5000\n",
      "2/2 [==============================] - 0s 64ms/step - loss: 0.0442 - val_loss: 0.0554\n",
      "Epoch 15/5000\n",
      "2/2 [==============================] - 0s 43ms/step - loss: 0.0503 - val_loss: 0.0487\n",
      "Epoch 16/5000\n",
      "2/2 [==============================] - 0s 26ms/step - loss: 0.0384 - val_loss: 0.0378\n",
      "Epoch 17/5000\n",
      "2/2 [==============================] - 0s 28ms/step - loss: 0.0249 - val_loss: 0.0340\n",
      "Epoch 18/5000\n",
      "2/2 [==============================] - 0s 26ms/step - loss: 0.0204 - val_loss: 0.0365\n",
      "Epoch 19/5000\n",
      "2/2 [==============================] - 0s 29ms/step - loss: 0.0224 - val_loss: 0.0401\n",
      "Epoch 20/5000\n",
      "2/2 [==============================] - 0s 28ms/step - loss: 0.0254 - val_loss: 0.0419\n",
      "Epoch 21/5000\n",
      "2/2 [==============================] - 0s 26ms/step - loss: 0.0264 - val_loss: 0.0415\n",
      "Epoch 22/5000\n",
      "2/2 [==============================] - 0s 31ms/step - loss: 0.0252 - val_loss: 0.0401\n",
      "Epoch 23/5000\n",
      "2/2 [==============================] - 0s 30ms/step - loss: 0.0231 - val_loss: 0.0389\n",
      "Epoch 24/5000\n",
      "2/2 [==============================] - 0s 26ms/step - loss: 0.0215 - val_loss: 0.0384\n",
      "Epoch 25/5000\n",
      "2/2 [==============================] - 0s 29ms/step - loss: 0.0210 - val_loss: 0.0382\n",
      "Epoch 26/5000\n",
      "2/2 [==============================] - 0s 31ms/step - loss: 0.0213 - val_loss: 0.0375\n",
      "Epoch 27/5000\n",
      "2/2 [==============================] - 0s 30ms/step - loss: 0.0212 - val_loss: 0.0359\n",
      "Epoch 27: early stopping\n",
      "Epoch 1/5000\n",
      "2/2 [==============================] - 8s 1s/step - loss: 0.2788 - val_loss: 0.2965\n",
      "Epoch 2/5000\n",
      "2/2 [==============================] - 0s 25ms/step - loss: 0.2726 - val_loss: 0.2889\n",
      "Epoch 3/5000\n",
      "2/2 [==============================] - 0s 26ms/step - loss: 0.2653 - val_loss: 0.2794\n",
      "Epoch 4/5000\n",
      "2/2 [==============================] - 0s 29ms/step - loss: 0.2562 - val_loss: 0.2670\n",
      "Epoch 5/5000\n",
      "2/2 [==============================] - 0s 27ms/step - loss: 0.2443 - val_loss: 0.2507\n",
      "Epoch 6/5000\n",
      "2/2 [==============================] - 0s 25ms/step - loss: 0.2285 - val_loss: 0.2292\n",
      "Epoch 7/5000\n",
      "2/2 [==============================] - 0s 27ms/step - loss: 0.2078 - val_loss: 0.2013\n",
      "Epoch 8/5000\n",
      "2/2 [==============================] - 0s 30ms/step - loss: 0.1810 - val_loss: 0.1659\n",
      "Epoch 9/5000\n",
      "2/2 [==============================] - 0s 26ms/step - loss: 0.1471 - val_loss: 0.1234\n",
      "Epoch 10/5000\n",
      "2/2 [==============================] - 0s 28ms/step - loss: 0.1068 - val_loss: 0.0776\n",
      "Epoch 11/5000\n",
      "2/2 [==============================] - 0s 26ms/step - loss: 0.0642 - val_loss: 0.0395\n",
      "Epoch 12/5000\n",
      "2/2 [==============================] - 0s 28ms/step - loss: 0.0309 - val_loss: 0.0290\n",
      "Epoch 13/5000\n",
      "2/2 [==============================] - 0s 25ms/step - loss: 0.0254 - val_loss: 0.0436\n",
      "Epoch 14/5000\n",
      "2/2 [==============================] - 0s 29ms/step - loss: 0.0404 - val_loss: 0.0400\n",
      "Epoch 15/5000\n",
      "2/2 [==============================] - 0s 26ms/step - loss: 0.0357 - val_loss: 0.0220\n",
      "Epoch 16/5000\n",
      "2/2 [==============================] - 0s 27ms/step - loss: 0.0181 - val_loss: 0.0108\n",
      "Epoch 17/5000\n",
      "2/2 [==============================] - 0s 27ms/step - loss: 0.0074 - val_loss: 0.0100\n",
      "Epoch 18/5000\n",
      "2/2 [==============================] - 0s 31ms/step - loss: 0.0065 - val_loss: 0.0137\n",
      "Epoch 19/5000\n",
      "2/2 [==============================] - 0s 27ms/step - loss: 0.0095 - val_loss: 0.0165\n",
      "Epoch 20/5000\n",
      "2/2 [==============================] - 0s 29ms/step - loss: 0.0117 - val_loss: 0.0167\n",
      "Epoch 21/5000\n",
      "2/2 [==============================] - 0s 25ms/step - loss: 0.0116 - val_loss: 0.0149\n",
      "Epoch 22/5000\n",
      "2/2 [==============================] - 0s 30ms/step - loss: 0.0098 - val_loss: 0.0127\n",
      "Epoch 23/5000\n",
      "2/2 [==============================] - 0s 32ms/step - loss: 0.0080 - val_loss: 0.0117\n",
      "Epoch 24/5000\n",
      "2/2 [==============================] - 0s 27ms/step - loss: 0.0073 - val_loss: 0.0120\n",
      "Epoch 25/5000\n",
      "2/2 [==============================] - 0s 31ms/step - loss: 0.0077 - val_loss: 0.0125\n",
      "Epoch 26/5000\n",
      "2/2 [==============================] - 0s 29ms/step - loss: 0.0080 - val_loss: 0.0121\n",
      "Epoch 27/5000\n",
      "2/2 [==============================] - 0s 30ms/step - loss: 0.0073 - val_loss: 0.0112\n",
      "Epoch 27: early stopping\n",
      "Epoch 1/5000\n",
      "2/2 [==============================] - 8s 1s/step - loss: 0.3112 - val_loss: 0.3332\n",
      "Epoch 2/5000\n",
      "2/2 [==============================] - 0s 29ms/step - loss: 0.3057 - val_loss: 0.3269\n",
      "Epoch 3/5000\n",
      "2/2 [==============================] - 0s 28ms/step - loss: 0.2995 - val_loss: 0.3193\n",
      "Epoch 4/5000\n",
      "2/2 [==============================] - 0s 25ms/step - loss: 0.2918 - val_loss: 0.3095\n",
      "Epoch 5/5000\n",
      "2/2 [==============================] - 0s 30ms/step - loss: 0.2819 - val_loss: 0.2965\n",
      "Epoch 6/5000\n",
      "2/2 [==============================] - 0s 27ms/step - loss: 0.2688 - val_loss: 0.2794\n",
      "Epoch 7/5000\n",
      "2/2 [==============================] - 0s 26ms/step - loss: 0.2514 - val_loss: 0.2568\n",
      "Epoch 8/5000\n",
      "2/2 [==============================] - 0s 27ms/step - loss: 0.2283 - val_loss: 0.2274\n",
      "Epoch 9/5000\n",
      "2/2 [==============================] - 0s 31ms/step - loss: 0.1984 - val_loss: 0.1905\n",
      "Epoch 10/5000\n",
      "2/2 [==============================] - 0s 28ms/step - loss: 0.1610 - val_loss: 0.1470\n",
      "Epoch 11/5000\n",
      "2/2 [==============================] - 0s 26ms/step - loss: 0.1174 - val_loss: 0.1019\n",
      "Epoch 12/5000\n",
      "2/2 [==============================] - 0s 25ms/step - loss: 0.0737 - val_loss: 0.0671\n",
      "Epoch 13/5000\n",
      "2/2 [==============================] - 0s 27ms/step - loss: 0.0433 - val_loss: 0.0579\n",
      "Epoch 14/5000\n",
      "2/2 [==============================] - 0s 28ms/step - loss: 0.0402 - val_loss: 0.0607\n",
      "Epoch 15/5000\n",
      "2/2 [==============================] - 0s 26ms/step - loss: 0.0464 - val_loss: 0.0473\n",
      "Epoch 16/5000\n",
      "2/2 [==============================] - 0s 31ms/step - loss: 0.0339 - val_loss: 0.0290\n",
      "Epoch 17/5000\n",
      "2/2 [==============================] - 0s 27ms/step - loss: 0.0163 - val_loss: 0.0203\n",
      "Epoch 18/5000\n",
      "2/2 [==============================] - 0s 28ms/step - loss: 0.0081 - val_loss: 0.0208\n",
      "Epoch 19/5000\n",
      "2/2 [==============================] - 0s 29ms/step - loss: 0.0086 - val_loss: 0.0239\n",
      "Epoch 20/5000\n",
      "2/2 [==============================] - 0s 31ms/step - loss: 0.0116 - val_loss: 0.0254\n",
      "Epoch 21/5000\n",
      "2/2 [==============================] - 0s 30ms/step - loss: 0.0131 - val_loss: 0.0243\n",
      "Epoch 22/5000\n",
      "2/2 [==============================] - 0s 31ms/step - loss: 0.0123 - val_loss: 0.0219\n",
      "Epoch 23/5000\n",
      "2/2 [==============================] - 0s 28ms/step - loss: 0.0103 - val_loss: 0.0198\n",
      "Epoch 24/5000\n",
      "2/2 [==============================] - 0s 31ms/step - loss: 0.0089 - val_loss: 0.0192\n",
      "Epoch 25/5000\n",
      "2/2 [==============================] - 0s 25ms/step - loss: 0.0085 - val_loss: 0.0197\n",
      "Epoch 26/5000\n",
      "2/2 [==============================] - 0s 28ms/step - loss: 0.0087 - val_loss: 0.0203\n",
      "Epoch 27/5000\n",
      "2/2 [==============================] - 0s 28ms/step - loss: 0.0083 - val_loss: 0.0205\n",
      "Epoch 28/5000\n",
      "2/2 [==============================] - 0s 90ms/step - loss: 0.0074 - val_loss: 0.0208\n",
      "Epoch 29/5000\n",
      "2/2 [==============================] - 0s 31ms/step - loss: 0.0065 - val_loss: 0.0213\n",
      "Epoch 30/5000\n",
      "2/2 [==============================] - 0s 27ms/step - loss: 0.0062 - val_loss: 0.0219\n",
      "Epoch 31/5000\n",
      "2/2 [==============================] - 0s 27ms/step - loss: 0.0063 - val_loss: 0.0221\n",
      "Epoch 32/5000\n",
      "2/2 [==============================] - 0s 27ms/step - loss: 0.0063 - val_loss: 0.0217\n",
      "Epoch 33/5000\n",
      "2/2 [==============================] - 0s 27ms/step - loss: 0.0062 - val_loss: 0.0208\n",
      "Epoch 34/5000\n",
      "2/2 [==============================] - 0s 26ms/step - loss: 0.0059 - val_loss: 0.0198\n",
      "Epoch 34: early stopping\n"
     ]
    }
   ],
   "source": [
    "for i, model in enumerate(model_list):\n",
    "    X_train, X_test, y_train, y_test = p[i][0], p[i][1], p[i][2], p[i][3]\n",
    "    hist = model.fit(X_train, y_train, epochs=5000, batch_size=64, validation_data=(X_test, y_test), verbose=1, \n",
    "                callbacks = [tf.keras.callbacks.EarlyStopping(monitor='val_loss', patience=10, verbose=1)])"
   ]
  },
  {
   "cell_type": "code",
   "execution_count": 12,
   "metadata": {},
   "outputs": [
    {
     "name": "stderr",
     "output_type": "stream",
     "text": [
      "WARNING:absl:Found untraced functions such as lstm_cell_layer_call_fn, lstm_cell_layer_call_and_return_conditional_losses, lstm_cell_1_layer_call_fn, lstm_cell_1_layer_call_and_return_conditional_losses, lstm_cell_2_layer_call_fn while saving (showing 5 of 6). These functions will not be directly callable after loading.\n"
     ]
    },
    {
     "name": "stdout",
     "output_type": "stream",
     "text": [
      "INFO:tensorflow:Assets written to: ./model/action_net_c0\\assets\n"
     ]
    },
    {
     "name": "stderr",
     "output_type": "stream",
     "text": [
      "INFO:tensorflow:Assets written to: ./model/action_net_c0\\assets\n",
      "WARNING:absl:Found untraced functions such as lstm_cell_3_layer_call_fn, lstm_cell_3_layer_call_and_return_conditional_losses, lstm_cell_4_layer_call_fn, lstm_cell_4_layer_call_and_return_conditional_losses, lstm_cell_5_layer_call_fn while saving (showing 5 of 6). These functions will not be directly callable after loading.\n"
     ]
    },
    {
     "name": "stdout",
     "output_type": "stream",
     "text": [
      "INFO:tensorflow:Assets written to: ./model/action_net_c1\\assets\n"
     ]
    },
    {
     "name": "stderr",
     "output_type": "stream",
     "text": [
      "INFO:tensorflow:Assets written to: ./model/action_net_c1\\assets\n",
      "WARNING:absl:Found untraced functions such as lstm_cell_6_layer_call_fn, lstm_cell_6_layer_call_and_return_conditional_losses, lstm_cell_7_layer_call_fn, lstm_cell_7_layer_call_and_return_conditional_losses, lstm_cell_8_layer_call_fn while saving (showing 5 of 6). These functions will not be directly callable after loading.\n"
     ]
    },
    {
     "name": "stdout",
     "output_type": "stream",
     "text": [
      "INFO:tensorflow:Assets written to: ./model/action_net_c2\\assets\n"
     ]
    },
    {
     "name": "stderr",
     "output_type": "stream",
     "text": [
      "INFO:tensorflow:Assets written to: ./model/action_net_c2\\assets\n",
      "WARNING:absl:Found untraced functions such as lstm_cell_9_layer_call_fn, lstm_cell_9_layer_call_and_return_conditional_losses, lstm_cell_10_layer_call_fn, lstm_cell_10_layer_call_and_return_conditional_losses, lstm_cell_11_layer_call_fn while saving (showing 5 of 6). These functions will not be directly callable after loading.\n"
     ]
    },
    {
     "name": "stdout",
     "output_type": "stream",
     "text": [
      "INFO:tensorflow:Assets written to: ./model/action_net_c3\\assets\n"
     ]
    },
    {
     "name": "stderr",
     "output_type": "stream",
     "text": [
      "INFO:tensorflow:Assets written to: ./model/action_net_c3\\assets\n",
      "WARNING:absl:Found untraced functions such as lstm_cell_12_layer_call_fn, lstm_cell_12_layer_call_and_return_conditional_losses, lstm_cell_13_layer_call_fn, lstm_cell_13_layer_call_and_return_conditional_losses, lstm_cell_14_layer_call_fn while saving (showing 5 of 6). These functions will not be directly callable after loading.\n"
     ]
    },
    {
     "name": "stdout",
     "output_type": "stream",
     "text": [
      "INFO:tensorflow:Assets written to: ./model/action_net_c4\\assets\n"
     ]
    },
    {
     "name": "stderr",
     "output_type": "stream",
     "text": [
      "INFO:tensorflow:Assets written to: ./model/action_net_c4\\assets\n"
     ]
    }
   ],
   "source": [
    "for i in range(5):\n",
    "    model_list[i].save('./model/action_net_c{0}'.format(i))"
   ]
  },
  {
   "cell_type": "code",
   "execution_count": 34,
   "metadata": {},
   "outputs": [],
   "source": [
    "dnn = tf.keras.models.load_model('./model/dnn.h5')"
   ]
  },
  {
   "cell_type": "code",
   "execution_count": 41,
   "metadata": {},
   "outputs": [
    {
     "ename": "IndexError",
     "evalue": "list index out of range",
     "output_type": "error",
     "traceback": [
      "\u001b[1;31m---------------------------------------------------------------------------\u001b[0m",
      "\u001b[1;31mIndexError\u001b[0m                                Traceback (most recent call last)",
      "Cell \u001b[1;32mIn[41], line 2\u001b[0m\n\u001b[0;32m      1\u001b[0m \u001b[38;5;28;01mimport\u001b[39;00m \u001b[38;5;21;01mmatplotlib\u001b[39;00m\u001b[38;5;21;01m.\u001b[39;00m\u001b[38;5;21;01mpyplot\u001b[39;00m \u001b[38;5;28;01mas\u001b[39;00m \u001b[38;5;21;01mplt\u001b[39;00m\n\u001b[1;32m----> 2\u001b[0m plt\u001b[38;5;241m.\u001b[39mplot(\u001b[43mmodel_list\u001b[49m\u001b[43m[\u001b[49m\u001b[38;5;241;43m5\u001b[39;49m\u001b[43m]\u001b[49m(X_test), c\u001b[38;5;241m=\u001b[39m\u001b[38;5;124m'\u001b[39m\u001b[38;5;124mg\u001b[39m\u001b[38;5;124m'\u001b[39m)\n\u001b[0;32m      3\u001b[0m plt\u001b[38;5;241m.\u001b[39mplot(y_test, c\u001b[38;5;241m=\u001b[39m\u001b[38;5;124m'\u001b[39m\u001b[38;5;124my\u001b[39m\u001b[38;5;124m'\u001b[39m)\n\u001b[0;32m      4\u001b[0m plt\u001b[38;5;241m.\u001b[39mshow()\n",
      "\u001b[1;31mIndexError\u001b[0m: list index out of range"
     ]
    }
   ],
   "source": [
    "import matplotlib.pyplot as plt\n",
    "plt.plot(model_list[5](X_test), c='g')\n",
    "plt.plot(y_test, c='y')\n",
    "plt.show()"
   ]
  },
  {
   "cell_type": "code",
   "execution_count": 42,
   "metadata": {},
   "outputs": [
    {
     "name": "stdout",
     "output_type": "stream",
     "text": [
      "1/1 [==============================] - 0s 192ms/step\n",
      "1/1 [==============================] - 0s 25ms/step\n",
      "1/1 [==============================] - 0s 24ms/step\n",
      "1/1 [==============================] - 0s 27ms/step\n",
      "1/1 [==============================] - 0s 24ms/step\n",
      "1/1 [==============================] - 0s 31ms/step\n"
     ]
    },
    {
     "data": {
      "image/png": "[encoded data removed]",
      "text/plain": [
       "<Figure size 640x480 with 1 Axes>"
      ]
     },
     "metadata": {},
     "output_type": "display_data"
    }
   ],
   "source": [
    "for i in range(5):\n",
    "    plt.plot(dnn.predict(model_list[i](X_test)))\n",
    "\n",
    "plt.plot(dnn.predict(y_test), c='black')\n",
    "plt.show()"
   ]
  },
  {
   "cell_type": "code",
   "execution_count": null,
   "metadata": {},
   "outputs": [],
   "source": []
  }
 ],
 "metadata": {
  "kernelspec": {
   "display_name": "Python 3 (ipykernel)",
   "language": "python",
   "name": "python3"
  },
  "language_info": {
   "codemirror_mode": {
    "name": "ipython",
    "version": 3
   },
   "file_extension": ".py",
   "mimetype": "text/x-python",
   "name": "python",
   "nbconvert_exporter": "python",
   "pygments_lexer": "ipython3",
   "version": "3.10.8"
  },
  "vscode": {
   "interpreter": {
    "hash": "78ddfc3686b8b7161f2836984651df038ec9a0366954334fc42499f59ad2b3c8"
   }
  }
 },
 "nbformat": 4,
 "nbformat_minor": 2
}
