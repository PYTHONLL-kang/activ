{
 "cells": [
  {
   "cell_type": "code",
   "execution_count": 1,
   "metadata": {},
   "outputs": [],
   "source": [
    "import pandas as pd\n",
    "import numpy as np\n",
    "from scipy.stats import mode\n",
    "from sklearn.preprocessing import MinMaxScaler"
   ]
  },
  {
   "cell_type": "code",
   "execution_count": 2,
   "metadata": {},
   "outputs": [],
   "source": [
    "import os\n",
    "os.chdir('C:\\\\code\\\\activ')"
   ]
  },
  {
   "cell_type": "code",
   "execution_count": 3,
   "metadata": {},
   "outputs": [],
   "source": [
    "df_name = 'nov_nine_var.xlsx'"
   ]
  },
  {
   "cell_type": "code",
   "execution_count": 4,
   "metadata": {},
   "outputs": [],
   "source": [
    "df = pd.read_excel('./documents/'+df_name).iloc[:,1::]\n",
    "scaler = MinMaxScaler()\n",
    "X = scaler.fit_transform(df.iloc[:,0:21])"
   ]
  },
  {
   "cell_type": "code",
   "execution_count": 5,
   "metadata": {},
   "outputs": [],
   "source": [
    "change = []\n",
    "for i in range(len(X)-1):\n",
    "    change.append(X[i+1] - X[i])"
   ]
  },
  {
   "cell_type": "code",
   "execution_count": 6,
   "metadata": {},
   "outputs": [],
   "source": [
    "np_change = np.array(change)\n",
    "var_change = np_change.T"
   ]
  },
  {
   "cell_type": "code",
   "execution_count": 7,
   "metadata": {},
   "outputs": [
    {
     "data": {
      "text/plain": [
       "(21, 430)"
      ]
     },
     "execution_count": 7,
     "metadata": {},
     "output_type": "execute_result"
    }
   ],
   "source": [
    "var_change.shape"
   ]
  },
  {
   "cell_type": "code",
   "execution_count": 11,
   "metadata": {},
   "outputs": [
    {
     "name": "stdout",
     "output_type": "stream",
     "text": [
      "min: -0.18000. mean: -0.00188, max: 0.42000, median: 0.00000, mode:  [0.]\n",
      "min: -0.01559. mean: 0.00228, max: 0.08067, median: 0.00000, mode:  [0.]\n",
      "min: -0.18124. mean: -0.00045, max: 0.20388, median: 0.00000, mode:  [0.]\n",
      "min: -0.03191. mean: 0.00233, max: 0.04982, median: 0.00000, mode:  [0.]\n",
      "min: -0.00514. mean: 0.00231, max: 0.10046, median: 0.00000, mode:  [0.]\n",
      "min: -0.05442. mean: 0.00232, max: 0.07669, median: 0.00000, mode:  [0.]\n",
      "min: -0.56551. mean: -0.00194, max: 0.37133, median: -0.00223, mode:  [-0.0550118]\n",
      "min: -0.45791. mean: 0.00088, max: 0.32632, median: 0.00112, mode:  [-0.1864075]\n",
      "min: -0.52894. mean: -0.00121, max: 0.43601, median: -0.01979, mode:  [-0.06476522]\n",
      "min: -0.22087. mean: 0.00103, max: 0.23057, median: 0.00195, mode:  [0.02704207]\n",
      "min: -0.26667. mean: 0.00002, max: 0.21905, median: 0.00000, mode:  [0.]\n",
      "min: -0.43985. mean: 0.00030, max: 0.31955, median: 0.00000, mode:  [-0.04511278]\n",
      "min: -0.38095. mean: -0.00003, max: 0.32143, median: 0.00000, mode:  [0.]\n",
      "min: -0.07487. mean: -0.00042, max: 0.07487, median: 0.00000, mode:  [0.]\n",
      "min: -0.23134. mean: -0.00023, max: 0.23881, median: 0.00000, mode:  [0.]\n",
      "min: -0.28723. mean: -0.00025, max: 0.19149, median: 0.00000, mode:  [0.]\n",
      "min: -0.00990. mean: 0.00233, max: 0.01974, median: 0.00234, mode:  [0.]\n",
      "min: -0.61887. mean: -0.00122, max: 0.22142, median: 0.00000, mode:  [0.]\n",
      "min: -0.11543. mean: 0.00065, max: 0.44076, median: -0.00029, mode:  [-0.00317234]\n",
      "min: -0.25332. mean: 0.00083, max: 0.15764, median: 0.00212, mode:  [-0.00169753]\n",
      "min: -0.00245. mean: 0.00233, max: 0.06360, median: 0.00000, mode:  [0.]\n"
     ]
    }
   ],
   "source": [
    "min_list = []\n",
    "max_list = []\n",
    "mode_list = []\n",
    "\n",
    "for i in range(21):\n",
    "    print(f\"min: {np.min(var_change[i]):.5f}\", end='. ')\n",
    "    print(f\"mean: {np.mean(var_change[i]):.5f}\", end=', ')\n",
    "    print(f\"max: {np.max(var_change[i]):.5f}\", end=', ')\n",
    "    print(f\"median: {np.median(var_change[i]):.5f}\", end=', ')\n",
    "    print(\"mode: \", mode(var_change[i])[0])\n",
    "\n",
    "    min_list.append(np.min(var_change[i]))\n",
    "    max_list.append(np.max(var_change[i]))\n",
    "    mode_list.append(mode(var_change[i])[0][0])"
   ]
  },
  {
   "cell_type": "code",
   "execution_count": 12,
   "metadata": {},
   "outputs": [],
   "source": [
    "result_list = np.array([min_list, max_list, mode_list])"
   ]
  },
  {
   "cell_type": "code",
   "execution_count": 13,
   "metadata": {},
   "outputs": [],
   "source": [
    "pd.DataFrame(result_list.T).to_excel('./documents/other/change_rate_representative.xlsx')"
   ]
  },
  {
   "cell_type": "code",
   "execution_count": null,
   "metadata": {},
   "outputs": [],
   "source": []
  }
 ],
 "metadata": {
  "kernelspec": {
   "display_name": "Python 3.10.8 ('activity')",
   "language": "python",
   "name": "python3"
  },
  "language_info": {
   "codemirror_mode": {
    "name": "ipython",
    "version": 3
   },
   "file_extension": ".py",
   "mimetype": "text/x-python",
   "name": "python",
   "nbconvert_exporter": "python",
   "pygments_lexer": "ipython3",
   "version": "3.10.8"
  },
  "orig_nbformat": 4,
  "vscode": {
   "interpreter": {
    "hash": "4b1c3e6de7689e7bdbbc50db021b43d4c3aaa0658b374e4aac167e3aa46f0f50"
   }
  }
 },
 "nbformat": 4,
 "nbformat_minor": 2
}
