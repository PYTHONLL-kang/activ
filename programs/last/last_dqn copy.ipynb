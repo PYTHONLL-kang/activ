{
 "cells": [
  {
   "cell_type": "code",
   "execution_count": 1,
   "metadata": {},
   "outputs": [],
   "source": [
    "import tensorflow as tf\n",
    "import numpy as np\n",
    "import pandas as pd\n",
    "import matplotlib.pyplot as plt\n",
    "import random as rand\n",
    "from sklearn.preprocessing import MinMaxScaler\n",
    "from collections import deque"
   ]
  },
  {
   "cell_type": "code",
   "execution_count": 2,
   "metadata": {},
   "outputs": [],
   "source": [
    "import os\n",
    "os.chdir('C:\\\\code\\\\activ')"
   ]
  },
  {
   "cell_type": "code",
   "execution_count": 3,
   "metadata": {},
   "outputs": [],
   "source": [
    "df_name = 'nov_nine_var.xlsx'"
   ]
  },
  {
   "cell_type": "code",
   "execution_count": 4,
   "metadata": {},
   "outputs": [],
   "source": [
    "from tensorflow.python.ops.numpy_ops import np_config\n",
    "np_config.enable_numpy_behavior()\n",
    "\n",
    "np.set_printoptions(precision=6, suppress=True)"
   ]
  },
  {
   "cell_type": "code",
   "execution_count": 5,
   "metadata": {},
   "outputs": [],
   "source": [
    "dnn_model = tf.keras.models.load_model('./model/dnn.h5')"
   ]
  },
  {
   "cell_type": "code",
   "execution_count": 3,
   "metadata": {},
   "outputs": [],
   "source": [
    "ACTION_LIST = [\n",
    "    0.05372157772621804,\n",
    "    0.06143633695924037,\n",
    "    0.05213242358253655,\n",
    "    0.05617721888256303,\n",
    "    0.06891978903661669,\n",
    "    0.06451126527380139,\n",
    "    0.04095511726333548,\n",
    "    0.02829305913764111,\n",
    "    0.039145989505637474,\n",
    "    0.04215891490678202,\n",
    "    0.03756490995470125,\n",
    "    0.03903407009402856,\n",
    "    0.0270467351673848,\n",
    "    0.03764159956325903,\n",
    "    0.037671849568861077,\n",
    "    0.030854766253640736,\n",
    "    0.05383277656911071,\n",
    "    0.03601719716524669,\n",
    "    0.03442764100663552,\n",
    "    0.026549798057918694,\n",
    "    0.04307480810973876\n",
    "]"
   ]
  },
  {
   "cell_type": "code",
   "execution_count": 6,
   "metadata": {},
   "outputs": [],
   "source": [
    "# dqn paramater\n",
    "GAMMA = 0.9\n",
    "BATCH_SIZE = 1000\n",
    "SEQUENCE_LENGTH = 12\n",
    "EPISODE_DONE = 200\n",
    "EPS_DECAY = 0.99"
   ]
  },
  {
   "cell_type": "code",
   "execution_count": 7,
   "metadata": {},
   "outputs": [],
   "source": [
    "df = pd.read_excel('./documents/' + df_name).iloc[:,1::]\n",
    "\n",
    "scaler = MinMaxScaler()\n",
    "X = scaler.fit_transform(df.iloc[:,0:21].to_numpy())\n",
    "\n",
    "starting_state = X[-1].reshape(1, 21)"
   ]
  },
  {
   "cell_type": "code",
   "execution_count": 8,
   "metadata": {},
   "outputs": [],
   "source": [
    "def set_goal(goal_df_name):\n",
    "    \"\"\" set goal destination\n",
    "    Args:\n",
    "        goal_df_name(str): df_name in documents/result/\n",
    "    Returns:\n",
    "        goal_state(ndArray, (1, 21)): the state of lowest rate in df\n",
    "    \"\"\"\n",
    "    goal_df = pd.read_excel('./documents/result/' + goal_df_name).iloc[:,1::].to_numpy()\n",
    "    index = goal_df[:,-1].argmin()\n",
    "\n",
    "    goal_state = goal_df[:,0:21][index].reshape(1, 21)\n",
    "    goal_state = scaler.transform(goal_state)\n",
    "\n",
    "    return goal_state"
   ]
  },
  {
   "cell_type": "code",
   "execution_count": 9,
   "metadata": {},
   "outputs": [],
   "source": [
    "def return_action(i):\n",
    "    a = np.zeros((1, 21))\n",
    "    j = i // 2\n",
    "\n",
    "    if i % 2 == 0:\n",
    "        a[0][j] = -ACTION_LIST[j]\n",
    "    \n",
    "    else:\n",
    "        a[0][j] = ACTION_LIST[j]\n",
    "    \n",
    "    return a"
   ]
  },
  {
   "cell_type": "code",
   "execution_count": 10,
   "metadata": {},
   "outputs": [],
   "source": [
    "def return_state(s, a):\n",
    "    ns = s + a\n",
    "    return ns"
   ]
  },
  {
   "cell_type": "code",
   "execution_count": 11,
   "metadata": {},
   "outputs": [],
   "source": [
    "def return_reward(ns, gs):\n",
    "    dist = np.sqrt(np.sum(np.square(gs - ns)))\n",
    "    loss = dist\n",
    "    \n",
    "    return -loss"
   ]
  },
  {
   "cell_type": "code",
   "execution_count": 12,
   "metadata": {},
   "outputs": [],
   "source": [
    "class DQN_Network(tf.keras.models.Model):\n",
    "    def __init__(self):\n",
    "        super(DQN_Network, self).__init__()\n",
    "        self.input_layer = tf.keras.layers.Dense(128, input_shape=(21, ), activation='relu')\n",
    "\n",
    "        self.hidden_layer = tf.keras.models.Sequential()\n",
    "        self.hidden_layer.add(tf.keras.layers.Dense(128, activation='relu'))\n",
    "        self.hidden_layer.add(tf.keras.layers.Dense(128, activation='relu'))\n",
    "\n",
    "        self.ouput_layer = tf.keras.layers.Dense(42, activation='linear')\n",
    "\n",
    "    def call(self, x):\n",
    "        i = self.input_layer(x)\n",
    "        h = self.hidden_layer(i)\n",
    "        o = self.ouput_layer(h)\n",
    "        return o"
   ]
  },
  {
   "cell_type": "code",
   "execution_count": 13,
   "metadata": {},
   "outputs": [],
   "source": [
    "class DQN_Agent:\n",
    "    def __init__(self):\n",
    "        self.train_model = self.set_model()\n",
    "        self.target_model = self.set_model()\n",
    "\n",
    "        self.memory = deque(maxlen=20000)\n",
    "        self.episode = 1\n",
    "\n",
    "        self.optim = tf.keras.optimizers.Adam(learning_rate=1e-10)\n",
    "        self.loss_fn = tf.keras.losses.MeanSquaredError()\n",
    "\n",
    "    def set_model(self):\n",
    "        net = DQN_Network()\n",
    "        net.build(input_shape=(1, 21))\n",
    "\n",
    "        optim = tf.keras.optimizers.Adam(learning_rate=1e-10)\n",
    "        net.compile(optimizer=optim, loss='mse')\n",
    "        return net\n",
    "\n",
    "    def memorize(self, cs, a, a_i, r, ns, d):\n",
    "        if d:\n",
    "            self.episode += 1\n",
    "        \n",
    "        self.memory.append(\n",
    "            (\n",
    "                tf.convert_to_tensor(tf.cast(cs, tf.float32)),\n",
    "                tf.convert_to_tensor(tf.cast(a, tf.float32)),\n",
    "                a_i,\n",
    "                tf.convert_to_tensor(tf.cast(r, tf.float32)),\n",
    "                tf.convert_to_tensor(tf.cast(ns, tf.float32)),\n",
    "                d\n",
    "            )\n",
    "        )\n",
    "\n",
    "    def convert_memory_to_input(self):\n",
    "        batch = rand.sample(self.memory, BATCH_SIZE)\n",
    "        s, a, a_i, r, ns, d = zip(*batch)\n",
    "\n",
    "        states = tf.convert_to_tensor(s).reshape(BATCH_SIZE, 21)\n",
    "        actions = tf.convert_to_tensor(a).reshape(BATCH_SIZE, 21)\n",
    "        action_indexs = tf.convert_to_tensor(a_i)\n",
    "        rewards = tf.convert_to_tensor(r)\n",
    "        next_states = tf.convert_to_tensor(ns).reshape(BATCH_SIZE, 21)\n",
    "        dones = tf.convert_to_tensor(d)\n",
    "\n",
    "        return states, actions, action_indexs, rewards, next_states, dones\n",
    "\n",
    "    def act(self, state):\n",
    "        # if self.episode >= 0 and self.episode < 200:\n",
    "        #     eps_threshold = -(self.episode/1000)+1+(self.episode)*(self.episode-200)/300000\n",
    "        # else:\n",
    "        #     eps_threshold = -(self.episode/1000)+1+(self.episode-200)*(self.episode-1000)\n",
    "\n",
    "        eps_threshold = EPS_DECAY ** self.episode\n",
    "        a_r = self.train_model(state)\n",
    "\n",
    "        if rand.random() > eps_threshold:\n",
    "            a_i = np.argmax(a_r)\n",
    "            c = 1\n",
    "\n",
    "        else:\n",
    "            a_i = rand.randint(0, 41)\n",
    "            c = 0\n",
    "\n",
    "        a = return_action(a_i)\n",
    "\n",
    "        return a, a_i, c, eps_threshold\n",
    "\n",
    "    def run(self):\n",
    "        if len(self.memory) < BATCH_SIZE:\n",
    "            return 1\n",
    "\n",
    "        states, actions, action_indexs, rewards, next_states, dones = self.convert_memory_to_input()\n",
    "        loss = self.learn(states, actions, action_indexs, rewards, next_states, dones)\n",
    "    \n",
    "        return loss.numpy()\n",
    "        \n",
    "    @tf.function\n",
    "    def learn(self, states, actions, action_indexs, rewards, next_states, dones):\n",
    "        q_target = self.target_model(next_states)\n",
    "        target_q = rewards + (1 - dones) * GAMMA * tf.reduce_max(q_target, axis=1, keepdims=True)\n",
    "\n",
    "        with tf.GradientTape() as tape:\n",
    "            current_q = self.train_model(states) # 현재 상황에서 할 수 있는 행동들의 q value\n",
    "            current_q = tf.reduce_sum(current_q[action_indexs], axis=1, keepdims=True) # 실제 한 행동에 대한 q value\n",
    "\n",
    "            loss = self.loss_fn(current_q, target_q)\n",
    "\n",
    "        grads = tape.gradient(loss, self.train_model.trainable_weights)\n",
    "        self.optim.apply_gradients(zip(grads, self.train_model.trainable_weights))\n",
    "\n",
    "        return loss"
   ]
  },
  {
   "cell_type": "code",
   "execution_count": 14,
   "metadata": {},
   "outputs": [
    {
     "ename": "KeyboardInterrupt",
     "evalue": "",
     "output_type": "error",
     "traceback": [
      "\u001b[1;31m---------------------------------------------------------------------------\u001b[0m",
      "\u001b[1;31mKeyboardInterrupt\u001b[0m                         Traceback (most recent call last)",
      "Cell \u001b[1;32mIn[14], line 28\u001b[0m\n\u001b[0;32m     25\u001b[0m \u001b[38;5;28;01melse\u001b[39;00m:\n\u001b[0;32m     26\u001b[0m     done \u001b[38;5;241m=\u001b[39m \u001b[38;5;241m0\u001b[39m\n\u001b[1;32m---> 28\u001b[0m \u001b[43magent\u001b[49m\u001b[38;5;241;43m.\u001b[39;49m\u001b[43mmemorize\u001b[49m\u001b[43m(\u001b[49m\u001b[43mstate\u001b[49m\u001b[43m,\u001b[49m\u001b[43m \u001b[49m\u001b[43maction\u001b[49m\u001b[43m,\u001b[49m\u001b[43m \u001b[49m\u001b[43midx\u001b[49m\u001b[43m,\u001b[49m\u001b[43m \u001b[49m\u001b[43mreward\u001b[49m\u001b[43m,\u001b[49m\u001b[43m \u001b[49m\u001b[43mnext_state\u001b[49m\u001b[43m,\u001b[49m\u001b[43m \u001b[49m\u001b[43mdone\u001b[49m\u001b[43m)\u001b[49m\n\u001b[0;32m     29\u001b[0m loss \u001b[38;5;241m=\u001b[39m agent\u001b[38;5;241m.\u001b[39mrun()\n\u001b[0;32m     31\u001b[0m state \u001b[38;5;241m=\u001b[39m next_state\n",
      "Cell \u001b[1;32mIn[13], line 29\u001b[0m, in \u001b[0;36mDQN_Agent.memorize\u001b[1;34m(self, cs, a, a_i, r, ns, d)\u001b[0m\n\u001b[0;32m     21\u001b[0m \u001b[38;5;28;01mif\u001b[39;00m d:\n\u001b[0;32m     22\u001b[0m     \u001b[38;5;28mself\u001b[39m\u001b[38;5;241m.\u001b[39mepisode \u001b[38;5;241m+\u001b[39m\u001b[38;5;241m=\u001b[39m \u001b[38;5;241m1\u001b[39m\n\u001b[0;32m     24\u001b[0m \u001b[38;5;28mself\u001b[39m\u001b[38;5;241m.\u001b[39mmemory\u001b[38;5;241m.\u001b[39mappend(\n\u001b[0;32m     25\u001b[0m     (\n\u001b[0;32m     26\u001b[0m         tf\u001b[38;5;241m.\u001b[39mconvert_to_tensor(tf\u001b[38;5;241m.\u001b[39mcast(cs, tf\u001b[38;5;241m.\u001b[39mfloat32)),\n\u001b[0;32m     27\u001b[0m         tf\u001b[38;5;241m.\u001b[39mconvert_to_tensor(tf\u001b[38;5;241m.\u001b[39mcast(a, tf\u001b[38;5;241m.\u001b[39mfloat32)),\n\u001b[0;32m     28\u001b[0m         a_i,\n\u001b[1;32m---> 29\u001b[0m         tf\u001b[38;5;241m.\u001b[39mconvert_to_tensor(\u001b[43mtf\u001b[49m\u001b[38;5;241;43m.\u001b[39;49m\u001b[43mcast\u001b[49m\u001b[43m(\u001b[49m\u001b[43mr\u001b[49m\u001b[43m,\u001b[49m\u001b[43m \u001b[49m\u001b[43mtf\u001b[49m\u001b[38;5;241;43m.\u001b[39;49m\u001b[43mfloat32\u001b[49m\u001b[43m)\u001b[49m),\n\u001b[0;32m     30\u001b[0m         tf\u001b[38;5;241m.\u001b[39mconvert_to_tensor(tf\u001b[38;5;241m.\u001b[39mcast(ns, tf\u001b[38;5;241m.\u001b[39mfloat32)),\n\u001b[0;32m     31\u001b[0m         d\n\u001b[0;32m     32\u001b[0m     )\n\u001b[0;32m     33\u001b[0m )\n",
      "File \u001b[1;32mc:\\ProgramData\\Anaconda3\\envs\\tf\\lib\\site-packages\\tensorflow\\python\\util\\traceback_utils.py:150\u001b[0m, in \u001b[0;36mfilter_traceback.<locals>.error_handler\u001b[1;34m(*args, **kwargs)\u001b[0m\n\u001b[0;32m    148\u001b[0m filtered_tb \u001b[39m=\u001b[39m \u001b[39mNone\u001b[39;00m\n\u001b[0;32m    149\u001b[0m \u001b[39mtry\u001b[39;00m:\n\u001b[1;32m--> 150\u001b[0m   \u001b[39mreturn\u001b[39;00m fn(\u001b[39m*\u001b[39margs, \u001b[39m*\u001b[39m\u001b[39m*\u001b[39mkwargs)\n\u001b[0;32m    151\u001b[0m \u001b[39mexcept\u001b[39;00m \u001b[39mException\u001b[39;00m \u001b[39mas\u001b[39;00m e:\n\u001b[0;32m    152\u001b[0m   filtered_tb \u001b[39m=\u001b[39m _process_traceback_frames(e\u001b[39m.\u001b[39m__traceback__)\n",
      "File \u001b[1;32mc:\\ProgramData\\Anaconda3\\envs\\tf\\lib\\site-packages\\tensorflow\\python\\util\\dispatch.py:1082\u001b[0m, in \u001b[0;36madd_dispatch_support.<locals>.decorator.<locals>.op_dispatch_handler\u001b[1;34m(*args, **kwargs)\u001b[0m\n\u001b[0;32m   1080\u001b[0m \u001b[39m# Fallback dispatch system (dispatch v1):\u001b[39;00m\n\u001b[0;32m   1081\u001b[0m \u001b[39mtry\u001b[39;00m:\n\u001b[1;32m-> 1082\u001b[0m   \u001b[39mreturn\u001b[39;00m dispatch_target(\u001b[39m*\u001b[39margs, \u001b[39m*\u001b[39m\u001b[39m*\u001b[39mkwargs)\n\u001b[0;32m   1083\u001b[0m \u001b[39mexcept\u001b[39;00m (\u001b[39mTypeError\u001b[39;00m, \u001b[39mValueError\u001b[39;00m):\n\u001b[0;32m   1084\u001b[0m   \u001b[39m# Note: convert_to_eager_tensor currently raises a ValueError, not a\u001b[39;00m\n\u001b[0;32m   1085\u001b[0m   \u001b[39m# TypeError, when given unexpected types.  So we need to catch both.\u001b[39;00m\n\u001b[0;32m   1086\u001b[0m   result \u001b[39m=\u001b[39m dispatch(op_dispatch_handler, args, kwargs)\n",
      "File \u001b[1;32mc:\\ProgramData\\Anaconda3\\envs\\tf\\lib\\site-packages\\tensorflow\\python\\ops\\math_ops.py:1002\u001b[0m, in \u001b[0;36mcast\u001b[1;34m(x, dtype, name)\u001b[0m\n\u001b[0;32m   1000\u001b[0m   x \u001b[39m=\u001b[39m ops\u001b[39m.\u001b[39mconvert_to_tensor(x, name\u001b[39m=\u001b[39m\u001b[39m\"\u001b[39m\u001b[39mx\u001b[39m\u001b[39m\"\u001b[39m)\n\u001b[0;32m   1001\u001b[0m   \u001b[39mif\u001b[39;00m x\u001b[39m.\u001b[39mdtype \u001b[39m!=\u001b[39m base_type:\n\u001b[1;32m-> 1002\u001b[0m     x \u001b[39m=\u001b[39m gen_math_ops\u001b[39m.\u001b[39;49mcast(x, base_type, name\u001b[39m=\u001b[39;49mname)\n\u001b[0;32m   1003\u001b[0m \u001b[39mif\u001b[39;00m x\u001b[39m.\u001b[39mdtype\u001b[39m.\u001b[39mis_complex \u001b[39mand\u001b[39;00m base_type\u001b[39m.\u001b[39mis_floating:\n\u001b[0;32m   1004\u001b[0m   logging\u001b[39m.\u001b[39mwarn(\u001b[39m\"\u001b[39m\u001b[39mCasting complex to real discards imaginary part.\u001b[39m\u001b[39m\"\u001b[39m)\n",
      "File \u001b[1;32mc:\\ProgramData\\Anaconda3\\envs\\tf\\lib\\site-packages\\tensorflow\\python\\ops\\gen_math_ops.py:1996\u001b[0m, in \u001b[0;36mcast\u001b[1;34m(x, DstT, Truncate, name)\u001b[0m\n\u001b[0;32m   1994\u001b[0m \u001b[39mif\u001b[39;00m tld\u001b[39m.\u001b[39mis_eager:\n\u001b[0;32m   1995\u001b[0m   \u001b[39mtry\u001b[39;00m:\n\u001b[1;32m-> 1996\u001b[0m     _result \u001b[39m=\u001b[39m pywrap_tfe\u001b[39m.\u001b[39;49mTFE_Py_FastPathExecute(\n\u001b[0;32m   1997\u001b[0m       _ctx, \u001b[39m\"\u001b[39;49m\u001b[39mCast\u001b[39;49m\u001b[39m\"\u001b[39;49m, name, x, \u001b[39m\"\u001b[39;49m\u001b[39mDstT\u001b[39;49m\u001b[39m\"\u001b[39;49m, DstT, \u001b[39m\"\u001b[39;49m\u001b[39mTruncate\u001b[39;49m\u001b[39m\"\u001b[39;49m, Truncate)\n\u001b[0;32m   1998\u001b[0m     \u001b[39mreturn\u001b[39;00m _result\n\u001b[0;32m   1999\u001b[0m   \u001b[39mexcept\u001b[39;00m _core\u001b[39m.\u001b[39m_NotOkStatusException \u001b[39mas\u001b[39;00m e:\n",
      "\u001b[1;31mKeyboardInterrupt\u001b[0m: "
     ]
    }
   ],
   "source": [
    "agent = DQN_Agent()\n",
    "rewards_hist = []\n",
    "st_hist = []\n",
    "\n",
    "goal_state = set_goal('basic_formula.xlsx').reshape(1, 21)\n",
    "for e in range(1000):\n",
    "    counter = [0 for i in range(42)]\n",
    "    state = starting_state\n",
    "    steps = 0\n",
    "    rewards = 0\n",
    "    c = 0\n",
    "\n",
    "    if e % 5 == 0:\n",
    "        agent.target_model.set_weights(agent.train_model.get_weights())\n",
    "\n",
    "    while True:\n",
    "        action, idx, t, eps = agent.act(state)\n",
    "        counter[idx] += 1\n",
    "        c += t\n",
    "        next_state = return_state(state, action)\n",
    "        reward = return_reward(next_state, goal_state)\n",
    "\n",
    "        if steps == EPISODE_DONE or all(state[0][i] == goal_state[0][i] for i in range(21)):\n",
    "            done = 1\n",
    "        else:\n",
    "            done = 0\n",
    "\n",
    "        agent.memorize(state, action, idx, reward, next_state, done)\n",
    "        loss = agent.run()\n",
    "        \n",
    "        state = next_state\n",
    "        rewards += reward\n",
    "        steps += 1\n",
    "\n",
    "        # if steps % 10 == 0:\n",
    "        #     print(f'steps: {steps}, reward: {reward}')\n",
    "\n",
    "        if done:\n",
    "            print(f'============={e}=============')\n",
    "            print(f\"rewards: {round(rewards, 3)}, net_loss: {round(loss, 3)}, number of most decision: {max(counter)}, desicion tendecy: {c}, eps: {round(eps, 5)}\")\n",
    "            rewards_hist.append(rewards)\n",
    "            st_hist.append(state)\n",
    "            break"
   ]
  },
  {
   "cell_type": "code",
   "execution_count": null,
   "metadata": {},
   "outputs": [
    {
     "data": {
      "text/plain": [
       "[<matplotlib.lines.Line2D at 0x2a6a1742bc0>]"
      ]
     },
     "execution_count": 15,
     "metadata": {},
     "output_type": "execute_result"
    },
    {
     "data": {
      "image/png": "[encoded data removed]",
      "text/plain": [
       "<Figure size 640x480 with 1 Axes>"
      ]
     },
     "metadata": {},
     "output_type": "display_data"
    }
   ],
   "source": [
    "plt.plot(rewards_hist)\n",
    "plt.show()"
   ]
  },
  {
   "cell_type": "code",
   "execution_count": null,
   "metadata": {},
   "outputs": [],
   "source": []
  }
 ],
 "metadata": {
  "kernelspec": {
   "display_name": "Python 3.10.8 ('tf')",
   "language": "python",
   "name": "python3"
  },
  "language_info": {
   "codemirror_mode": {
    "name": "ipython",
    "version": 3
   },
   "file_extension": ".py",
   "mimetype": "text/x-python",
   "name": "python",
   "nbconvert_exporter": "python",
   "pygments_lexer": "ipython3",
   "version": "3.10.8"
  },
  "orig_nbformat": 4,
  "vscode": {
   "interpreter": {
    "hash": "78ddfc3686b8b7161f2836984651df038ec9a0366954334fc42499f59ad2b3c8"
   }
  }
 },
 "nbformat": 4,
 "nbformat_minor": 2
}
