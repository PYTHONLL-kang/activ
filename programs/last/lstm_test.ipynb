{
 "cells": [
  {
   "cell_type": "code",
   "execution_count": 1,
   "metadata": {},
   "outputs": [],
   "source": [
    "import tensorflow as tf\n",
    "import numpy as np\n",
    "import pandas as pd\n",
    "import matplotlib.pyplot as plt\n",
    "from sklearn.preprocessing import MinMaxScaler"
   ]
  },
  {
   "cell_type": "code",
   "execution_count": 2,
   "metadata": {},
   "outputs": [],
   "source": [
    "import os\n",
    "os.chdir('C:\\\\code\\\\activ')"
   ]
  },
  {
   "cell_type": "code",
   "execution_count": 3,
   "metadata": {},
   "outputs": [],
   "source": [
    "from tensorflow.python.ops.numpy_ops import np_config\n",
    "np_config.enable_numpy_behavior()\n",
    "\n",
    "tf.config.run_functions_eagerly(True)"
   ]
  },
  {
   "cell_type": "code",
   "execution_count": 4,
   "metadata": {},
   "outputs": [],
   "source": [
    "ACTION_NUM = 5"
   ]
  },
  {
   "cell_type": "code",
   "execution_count": 5,
   "metadata": {},
   "outputs": [],
   "source": [
    "model_list = []\n",
    "for i in range(ACTION_NUM):\n",
    "    model_list.append(tf.keras.models.load_model('./model/action_net{0}/'.format(i)))"
   ]
  },
  {
   "cell_type": "code",
   "execution_count": 6,
   "metadata": {},
   "outputs": [],
   "source": [
    "dnn_model = tf.keras.models.load_model('./model/dnn.h5')"
   ]
  },
  {
   "cell_type": "code",
   "execution_count": 7,
   "metadata": {},
   "outputs": [],
   "source": [
    "def shift_data(origin, d):\n",
    "    shift_d = np.concatenate((origin[0][1::], d), axis=0).reshape(1, 12, 21)\n",
    "    return shift_d"
   ]
  },
  {
   "cell_type": "code",
   "execution_count": 8,
   "metadata": {},
   "outputs": [],
   "source": [
    "df = pd.read_excel('./documents/nov_nine_var.xlsx').iloc[:,1::].to_numpy()\n",
    "\n",
    "scaler = MinMaxScaler()\n",
    "scale_df = scaler.fit_transform(df)\n",
    "\n",
    "data = scale_df[:,0:21][-1-12:-1].reshape(1, 12, 21)"
   ]
  },
  {
   "cell_type": "code",
   "execution_count": 9,
   "metadata": {},
   "outputs": [],
   "source": [
    "goal_df = scaler.transform(pd.read_excel('./documents/result/basic_formula.xlsx').iloc[:,1::].to_numpy())\n",
    "goal = goal_df[:,0:21][1].reshape(1, 21)"
   ]
  },
  {
   "cell_type": "code",
   "execution_count": 59,
   "metadata": {},
   "outputs": [],
   "source": [
    "class Node:\n",
    "    def __init__(self, parent, state):\n",
    "        self.parent = parent\n",
    "        self.child = None\n",
    "        self.state = state"
   ]
  },
  {
   "cell_type": "code",
   "execution_count": 108,
   "metadata": {},
   "outputs": [],
   "source": [
    "class Tree:\n",
    "    def __init__(self, leaf_num, grow_type):\n",
    "        self.root = None\n",
    "        self.state_list = []\n",
    "        self.type = grow_type\n",
    "        self.leaf_num = leaf_num\n",
    "        self.size = 0\n",
    "        self.depth = 1\n",
    "\n",
    "    def _size(self):\n",
    "        i = 0\n",
    "        t = self.size\n",
    "        while True:\n",
    "            t -=  self.leaf_num**i\n",
    "            i += 1\n",
    "\n",
    "            if t == 0:\n",
    "                break\n",
    "\n",
    "        self.depth = i\n",
    "\n",
    "    @tf.function\n",
    "    def average_the_state(self, node, child_state):\n",
    "        state = tf.Variable(tf.zeros((5, 1, 21)))\n",
    "        for i in range(5):\n",
    "            state = state[i].assign(child_state[i][0][-1].reshape(1, 21))\n",
    "\n",
    "        mean_state = tf.reduce_mean(state, 0)\n",
    "        return mean_state\n",
    "\n",
    "    @tf.function\n",
    "    def sort_by_value(self, node, child_state):\n",
    "        value = tf.Variable(tf.zeros(5))\n",
    "        for i in range(5):\n",
    "            state = child_state[i][0][-1].reshape(1, 21)\n",
    "            value = value[i].assign(dnn_model(state)[0][0])\n",
    "\n",
    "        argsort_order = tf.argsort(value)\n",
    "        return argsort_order\n",
    "\n",
    "    def pruning(self, leaf_node):\n",
    "        if leaf_node.parent == None:\n",
    "            return\n",
    "            \n",
    "        if leaf_node.parent.parent == None:\n",
    "            return\n",
    "\n",
    "        node = leaf_node.parent.parent\n",
    "        child_value_list = np.zeros((self.leaf_num, self.leaf_num))\n",
    "        for i in range(self.leaf_num):\n",
    "            if node.child[i] == None:\n",
    "                break\n",
    "\n",
    "            for ii in range(self.leaf_num):\n",
    "                if node.child[i].child[ii] == None:\n",
    "                    break\n",
    "\n",
    "                child_value_list[i][ii] = dnn_model(node.child[i].child[ii].state[0][-1].reshape(1, 21))\n",
    "\n",
    "            node.child[i].child = node.child[i].child[np.argmin(child_value_list[i])]\n",
    "\n",
    "        return node\n",
    "\n",
    "    def push(self, state):\n",
    "        node = Node(None, state)\n",
    "        \n",
    "        node.child = [Node for i in range(self.leaf_num)]\n",
    "        child_state = np.zeros((5, 1, 12, 21))\n",
    "\n",
    "        for i in range(5):\n",
    "            child_state[i] = shift_data(state, model_list[i](state))\n",
    "\n",
    "        if self.type == 'low':\n",
    "            sorting_child_state = self.sort_by_value(node, child_state)\n",
    "            for j in range(self.leaf_num):\n",
    "                i = sorting_child_state[j]\n",
    "                node.child[j] = Node(node, child_state[i])\n",
    "\n",
    "        if self.type == 'mean':\n",
    "            mean_child_state = self.average_the_state(node, child_state)\n",
    "            for i in range(self.leaf_num):\n",
    "                node.child[i] = Node(node, shift_data(state, mean_child_state))\n",
    "            \n",
    "        self.size += 1\n",
    "\n",
    "        return node\n",
    "    \n",
    "    def post_order(self):\n",
    "        self.state_list = []\n",
    "        def _post_order(node):\n",
    "            if node.child != None:\n",
    "                for i in range(self.leaf_num):\n",
    "                    _post_order(node.child[i])\n",
    "            self.state_list.append(node.state[0][-1].reshape(1, 21))\n",
    "\n",
    "        _post_order(self.root)\n",
    "\n",
    "    def sort_by_level(self):\n",
    "        self.post_order()\n",
    "        self._size()\n",
    "        arr = np.zeros((self.depth, self.leaf_num))\n",
    "        counter = np.zeros(self.depth, dtype=np.int8)\n",
    "\n",
    "        c = self.depth -1\n",
    "        for s in self.state_list:\n",
    "            if counter[c] >= self.leaf_num:\n",
    "                c -= 1\n",
    "\n",
    "            arr[c][counter[c]] = dnn_model(s)\n",
    "            counter[c] += 1\n",
    "\n",
    "            if c == 0:\n",
    "                break\n",
    "            \n",
    "            if counter[c] % self.leaf_num == 0 and self.leaf_num != 1:\n",
    "                arr[c-1][counter[c-1]] = dnn_model(s)\n",
    "                counter[c-1] += 1\n",
    "\n",
    "        return arr"
   ]
  },
  {
   "cell_type": "code",
   "execution_count": 109,
   "metadata": {},
   "outputs": [],
   "source": [
    "def grow(leaf, grow_type, end):\n",
    "    def _grow(tree, node, t, end):\n",
    "        if t >= end:\n",
    "            return\n",
    "\n",
    "        tree.pruning(node)\n",
    "        for i in range(leaf):\n",
    "            node.child[i] = tree.push(node.child[i].state)\n",
    "            _grow(tree, node.child[i], t+1, end)\n",
    "\n",
    "    tree = Tree(leaf, grow_type)\n",
    "    tree.root = tree.push(data)\n",
    "    _grow(tree, tree.root, 0, end)\n",
    "\n",
    "    return tree"
   ]
  },
  {
   "cell_type": "code",
   "execution_count": 101,
   "metadata": {},
   "outputs": [
    {
     "data": {
      "image/png": "[encoded data removed]",
      "text/plain": [
       "<Figure size 640x480 with 1 Axes>"
      ]
     },
     "metadata": {},
     "output_type": "display_data"
    }
   ],
   "source": [
    "e = 2\n",
    "tree = grow(5, 'low', e)\n",
    "l = tree.sort_by_level()\n",
    "\n",
    "for j in range(l.shape[0]):\n",
    "    for i in range(l.shape[1]):\n",
    "        if l[j][i] != 0:\n",
    "            plt.scatter(j, l[j][i])\n",
    "\n",
    "plt.scatter(e+5, dnn_model(goal), c='gold')\n",
    "plt.show()"
   ]
  },
  {
   "cell_type": "code",
   "execution_count": 111,
   "metadata": {},
   "outputs": [],
   "source": [
    "e = 20\n",
    "binary_tree = grow(2, 'low', e)\n",
    "c = binary_tree.sort_by_level()\n",
    "\n",
    "for j in range(c.shape[0]):\n",
    "    for i in range(c.shape[1]):\n",
    "        if c[j][i] != 0:\n",
    "            plt.scatter(j, c[j][i])\n",
    "\n",
    "plt.scatter(e+5, dnn_model(goal), c='gold')\n",
    "plt.show()"
   ]
  },
  {
   "cell_type": "code",
   "execution_count": 110,
   "metadata": {},
   "outputs": [
    {
     "data": {
      "image/png": "[encoded data removed]",
      "text/plain": [
       "<Figure size 640x480 with 1 Axes>"
      ]
     },
     "metadata": {},
     "output_type": "display_data"
    }
   ],
   "source": [
    "e = 100\n",
    "mean_tree = grow(1, 'mean', e)\n",
    "d = mean_tree.sort_by_level()\n",
    "\n",
    "low_tree = grow(1, 'low', e)\n",
    "b = low_tree.sort_by_level()\n",
    "\n",
    "for j in range(d.shape[0]):\n",
    "    for i in range(d.shape[1]):\n",
    "        if d[j][i] != 0:\n",
    "            plt.scatter(j, d[j][i])\n",
    "\n",
    "        if b[j][i] != 0:\n",
    "            plt.scatter(j, b[j][i])\n",
    "\n",
    "plt.scatter(e+5, dnn_model(goal), c='gold')\n",
    "plt.show()"
   ]
  },
  {
   "cell_type": "code",
   "execution_count": null,
   "metadata": {},
   "outputs": [],
   "source": []
  }
 ],
 "metadata": {
  "kernelspec": {
   "display_name": "Python 3.10.8 ('tf')",
   "language": "python",
   "name": "python3"
  },
  "language_info": {
   "codemirror_mode": {
    "name": "ipython",
    "version": 3
   },
   "file_extension": ".py",
   "mimetype": "text/x-python",
   "name": "python",
   "nbconvert_exporter": "python",
   "pygments_lexer": "ipython3",
   "version": "3.10.8"
  },
  "orig_nbformat": 4,
  "vscode": {
   "interpreter": {
    "hash": "78ddfc3686b8b7161f2836984651df038ec9a0366954334fc42499f59ad2b3c8"
   }
  }
 },
 "nbformat": 4,
 "nbformat_minor": 2
}
