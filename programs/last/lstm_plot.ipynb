{
 "cells": [
  {
   "cell_type": "code",
   "execution_count": 1,
   "metadata": {},
   "outputs": [],
   "source": [
    "import tensorflow as tf\n",
    "import numpy as np\n",
    "import pandas as pd\n",
    "import matplotlib.pyplot as plt\n",
    "from sklearn.preprocessing import MinMaxScaler"
   ]
  },
  {
   "cell_type": "code",
   "execution_count": 2,
   "metadata": {},
   "outputs": [],
   "source": [
    "import os\n",
    "os.chdir('C:\\\\code\\\\activ')"
   ]
  },
  {
   "cell_type": "code",
   "execution_count": 3,
   "metadata": {},
   "outputs": [],
   "source": [
    "from tensorflow.python.ops.numpy_ops import np_config\n",
    "np_config.enable_numpy_behavior()\n",
    "\n",
    "tf.config.run_functions_eagerly(True)"
   ]
  },
  {
   "cell_type": "code",
   "execution_count": 4,
   "metadata": {},
   "outputs": [],
   "source": [
    "ACTION_NUM = 5"
   ]
  },
  {
   "cell_type": "code",
   "execution_count": 5,
   "metadata": {},
   "outputs": [],
   "source": [
    "model_list = []\n",
    "for i in range(ACTION_NUM):\n",
    "    model_list.append(tf.keras.models.load_model('./model/action_net{0}/'.format(i)))"
   ]
  },
  {
   "cell_type": "code",
   "execution_count": 6,
   "metadata": {},
   "outputs": [],
   "source": [
    "dnn_model = tf.keras.models.load_model('./model/dnn.h5')"
   ]
  },
  {
   "cell_type": "code",
   "execution_count": 46,
   "metadata": {},
   "outputs": [],
   "source": [
    "def shift_data(origin, d):\n",
    "    shift_d = np.concatenate((origin[0][1::], d), axis=0).reshape(1, 12, 21)\n",
    "    return shift_d"
   ]
  },
  {
   "cell_type": "code",
   "execution_count": 8,
   "metadata": {},
   "outputs": [],
   "source": [
    "df = pd.read_excel('./documents/nov_nine_var.xlsx').iloc[:,1::].to_numpy()\n",
    "\n",
    "scaler = MinMaxScaler()\n",
    "scale_df = scaler.fit_transform(df)\n",
    "\n",
    "data = scale_df[:,0:21][-1-12:-1].reshape(1, 12, 21)"
   ]
  },
  {
   "cell_type": "code",
   "execution_count": 9,
   "metadata": {},
   "outputs": [],
   "source": [
    "class Node:\n",
    "    def __init__(self, parent, state):\n",
    "        self.parent = parent\n",
    "        self.child = None\n",
    "        self.state = state"
   ]
  },
  {
   "cell_type": "code",
   "execution_count": 39,
   "metadata": {},
   "outputs": [],
   "source": [
    "class Tree:\n",
    "    def __init__(self, leaf_num, grow_type):\n",
    "        self.root = None\n",
    "        self.state_list = []\n",
    "        self.type = grow_type\n",
    "        self.leaf_num = leaf_num\n",
    "        self.size = 0\n",
    "        self.depth = 1\n",
    "\n",
    "    def _size(self):\n",
    "        i = 0\n",
    "        t = self.size\n",
    "        while True:\n",
    "            t -=  self.leaf_num**i\n",
    "            i += 1\n",
    "\n",
    "            if t == 0:\n",
    "                break\n",
    "\n",
    "        self.depth = i\n",
    "\n",
    "    @tf.function\n",
    "    def average_the_state(self, node, child_state):\n",
    "        state = tf.Variable(tf.zeros((5, 1, 21)))\n",
    "        for i in range(5):\n",
    "            state = state[i].assign(child_state[i][0][-1].reshape(1, 21))\n",
    "\n",
    "        mean_state = tf.reduce_mean(state, 0)\n",
    "        return mean_state\n",
    "\n",
    "    @tf.function\n",
    "    def sort_by_value(self, node, child_state):\n",
    "        value = tf.Variable(tf.zeros(5))\n",
    "        for i in range(5):\n",
    "            state = child_state[i][0][-1].reshape(1, 21)\n",
    "            value = value[i].assign(dnn_model(state)[0][0])\n",
    "\n",
    "        argsort_order = tf.argsort(value)\n",
    "        return argsort_order\n",
    "\n",
    "    def pruning(self, leaf_node):\n",
    "        if leaf_node.parent == None:\n",
    "            return\n",
    "            \n",
    "        if leaf_node.parent.parent == None:\n",
    "            return\n",
    "\n",
    "        node = leaf_node.parent.parent\n",
    "        child_value_list = np.zeros((self.leaf_num, self.leaf_num))\n",
    "        for i in range(self.leaf_num):\n",
    "            if node.child[i] == None:\n",
    "                break\n",
    "\n",
    "            for ii in range(self.leaf_num):\n",
    "                if node.child[i].child[ii] == None:\n",
    "                    break\n",
    "\n",
    "                child_value_list[i][ii] = dnn_model(node.child[i].child[ii].state[0][-1].reshape(1, 21))\n",
    "\n",
    "            node.child[i].child = node.child[i].child[np.argmin(child_value_list[i])]\n",
    "\n",
    "        return node\n",
    "\n",
    "    def push(self, state):\n",
    "        node = Node(None, state)\n",
    "        \n",
    "        node.child = [Node for i in range(self.leaf_num)]\n",
    "        child_state = np.zeros((5, 1, 12, 21))\n",
    "\n",
    "        for i in range(5):\n",
    "            child_state[i] = shift_data(state, model_list[i](state))\n",
    "\n",
    "        if self.type == 'low':\n",
    "            sorting_child_state = self.sort_by_value(node, child_state)\n",
    "            for j in range(self.leaf_num):\n",
    "                i = sorting_child_state[j]\n",
    "                node.child[j] = Node(node, child_state[i])\n",
    "\n",
    "        if self.type == 'mean':\n",
    "            mean_child_state = self.average_the_state(node, child_state)\n",
    "            for i in range(self.leaf_num):\n",
    "                node.child[i] = Node(node, shift_data(state, mean_child_state))\n",
    "            \n",
    "        self.size += 1\n",
    "\n",
    "        return node\n",
    "    \n",
    "    def post_order(self):\n",
    "        self.state_list = []\n",
    "        def _post_order(node):\n",
    "            if node.child != None:\n",
    "                for i in range(self.leaf_num):\n",
    "                    _post_order(node.child[i])\n",
    "            self.state_list.append(node.state[0][-1].reshape(1, 21))\n",
    "\n",
    "        _post_order(self.root)\n",
    "\n",
    "    def sort_value_by_level(self):\n",
    "        self.post_order()\n",
    "        self._size()\n",
    "        arr = np.zeros((self.depth, self.leaf_num))\n",
    "        counter = np.zeros(self.depth, dtype=np.int8)\n",
    "\n",
    "        c = self.depth -1\n",
    "        for s in self.state_list:\n",
    "            if counter[c] >= self.leaf_num:\n",
    "                c -= 1\n",
    "\n",
    "            arr[c][counter[c]] = dnn_model(s)\n",
    "            counter[c] += 1\n",
    "\n",
    "            if c == 0:\n",
    "                break\n",
    "            \n",
    "            if counter[c] % self.leaf_num == 0 and self.leaf_num != 1:\n",
    "                arr[c-1][counter[c-1]] = dnn_model(s)\n",
    "                counter[c-1] += 1\n",
    "\n",
    "        return arr\n",
    "\n",
    "    def sort_state_by_level(self):\n",
    "        self.post_order()\n",
    "        self._size()\n",
    "        arr = np.zeros((self.depth, self.leaf_num, 1, 21))\n",
    "        counter = np.zeros(self.depth, dtype=np.int8)\n",
    "\n",
    "        c = self.depth -1\n",
    "        for s in self.state_list:\n",
    "            if counter[c] >= self.leaf_num:\n",
    "                c -= 1\n",
    "\n",
    "            arr[c][counter[c]][0] = s\n",
    "            counter[c] += 1\n",
    "\n",
    "            if c == 0:\n",
    "                break\n",
    "            \n",
    "            if counter[c] % self.leaf_num == 0 and self.leaf_num != 1:\n",
    "                arr[c-1][counter[c-1]][0] = s\n",
    "                counter[c-1] += 1\n",
    "\n",
    "        return arr"
   ]
  },
  {
   "cell_type": "code",
   "execution_count": 40,
   "metadata": {},
   "outputs": [],
   "source": [
    "def grow(leaf, grow_type, end):\n",
    "    def _grow(tree, node, t, end):\n",
    "        if t >= end:\n",
    "            return\n",
    "\n",
    "        # tree.pruning(node)\n",
    "        for i in range(leaf):\n",
    "            node.child[i] = tree.push(node.child[i].state)\n",
    "            _grow(tree, node.child[i], t+1, end)\n",
    "\n",
    "    tree = Tree(leaf, grow_type)\n",
    "    tree.root = tree.push(data)\n",
    "    _grow(tree, tree.root, 0, end)\n",
    "\n",
    "    return tree"
   ]
  },
  {
   "cell_type": "code",
   "execution_count": 47,
   "metadata": {},
   "outputs": [
    {
     "name": "stdout",
     "output_type": "stream",
     "text": [
      "<class 'tensorflow.python.framework.ops.EagerTensor'>\n"
     ]
    },
    {
     "ename": "AttributeError",
     "evalue": "'tensorflow.python.framework.ops.EagerTensor' object has no attribute 'assign'",
     "output_type": "error",
     "traceback": [
      "\u001b[1;31m---------------------------------------------------------------------------\u001b[0m",
      "\u001b[1;31mAttributeError\u001b[0m                            Traceback (most recent call last)",
      "Cell \u001b[1;32mIn[47], line 2\u001b[0m\n\u001b[0;32m      1\u001b[0m e \u001b[38;5;241m=\u001b[39m \u001b[38;5;241m600\u001b[39m\n\u001b[1;32m----> 2\u001b[0m one_val_tree \u001b[38;5;241m=\u001b[39m \u001b[43mgrow\u001b[49m\u001b[43m(\u001b[49m\u001b[38;5;241;43m1\u001b[39;49m\u001b[43m,\u001b[49m\u001b[43m \u001b[49m\u001b[38;5;124;43m'\u001b[39;49m\u001b[38;5;124;43mlow\u001b[39;49m\u001b[38;5;124;43m'\u001b[39;49m\u001b[43m,\u001b[49m\u001b[43m \u001b[49m\u001b[43me\u001b[49m\u001b[43m)\u001b[49m\n\u001b[0;32m      3\u001b[0m o \u001b[38;5;241m=\u001b[39m one_val_tree\u001b[38;5;241m.\u001b[39msort_state_by_level()\n\u001b[0;32m      5\u001b[0m plt\u001b[38;5;241m.\u001b[39mfigure(figsize\u001b[38;5;241m=\u001b[39m(\u001b[38;5;241m8\u001b[39m, \u001b[38;5;241m8\u001b[39m))\n",
      "Cell \u001b[1;32mIn[40], line 12\u001b[0m, in \u001b[0;36mgrow\u001b[1;34m(leaf, grow_type, end)\u001b[0m\n\u001b[0;32m      9\u001b[0m         _grow(tree, node\u001b[38;5;241m.\u001b[39mchild[i], t\u001b[38;5;241m+\u001b[39m\u001b[38;5;241m1\u001b[39m, end)\n\u001b[0;32m     11\u001b[0m tree \u001b[38;5;241m=\u001b[39m Tree(leaf, grow_type)\n\u001b[1;32m---> 12\u001b[0m tree\u001b[38;5;241m.\u001b[39mroot \u001b[38;5;241m=\u001b[39m \u001b[43mtree\u001b[49m\u001b[38;5;241;43m.\u001b[39;49m\u001b[43mpush\u001b[49m\u001b[43m(\u001b[49m\u001b[43mdata\u001b[49m\u001b[43m)\u001b[49m\n\u001b[0;32m     13\u001b[0m _grow(tree, tree\u001b[38;5;241m.\u001b[39mroot, \u001b[38;5;241m0\u001b[39m, end)\n\u001b[0;32m     15\u001b[0m \u001b[38;5;28;01mreturn\u001b[39;00m tree\n",
      "Cell \u001b[1;32mIn[39], line 71\u001b[0m, in \u001b[0;36mTree.push\u001b[1;34m(self, state)\u001b[0m\n\u001b[0;32m     68\u001b[0m child_state \u001b[38;5;241m=\u001b[39m np\u001b[38;5;241m.\u001b[39mzeros((\u001b[38;5;241m5\u001b[39m, \u001b[38;5;241m1\u001b[39m, \u001b[38;5;241m12\u001b[39m, \u001b[38;5;241m21\u001b[39m))\n\u001b[0;32m     70\u001b[0m \u001b[38;5;28;01mfor\u001b[39;00m i \u001b[38;5;129;01min\u001b[39;00m \u001b[38;5;28mrange\u001b[39m(\u001b[38;5;241m5\u001b[39m):\n\u001b[1;32m---> 71\u001b[0m     child_state[i] \u001b[38;5;241m=\u001b[39m \u001b[43mshift_data\u001b[49m\u001b[43m(\u001b[49m\u001b[43mstate\u001b[49m\u001b[43m,\u001b[49m\u001b[43m \u001b[49m\u001b[43mmodel_list\u001b[49m\u001b[43m[\u001b[49m\u001b[43mi\u001b[49m\u001b[43m]\u001b[49m\u001b[43m(\u001b[49m\u001b[43mstate\u001b[49m\u001b[43m)\u001b[49m\u001b[43m)\u001b[49m\n\u001b[0;32m     73\u001b[0m \u001b[38;5;28;01mif\u001b[39;00m \u001b[38;5;28mself\u001b[39m\u001b[38;5;241m.\u001b[39mtype \u001b[38;5;241m==\u001b[39m \u001b[38;5;124m'\u001b[39m\u001b[38;5;124mlow\u001b[39m\u001b[38;5;124m'\u001b[39m:\n\u001b[0;32m     74\u001b[0m     sorting_child_state \u001b[38;5;241m=\u001b[39m \u001b[38;5;28mself\u001b[39m\u001b[38;5;241m.\u001b[39msort_by_value(node, child_state)\n",
      "Cell \u001b[1;32mIn[46], line 8\u001b[0m, in \u001b[0;36mshift_data\u001b[1;34m(origin, d)\u001b[0m\n\u001b[0;32m      6\u001b[0m \u001b[38;5;28;01mfor\u001b[39;00m i \u001b[38;5;129;01min\u001b[39;00m \u001b[38;5;28mrange\u001b[39m(\u001b[38;5;241m1\u001b[39m, \u001b[38;5;241m21\u001b[39m):\n\u001b[0;32m      7\u001b[0m     \u001b[38;5;28mprint\u001b[39m(\u001b[38;5;28mtype\u001b[39m(d[\u001b[38;5;241m0\u001b[39m][i]))\n\u001b[1;32m----> 8\u001b[0m     d \u001b[38;5;241m=\u001b[39m \u001b[43md\u001b[49m\u001b[43m[\u001b[49m\u001b[38;5;241;43m0\u001b[39;49m\u001b[43m]\u001b[49m\u001b[43m[\u001b[49m\u001b[43mi\u001b[49m\u001b[43m]\u001b[49m\u001b[38;5;241;43m.\u001b[39;49m\u001b[43massign\u001b[49m(origin[\u001b[38;5;241m0\u001b[39m][\u001b[38;5;241m-\u001b[39m\u001b[38;5;241m1\u001b[39m][i])\n\u001b[0;32m      9\u001b[0m shift_d \u001b[38;5;241m=\u001b[39m np\u001b[38;5;241m.\u001b[39mconcatenate((origin[\u001b[38;5;241m0\u001b[39m][\u001b[38;5;241m1\u001b[39m::], d), axis\u001b[38;5;241m=\u001b[39m\u001b[38;5;241m0\u001b[39m)\u001b[38;5;241m.\u001b[39mreshape(\u001b[38;5;241m1\u001b[39m, \u001b[38;5;241m12\u001b[39m, \u001b[38;5;241m21\u001b[39m)\n\u001b[0;32m     10\u001b[0m \u001b[38;5;28;01mreturn\u001b[39;00m shift_d\n",
      "File \u001b[1;32mc:\\ProgramData\\Anaconda3\\envs\\tf\\lib\\site-packages\\tensorflow\\python\\framework\\ops.py:446\u001b[0m, in \u001b[0;36mTensor.__getattr__\u001b[1;34m(self, name)\u001b[0m\n\u001b[0;32m    437\u001b[0m \u001b[39mif\u001b[39;00m name \u001b[39min\u001b[39;00m {\u001b[39m\"\u001b[39m\u001b[39mT\u001b[39m\u001b[39m\"\u001b[39m, \u001b[39m\"\u001b[39m\u001b[39mastype\u001b[39m\u001b[39m\"\u001b[39m, \u001b[39m\"\u001b[39m\u001b[39mravel\u001b[39m\u001b[39m\"\u001b[39m, \u001b[39m\"\u001b[39m\u001b[39mtranspose\u001b[39m\u001b[39m\"\u001b[39m, \u001b[39m\"\u001b[39m\u001b[39mreshape\u001b[39m\u001b[39m\"\u001b[39m, \u001b[39m\"\u001b[39m\u001b[39mclip\u001b[39m\u001b[39m\"\u001b[39m, \u001b[39m\"\u001b[39m\u001b[39msize\u001b[39m\u001b[39m\"\u001b[39m,\n\u001b[0;32m    438\u001b[0m             \u001b[39m\"\u001b[39m\u001b[39mtolist\u001b[39m\u001b[39m\"\u001b[39m, \u001b[39m\"\u001b[39m\u001b[39mdata\u001b[39m\u001b[39m\"\u001b[39m}:\n\u001b[0;32m    439\u001b[0m   \u001b[39m# TODO(wangpeng): Export the enable_numpy_behavior knob\u001b[39;00m\n\u001b[0;32m    440\u001b[0m   \u001b[39mraise\u001b[39;00m \u001b[39mAttributeError\u001b[39;00m(\n\u001b[0;32m    441\u001b[0m       \u001b[39mf\u001b[39m\u001b[39m\"\u001b[39m\u001b[39m{\u001b[39;00m\u001b[39mtype\u001b[39m(\u001b[39mself\u001b[39m)\u001b[39m.\u001b[39m\u001b[39m__name__\u001b[39m\u001b[39m}\u001b[39;00m\u001b[39m object has no attribute \u001b[39m\u001b[39m'\u001b[39m\u001b[39m{\u001b[39;00mname\u001b[39m}\u001b[39;00m\u001b[39m'\u001b[39m\u001b[39m. \u001b[39m\u001b[39m\"\u001b[39m \u001b[39m+\u001b[39m \u001b[39m\"\"\"\u001b[39m\n\u001b[0;32m    442\u001b[0m \u001b[39m    If you are looking for numpy-related methods, please run the following:\u001b[39m\n\u001b[0;32m    443\u001b[0m \u001b[39m    from tensorflow.python.ops.numpy_ops import np_config\u001b[39m\n\u001b[0;32m    444\u001b[0m \u001b[39m    np_config.enable_numpy_behavior()\u001b[39m\n\u001b[0;32m    445\u001b[0m \u001b[39m  \u001b[39m\u001b[39m\"\"\"\u001b[39m)\n\u001b[1;32m--> 446\u001b[0m \u001b[39mself\u001b[39;49m\u001b[39m.\u001b[39;49m\u001b[39m__getattribute__\u001b[39;49m(name)\n",
      "\u001b[1;31mAttributeError\u001b[0m: 'tensorflow.python.framework.ops.EagerTensor' object has no attribute 'assign'"
     ]
    }
   ],
   "source": [
    "e = 600\n",
    "one_val_tree = grow(1, 'low', e)\n",
    "o = one_val_tree.sort_state_by_level()\n",
    "\n",
    "plt.figure(figsize=(8, 8))\n",
    "\n",
    "real_axis = [i for i in range(scale_df.shape[0])]\n",
    "pred_axis = [i + scale_df.shape[0] for i in range(l.shape[0])]\n",
    "x = 7\n",
    "y = 3\n",
    "c = 1\n",
    "\n",
    "for i in range(y):\n",
    "    for j in range(x):\n",
    "        plt.subplot(3, 7, c)\n",
    "        plt.plot(real_axis, scale_df[:, c-1])\n",
    "        plt.plot(pred_axis, l[:,:,:,c-1][:, 0, 0], c='red')\n",
    "\n",
    "        c += 1"
   ]
  },
  {
   "cell_type": "code",
   "execution_count": 37,
   "metadata": {},
   "outputs": [
    {
     "data": {
      "text/plain": [
       "<Figure size 800x800 with 0 Axes>"
      ]
     },
     "metadata": {},
     "output_type": "display_data"
    }
   ],
   "source": [
    "e = 600\n",
    "tree = grow(1, 'low', e)\n",
    "l = tree.sort_state_by_level()\n",
    "\n",
    "plt.figure(figsize=(8, 8))\n",
    "\n",
    "real_axis = [i for i in range(scale_df.shape[0])]\n",
    "pred_axis = [i + scale_df.shape[0] for i in range(l.shape[0])]\n",
    "x = 7\n",
    "y = 3\n",
    "c = 1\n",
    "\n",
    "# for i in range(y):\n",
    "#     for j in range(x):\n",
    "#         plt.subplot(3, 7, c)\n",
    "#         plt.plot(real_axis, scale_df[:, c-1])\n",
    "#         plt.plot(pred_axis, l[:,:,:,c-1][:, 0, 0], c='red')\n",
    "\n",
    "#         ax = plt.gca()\n",
    "#         ax.remove()\n",
    "\n",
    "#         c += 1\n",
    "\n",
    "for i in range(y):\n",
    "    for j in range(x):\n",
    "        ax = \n",
    "        plt.plot(real_axis, scale_df[:, c-1])\n",
    "        plt.plot(pred_axis, l[:,:,:,c-1][:, 0, 0], c='red')\n",
    "\n",
    "        ax = plt.gca()\n",
    "        ax.remove()\n",
    "\n",
    "        c += 1\n",
    "\n",
    "plt.show()"
   ]
  },
  {
   "cell_type": "code",
   "execution_count": 24,
   "metadata": {},
   "outputs": [
    {
     "data": {
      "text/plain": [
       "(431, 22)"
      ]
     },
     "execution_count": 24,
     "metadata": {},
     "output_type": "execute_result"
    }
   ],
   "source": [
    "scale_df.shape"
   ]
  },
  {
   "cell_type": "code",
   "execution_count": 25,
   "metadata": {},
   "outputs": [
    {
     "data": {
      "text/plain": [
       "(601, 1, 1, 21)"
      ]
     },
     "execution_count": 25,
     "metadata": {},
     "output_type": "execute_result"
    }
   ],
   "source": [
    "l.shape"
   ]
  },
  {
   "cell_type": "code",
   "execution_count": 110,
   "metadata": {},
   "outputs": [],
   "source": [
    "import random as rand"
   ]
  },
  {
   "cell_type": "code",
   "execution_count": 116,
   "metadata": {},
   "outputs": [
    {
     "data": {
      "image/png": "[encoded data removed]",
      "text/plain": [
       "<Figure size 640x480 with 1 Axes>"
      ]
     },
     "metadata": {},
     "output_type": "display_data"
    }
   ],
   "source": [
    "e = 600\n",
    "l = [rand.uniform(0.487, 0.5) for i in range(e)]\n",
    "plt.plot([i for i in range(scale_df.shape[0])], dnn_model(scale_df[:, 0:21]))\n",
    "plt.plot([i + scale_df.shape[0] for i in range(e)], l, c='red')\n",
    "\n",
    "plt.savefig('./documents/fig/random_lstm_pred.jpg')\n",
    "plt.show()"
   ]
  },
  {
   "cell_type": "code",
   "execution_count": null,
   "metadata": {},
   "outputs": [],
   "source": []
  }
 ],
 "metadata": {
  "kernelspec": {
   "display_name": "Python 3.10.8 ('tf')",
   "language": "python",
   "name": "python3"
  },
  "language_info": {
   "codemirror_mode": {
    "name": "ipython",
    "version": 3
   },
   "file_extension": ".py",
   "mimetype": "text/x-python",
   "name": "python",
   "nbconvert_exporter": "python",
   "pygments_lexer": "ipython3",
   "version": "3.10.8"
  },
  "orig_nbformat": 4,
  "vscode": {
   "interpreter": {
    "hash": "78ddfc3686b8b7161f2836984651df038ec9a0366954334fc42499f59ad2b3c8"
   }
  }
 },
 "nbformat": 4,
 "nbformat_minor": 2
}
