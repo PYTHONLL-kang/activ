{
 "cells": [
  {
   "cell_type": "code",
   "execution_count": 1,
   "metadata": {},
   "outputs": [],
   "source": [
    "import tensorflow as tf\n",
    "import pandas as pd\n",
    "import numpy as np\n",
    "import random as rand\n",
    "\n",
    "from sklearn.preprocessing import MinMaxScaler\n",
    "from sklearn.model_selection import train_test_split"
   ]
  },
  {
   "cell_type": "code",
   "execution_count": 2,
   "metadata": {},
   "outputs": [],
   "source": [
    "import os\n",
    "os.chdir('../../')"
   ]
  },
  {
   "cell_type": "code",
   "execution_count": 3,
   "metadata": {},
   "outputs": [],
   "source": [
    "from programs import lstm_tool"
   ]
  },
  {
   "cell_type": "code",
   "execution_count": 4,
   "metadata": {},
   "outputs": [],
   "source": [
    "df = pd.read_excel('./documents/nov_nine_var.xlsx').iloc[:,1::].to_numpy()\n",
    "\n",
    "scaler = MinMaxScaler()\n",
    "scale_df = scaler.fit_transform(df[:,0:21])"
   ]
  },
  {
   "cell_type": "code",
   "execution_count": 5,
   "metadata": {},
   "outputs": [],
   "source": [
    "def noiser(data):\n",
    "    data[rand.randint(0, len(data)-1)] = data[rand.randint(0, len(data)-1)]\n",
    "    return data"
   ]
  },
  {
   "cell_type": "code",
   "execution_count": 6,
   "metadata": {},
   "outputs": [],
   "source": [
    "def shuffler(data):\n",
    "    length = 200\n",
    "    idx = rand.randint(0, len(data)-length)\n",
    "    data = data[idx:idx+length]\n",
    "\n",
    "    return data"
   ]
  },
  {
   "cell_type": "code",
   "execution_count": 7,
   "metadata": {},
   "outputs": [],
   "source": [
    "real_state = []\n",
    "fake_state = []\n",
    "\n",
    "for i in range(1000):\n",
    "    # choose type--------------\n",
    "    s = shuffler(scale_df)\n",
    "    # s = scale_df\n",
    "    # -------------------------\n",
    "\n",
    "    real_state.append(s)\n",
    "    fake_state.append(noiser(s))\n",
    "\n",
    "state = np.concatenate((np.array(real_state), np.array(fake_state)))\n",
    "label = np.concatenate((np.ones((len(real_state), 1)), np.ones((len(fake_state), 1))))"
   ]
  },
  {
   "cell_type": "code",
   "execution_count": 8,
   "metadata": {},
   "outputs": [],
   "source": [
    "state_train, state_test, label_train, label_test = train_test_split(state, label, test_size=0.2, shuffle=True)"
   ]
  },
  {
   "cell_type": "code",
   "execution_count": 9,
   "metadata": {},
   "outputs": [],
   "source": [
    "model = tf.keras.Sequential()\n",
    "model.add(tf.keras.layers.LSTM(512, activation='tanh', input_shape=(200, 21), kernel_initializer=tf.keras.initializers.GlorotUniform(), return_sequences=True))\n",
    "model.add(tf.keras.layers.LSTM(512, activation='tanh', kernel_initializer=tf.keras.initializers.GlorotUniform(), return_sequences=True))\n",
    "model.add(tf.keras.layers.LSTM(256, activation='tanh', kernel_initializer=tf.keras.initializers.GlorotUniform(), return_sequences=True))\n",
    "model.add(tf.keras.layers.LSTM(256, activation='tanh', kernel_initializer=tf.keras.initializers.GlorotUniform(), return_sequences=False))\n",
    "model.add(tf.keras.layers.Dense(256, activation='relu'))\n",
    "model.add(tf.keras.layers.Dense(128, activation='relu'))\n",
    "model.add(tf.keras.layers.Dense(64, activation='relu'))\n",
    "model.add(tf.keras.layers.Dense(32, activation='relu'))\n",
    "model.add(tf.keras.layers.Dense(1, activation='sigmoid'))\n",
    "\n",
    "model.compile(optimizer='adam', loss='binary_crossentropy', metrics='accuracy')"
   ]
  },
  {
   "cell_type": "code",
   "execution_count": 10,
   "metadata": {},
   "outputs": [
    {
     "data": {
      "text/plain": [
       "(400, 200, 21)"
      ]
     },
     "execution_count": 10,
     "metadata": {},
     "output_type": "execute_result"
    }
   ],
   "source": [
    "state_test.shape"
   ]
  },
  {
   "cell_type": "code",
   "execution_count": 11,
   "metadata": {},
   "outputs": [
    {
     "name": "stdout",
     "output_type": "stream",
     "text": [
      "Epoch 1/100\n",
      "7/7 [==============================] - 114s 14s/step - loss: 0.6902 - accuracy: 0.3600 - val_loss: 0.4812 - val_accuracy: 1.0000\n",
      "Epoch 2/100\n",
      "7/7 [==============================] - 84s 12s/step - loss: 0.2536 - accuracy: 1.0000 - val_loss: 0.0199 - val_accuracy: 1.0000\n",
      "Epoch 3/100\n",
      "7/7 [==============================] - 83s 12s/step - loss: 0.0060 - accuracy: 1.0000 - val_loss: 1.1438e-04 - val_accuracy: 1.0000\n",
      "Epoch 4/100\n",
      "7/7 [==============================] - 82s 12s/step - loss: 3.8922e-05 - accuracy: 1.0000 - val_loss: 2.5861e-06 - val_accuracy: 1.0000\n",
      "Epoch 5/100\n",
      "7/7 [==============================] - 81s 12s/step - loss: 1.1917e-06 - accuracy: 1.0000 - val_loss: 2.6229e-07 - val_accuracy: 1.0000\n",
      "Epoch 6/100\n",
      "7/7 [==============================] - 85s 12s/step - loss: 1.6114e-07 - accuracy: 1.0000 - val_loss: 7.2531e-08 - val_accuracy: 1.0000\n",
      "Epoch 7/100\n",
      "7/7 [==============================] - 96s 14s/step - loss: 5.4868e-08 - accuracy: 1.0000 - val_loss: 3.6362e-08 - val_accuracy: 1.0000\n",
      "Epoch 8/100\n",
      "7/7 [==============================] - 75s 11s/step - loss: 3.1267e-08 - accuracy: 1.0000 - val_loss: 2.5350e-08 - val_accuracy: 1.0000\n",
      "Epoch 9/100\n",
      "7/7 [==============================] - 73s 10s/step - loss: 2.3421e-08 - accuracy: 1.0000 - val_loss: 2.1056e-08 - val_accuracy: 1.0000\n",
      "Epoch 10/100\n",
      "7/7 [==============================] - 72s 10s/step - loss: 2.0217e-08 - accuracy: 1.0000 - val_loss: 1.9159e-08 - val_accuracy: 1.0000\n",
      "Epoch 11/100\n",
      "7/7 [==============================] - 72s 10s/step - loss: 1.8767e-08 - accuracy: 1.0000 - val_loss: 1.8266e-08 - val_accuracy: 1.0000\n",
      "Epoch 12/100\n",
      "7/7 [==============================] - 73s 10s/step - loss: 1.8077e-08 - accuracy: 1.0000 - val_loss: 1.7834e-08 - val_accuracy: 1.0000\n",
      "Epoch 13/100\n",
      "7/7 [==============================] - 71s 10s/step - loss: 1.7741e-08 - accuracy: 1.0000 - val_loss: 1.7622e-08 - val_accuracy: 1.0000\n",
      "Epoch 14/100\n",
      "7/7 [==============================] - 73s 10s/step - loss: 1.7576e-08 - accuracy: 1.0000 - val_loss: 1.7517e-08 - val_accuracy: 1.0000\n",
      "Epoch 15/100\n",
      "7/7 [==============================] - 74s 10s/step - loss: 1.7494e-08 - accuracy: 1.0000 - val_loss: 1.7465e-08 - val_accuracy: 1.0000\n",
      "Epoch 16/100\n",
      "7/7 [==============================] - 73s 10s/step - loss: 1.7454e-08 - accuracy: 1.0000 - val_loss: 1.7439e-08 - val_accuracy: 1.0000\n",
      "Epoch 17/100\n",
      "7/7 [==============================] - 72s 10s/step - loss: 1.7434e-08 - accuracy: 1.0000 - val_loss: 1.7427e-08 - val_accuracy: 1.0000\n",
      "Epoch 18/100\n",
      "7/7 [==============================] - 72s 10s/step - loss: 1.7424e-08 - accuracy: 1.0000 - val_loss: 1.7420e-08 - val_accuracy: 1.0000\n",
      "Epoch 19/100\n",
      "7/7 [==============================] - 72s 10s/step - loss: 1.7419e-08 - accuracy: 1.0000 - val_loss: 1.7417e-08 - val_accuracy: 1.0000\n",
      "Epoch 20/100\n",
      "7/7 [==============================] - 71s 10s/step - loss: 1.7417e-08 - accuracy: 1.0000 - val_loss: 1.7416e-08 - val_accuracy: 1.0000\n",
      "Epoch 21/100\n",
      "7/7 [==============================] - 71s 10s/step - loss: 1.7416e-08 - accuracy: 1.0000 - val_loss: 1.7415e-08 - val_accuracy: 1.0000\n",
      "Epoch 22/100\n",
      "7/7 [==============================] - 71s 10s/step - loss: 1.7415e-08 - accuracy: 1.0000 - val_loss: 1.7415e-08 - val_accuracy: 1.0000\n",
      "Epoch 23/100\n",
      "7/7 [==============================] - 72s 10s/step - loss: 1.7415e-08 - accuracy: 1.0000 - val_loss: 1.7415e-08 - val_accuracy: 1.0000\n",
      "Epoch 24/100\n",
      "7/7 [==============================] - 71s 10s/step - loss: 1.7415e-08 - accuracy: 1.0000 - val_loss: 1.7415e-08 - val_accuracy: 1.0000\n",
      "Epoch 25/100\n",
      "7/7 [==============================] - 72s 10s/step - loss: 1.7415e-08 - accuracy: 1.0000 - val_loss: 1.7415e-08 - val_accuracy: 1.0000\n",
      "Epoch 26/100\n",
      "7/7 [==============================] - 72s 10s/step - loss: 1.7415e-08 - accuracy: 1.0000 - val_loss: 1.7415e-08 - val_accuracy: 1.0000\n",
      "Epoch 27/100\n",
      "7/7 [==============================] - 71s 10s/step - loss: 1.7415e-08 - accuracy: 1.0000 - val_loss: 1.7415e-08 - val_accuracy: 1.0000\n",
      "Epoch 28/100\n",
      "7/7 [==============================] - 72s 10s/step - loss: 1.7415e-08 - accuracy: 1.0000 - val_loss: 1.7415e-08 - val_accuracy: 1.0000\n",
      "Epoch 29/100\n",
      "7/7 [==============================] - 71s 10s/step - loss: 1.7415e-08 - accuracy: 1.0000 - val_loss: 1.7415e-08 - val_accuracy: 1.0000\n",
      "Epoch 30/100\n",
      "7/7 [==============================] - 72s 10s/step - loss: 1.7415e-08 - accuracy: 1.0000 - val_loss: 1.7415e-08 - val_accuracy: 1.0000\n",
      "Epoch 31/100\n",
      "7/7 [==============================] - 72s 10s/step - loss: 1.7415e-08 - accuracy: 1.0000 - val_loss: 1.7415e-08 - val_accuracy: 1.0000\n",
      "Epoch 32/100\n",
      "7/7 [==============================] - 73s 11s/step - loss: 1.7415e-08 - accuracy: 1.0000 - val_loss: 1.7415e-08 - val_accuracy: 1.0000\n",
      "Epoch 33/100\n",
      "7/7 [==============================] - 70s 10s/step - loss: 1.7415e-08 - accuracy: 1.0000 - val_loss: 1.7415e-08 - val_accuracy: 1.0000\n",
      "Epoch 34/100\n",
      "7/7 [==============================] - 71s 10s/step - loss: 1.7415e-08 - accuracy: 1.0000 - val_loss: 1.7415e-08 - val_accuracy: 1.0000\n",
      "Epoch 35/100\n",
      "7/7 [==============================] - 71s 10s/step - loss: 1.7415e-08 - accuracy: 1.0000 - val_loss: 1.7415e-08 - val_accuracy: 1.0000\n",
      "Epoch 36/100\n",
      "7/7 [==============================] - 73s 10s/step - loss: 1.7415e-08 - accuracy: 1.0000 - val_loss: 1.7415e-08 - val_accuracy: 1.0000\n",
      "Epoch 37/100\n",
      "7/7 [==============================] - 71s 10s/step - loss: 1.7415e-08 - accuracy: 1.0000 - val_loss: 1.7415e-08 - val_accuracy: 1.0000\n",
      "Epoch 38/100\n",
      "7/7 [==============================] - 74s 11s/step - loss: 1.7415e-08 - accuracy: 1.0000 - val_loss: 1.7415e-08 - val_accuracy: 1.0000\n",
      "Epoch 39/100\n",
      "7/7 [==============================] - 73s 10s/step - loss: 1.7415e-08 - accuracy: 1.0000 - val_loss: 1.7415e-08 - val_accuracy: 1.0000\n",
      "Epoch 40/100\n",
      "7/7 [==============================] - 70s 10s/step - loss: 1.7415e-08 - accuracy: 1.0000 - val_loss: 1.7415e-08 - val_accuracy: 1.0000\n",
      "Epoch 41/100\n",
      "7/7 [==============================] - 71s 10s/step - loss: 1.7415e-08 - accuracy: 1.0000 - val_loss: 1.7415e-08 - val_accuracy: 1.0000\n",
      "Epoch 42/100\n",
      "7/7 [==============================] - 72s 10s/step - loss: 1.7415e-08 - accuracy: 1.0000 - val_loss: 1.7415e-08 - val_accuracy: 1.0000\n",
      "Epoch 43/100\n",
      "7/7 [==============================] - 72s 10s/step - loss: 1.7415e-08 - accuracy: 1.0000 - val_loss: 1.7415e-08 - val_accuracy: 1.0000\n",
      "Epoch 44/100\n",
      "7/7 [==============================] - 71s 10s/step - loss: 1.7415e-08 - accuracy: 1.0000 - val_loss: 1.7415e-08 - val_accuracy: 1.0000\n",
      "Epoch 45/100\n",
      "7/7 [==============================] - 71s 10s/step - loss: 1.7415e-08 - accuracy: 1.0000 - val_loss: 1.7415e-08 - val_accuracy: 1.0000\n",
      "Epoch 46/100\n",
      "7/7 [==============================] - 71s 10s/step - loss: 1.7415e-08 - accuracy: 1.0000 - val_loss: 1.7415e-08 - val_accuracy: 1.0000\n",
      "Epoch 47/100\n",
      "7/7 [==============================] - 72s 10s/step - loss: 1.7415e-08 - accuracy: 1.0000 - val_loss: 1.7415e-08 - val_accuracy: 1.0000\n",
      "Epoch 48/100\n",
      "7/7 [==============================] - 71s 10s/step - loss: 1.7415e-08 - accuracy: 1.0000 - val_loss: 1.7415e-08 - val_accuracy: 1.0000\n",
      "Epoch 49/100\n",
      "7/7 [==============================] - 71s 10s/step - loss: 1.7415e-08 - accuracy: 1.0000 - val_loss: 1.7415e-08 - val_accuracy: 1.0000\n",
      "Epoch 50/100\n",
      "7/7 [==============================] - 72s 10s/step - loss: 1.7415e-08 - accuracy: 1.0000 - val_loss: 1.7415e-08 - val_accuracy: 1.0000\n",
      "Epoch 51/100\n",
      "7/7 [==============================] - 71s 10s/step - loss: 1.7415e-08 - accuracy: 1.0000 - val_loss: 1.7415e-08 - val_accuracy: 1.0000\n",
      "Epoch 52/100\n",
      "7/7 [==============================] - 71s 10s/step - loss: 1.7415e-08 - accuracy: 1.0000 - val_loss: 1.7415e-08 - val_accuracy: 1.0000\n",
      "Epoch 53/100\n",
      "7/7 [==============================] - 71s 10s/step - loss: 1.7415e-08 - accuracy: 1.0000 - val_loss: 1.7415e-08 - val_accuracy: 1.0000\n",
      "Epoch 54/100\n",
      "7/7 [==============================] - 71s 10s/step - loss: 1.7415e-08 - accuracy: 1.0000 - val_loss: 1.7415e-08 - val_accuracy: 1.0000\n",
      "Epoch 55/100\n",
      "7/7 [==============================] - 71s 10s/step - loss: 1.7415e-08 - accuracy: 1.0000 - val_loss: 1.7415e-08 - val_accuracy: 1.0000\n",
      "Epoch 56/100\n",
      "7/7 [==============================] - 71s 10s/step - loss: 1.7415e-08 - accuracy: 1.0000 - val_loss: 1.7415e-08 - val_accuracy: 1.0000\n",
      "Epoch 57/100\n",
      "7/7 [==============================] - 71s 10s/step - loss: 1.7415e-08 - accuracy: 1.0000 - val_loss: 1.7415e-08 - val_accuracy: 1.0000\n",
      "Epoch 58/100\n",
      "7/7 [==============================] - 70s 10s/step - loss: 1.7415e-08 - accuracy: 1.0000 - val_loss: 1.7415e-08 - val_accuracy: 1.0000\n",
      "Epoch 59/100\n",
      "7/7 [==============================] - 71s 10s/step - loss: 1.7415e-08 - accuracy: 1.0000 - val_loss: 1.7415e-08 - val_accuracy: 1.0000\n",
      "Epoch 60/100\n",
      "7/7 [==============================] - 71s 10s/step - loss: 1.7415e-08 - accuracy: 1.0000 - val_loss: 1.7415e-08 - val_accuracy: 1.0000\n",
      "Epoch 61/100\n",
      "7/7 [==============================] - 76s 11s/step - loss: 1.7415e-08 - accuracy: 1.0000 - val_loss: 1.7415e-08 - val_accuracy: 1.0000\n",
      "Epoch 62/100\n",
      "7/7 [==============================] - 72s 10s/step - loss: 1.7415e-08 - accuracy: 1.0000 - val_loss: 1.7415e-08 - val_accuracy: 1.0000\n",
      "Epoch 63/100\n",
      "7/7 [==============================] - 71s 10s/step - loss: 1.7415e-08 - accuracy: 1.0000 - val_loss: 1.7415e-08 - val_accuracy: 1.0000\n",
      "Epoch 64/100\n",
      "7/7 [==============================] - 73s 11s/step - loss: 1.7415e-08 - accuracy: 1.0000 - val_loss: 1.7415e-08 - val_accuracy: 1.0000\n",
      "Epoch 65/100\n",
      "7/7 [==============================] - 87s 13s/step - loss: 1.7415e-08 - accuracy: 1.0000 - val_loss: 1.7415e-08 - val_accuracy: 1.0000\n",
      "Epoch 66/100\n",
      "7/7 [==============================] - 87s 13s/step - loss: 1.7415e-08 - accuracy: 1.0000 - val_loss: 1.7415e-08 - val_accuracy: 1.0000\n",
      "Epoch 67/100\n",
      "7/7 [==============================] - 90s 13s/step - loss: 1.7415e-08 - accuracy: 1.0000 - val_loss: 1.7415e-08 - val_accuracy: 1.0000\n",
      "Epoch 68/100\n",
      "7/7 [==============================] - 87s 12s/step - loss: 1.7415e-08 - accuracy: 1.0000 - val_loss: 1.7415e-08 - val_accuracy: 1.0000\n",
      "Epoch 69/100\n",
      "7/7 [==============================] - 84s 12s/step - loss: 1.7415e-08 - accuracy: 1.0000 - val_loss: 1.7415e-08 - val_accuracy: 1.0000\n",
      "Epoch 70/100\n",
      "7/7 [==============================] - 83s 12s/step - loss: 1.7415e-08 - accuracy: 1.0000 - val_loss: 1.7415e-08 - val_accuracy: 1.0000\n",
      "Epoch 71/100\n",
      "7/7 [==============================] - 79s 11s/step - loss: 1.7415e-08 - accuracy: 1.0000 - val_loss: 1.7415e-08 - val_accuracy: 1.0000\n",
      "Epoch 72/100\n",
      "7/7 [==============================] - 79s 11s/step - loss: 1.7415e-08 - accuracy: 1.0000 - val_loss: 1.7415e-08 - val_accuracy: 1.0000\n",
      "Epoch 73/100\n",
      "7/7 [==============================] - 83s 12s/step - loss: 1.7415e-08 - accuracy: 1.0000 - val_loss: 1.7415e-08 - val_accuracy: 1.0000\n",
      "Epoch 74/100\n",
      "7/7 [==============================] - 80s 11s/step - loss: 1.7415e-08 - accuracy: 1.0000 - val_loss: 1.7415e-08 - val_accuracy: 1.0000\n",
      "Epoch 75/100\n",
      "7/7 [==============================] - 80s 11s/step - loss: 1.7415e-08 - accuracy: 1.0000 - val_loss: 1.7415e-08 - val_accuracy: 1.0000\n",
      "Epoch 76/100\n",
      "7/7 [==============================] - 75s 11s/step - loss: 1.7415e-08 - accuracy: 1.0000 - val_loss: 1.7415e-08 - val_accuracy: 1.0000\n",
      "Epoch 77/100\n",
      "7/7 [==============================] - 86s 13s/step - loss: 1.7415e-08 - accuracy: 1.0000 - val_loss: 1.7415e-08 - val_accuracy: 1.0000\n",
      "Epoch 78/100\n",
      "7/7 [==============================] - 77s 11s/step - loss: 1.7415e-08 - accuracy: 1.0000 - val_loss: 1.7415e-08 - val_accuracy: 1.0000\n",
      "Epoch 79/100\n",
      "7/7 [==============================] - 78s 11s/step - loss: 1.7415e-08 - accuracy: 1.0000 - val_loss: 1.7415e-08 - val_accuracy: 1.0000\n",
      "Epoch 80/100\n",
      "7/7 [==============================] - 79s 11s/step - loss: 1.7415e-08 - accuracy: 1.0000 - val_loss: 1.7415e-08 - val_accuracy: 1.0000\n",
      "Epoch 81/100\n",
      "7/7 [==============================] - 78s 11s/step - loss: 1.7415e-08 - accuracy: 1.0000 - val_loss: 1.7415e-08 - val_accuracy: 1.0000\n",
      "Epoch 82/100\n",
      "7/7 [==============================] - 78s 11s/step - loss: 1.7415e-08 - accuracy: 1.0000 - val_loss: 1.7415e-08 - val_accuracy: 1.0000\n",
      "Epoch 83/100\n",
      "7/7 [==============================] - 75s 10s/step - loss: 1.7415e-08 - accuracy: 1.0000 - val_loss: 1.7415e-08 - val_accuracy: 1.0000\n",
      "Epoch 84/100\n",
      "7/7 [==============================] - 74s 11s/step - loss: 1.7415e-08 - accuracy: 1.0000 - val_loss: 1.7415e-08 - val_accuracy: 1.0000\n",
      "Epoch 85/100\n",
      "7/7 [==============================] - 73s 10s/step - loss: 1.7415e-08 - accuracy: 1.0000 - val_loss: 1.7415e-08 - val_accuracy: 1.0000\n",
      "Epoch 86/100\n",
      "7/7 [==============================] - 79s 11s/step - loss: 1.7415e-08 - accuracy: 1.0000 - val_loss: 1.7415e-08 - val_accuracy: 1.0000\n",
      "Epoch 87/100\n",
      "7/7 [==============================] - 83s 12s/step - loss: 1.7415e-08 - accuracy: 1.0000 - val_loss: 1.7415e-08 - val_accuracy: 1.0000\n",
      "Epoch 88/100\n",
      "7/7 [==============================] - 74s 11s/step - loss: 1.7415e-08 - accuracy: 1.0000 - val_loss: 1.7415e-08 - val_accuracy: 1.0000\n",
      "Epoch 89/100\n",
      "7/7 [==============================] - 76s 11s/step - loss: 1.7415e-08 - accuracy: 1.0000 - val_loss: 1.7415e-08 - val_accuracy: 1.0000\n",
      "Epoch 90/100\n",
      "7/7 [==============================] - 83s 12s/step - loss: 1.7415e-08 - accuracy: 1.0000 - val_loss: 1.7415e-08 - val_accuracy: 1.0000\n",
      "Epoch 91/100\n",
      "7/7 [==============================] - 74s 11s/step - loss: 1.7415e-08 - accuracy: 1.0000 - val_loss: 1.7415e-08 - val_accuracy: 1.0000\n",
      "Epoch 92/100\n",
      "7/7 [==============================] - 75s 11s/step - loss: 1.7415e-08 - accuracy: 1.0000 - val_loss: 1.7415e-08 - val_accuracy: 1.0000\n",
      "Epoch 93/100\n",
      "7/7 [==============================] - 76s 11s/step - loss: 1.7415e-08 - accuracy: 1.0000 - val_loss: 1.7415e-08 - val_accuracy: 1.0000\n",
      "Epoch 94/100\n",
      "7/7 [==============================] - 76s 11s/step - loss: 1.7415e-08 - accuracy: 1.0000 - val_loss: 1.7415e-08 - val_accuracy: 1.0000\n",
      "Epoch 95/100\n",
      "7/7 [==============================] - 73s 10s/step - loss: 1.7415e-08 - accuracy: 1.0000 - val_loss: 1.7415e-08 - val_accuracy: 1.0000\n",
      "Epoch 96/100\n",
      "7/7 [==============================] - 79s 11s/step - loss: 1.7415e-08 - accuracy: 1.0000 - val_loss: 1.7415e-08 - val_accuracy: 1.0000\n",
      "Epoch 97/100\n",
      "7/7 [==============================] - 78s 11s/step - loss: 1.7415e-08 - accuracy: 1.0000 - val_loss: 1.7415e-08 - val_accuracy: 1.0000\n",
      "Epoch 98/100\n",
      "7/7 [==============================] - 75s 11s/step - loss: 1.7415e-08 - accuracy: 1.0000 - val_loss: 1.7415e-08 - val_accuracy: 1.0000\n",
      "Epoch 99/100\n",
      "7/7 [==============================] - 80s 11s/step - loss: 1.7415e-08 - accuracy: 1.0000 - val_loss: 1.7415e-08 - val_accuracy: 1.0000\n",
      "Epoch 100/100\n",
      "7/7 [==============================] - 84s 12s/step - loss: 1.7415e-08 - accuracy: 1.0000 - val_loss: 1.7415e-08 - val_accuracy: 1.0000\n"
     ]
    },
    {
     "data": {
      "text/plain": [
       "<keras.callbacks.History at 0x2260fe1ff10>"
      ]
     },
     "execution_count": 11,
     "metadata": {},
     "output_type": "execute_result"
    }
   ],
   "source": [
    "model.fit(state_train, label_train, epochs=100, \n",
    "        batch_size=256, validation_data=(state_test, label_test), verbose=1)"
   ]
  },
  {
   "cell_type": "code",
   "execution_count": 12,
   "metadata": {},
   "outputs": [],
   "source": [
    "model.save('./model/l_checker.h5')"
   ]
  },
  {
   "cell_type": "code",
   "execution_count": null,
   "metadata": {},
   "outputs": [],
   "source": []
  }
 ],
 "metadata": {
  "kernelspec": {
   "display_name": "Python 3.10.8 ('tf')",
   "language": "python",
   "name": "python3"
  },
  "language_info": {
   "codemirror_mode": {
    "name": "ipython",
    "version": 3
   },
   "file_extension": ".py",
   "mimetype": "text/x-python",
   "name": "python",
   "nbconvert_exporter": "python",
   "pygments_lexer": "ipython3",
   "version": "3.10.8"
  },
  "orig_nbformat": 4,
  "vscode": {
   "interpreter": {
    "hash": "78ddfc3686b8b7161f2836984651df038ec9a0366954334fc42499f59ad2b3c8"
   }
  }
 },
 "nbformat": 4,
 "nbformat_minor": 2
}
