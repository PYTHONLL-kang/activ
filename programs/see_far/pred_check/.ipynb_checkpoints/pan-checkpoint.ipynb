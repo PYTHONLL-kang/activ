{
 "cells": [
  {
   "cell_type": "code",
   "execution_count": 1,
   "id": "ceaac3d5-6462-4117-b7e7-be8020b1f59c",
   "metadata": {
    "tags": []
   },
   "outputs": [
    {
     "name": "stderr",
     "output_type": "stream",
     "text": [
      "2023-04-21 21:01:31.814380: I tensorflow/core/platform/cpu_feature_guard.cc:182] This TensorFlow binary is optimized to use available CPU instructions in performance-critical operations.\n",
      "To enable the following instructions: AVX2 FMA, in other operations, rebuild TensorFlow with the appropriate compiler flags.\n",
      "2023-04-21 21:01:32.350684: W tensorflow/compiler/tf2tensorrt/utils/py_utils.cc:38] TF-TRT Warning: Could not find TensorRT\n"
     ]
    }
   ],
   "source": [
    "import tensorflow as tf\n",
    "import pandas as pd\n",
    "import numpy as np\n",
    "\n",
    "from sklearn.preprocessing import MinMaxScaler"
   ]
  },
  {
   "cell_type": "code",
   "execution_count": 2,
   "id": "9cedb976-e99e-44a0-8c24-f8a279f56a18",
   "metadata": {
    "tags": []
   },
   "outputs": [],
   "source": [
    "import os\n",
    "os.chdir('../../')"
   ]
  },
  {
   "cell_type": "code",
   "execution_count": 3,
   "id": "a64e172e-924b-46ae-b7d8-3448df3e7758",
   "metadata": {
    "tags": []
   },
   "outputs": [
    {
     "name": "stderr",
     "output_type": "stream",
     "text": [
      "2023-04-21 21:01:35.020394: E tensorflow/compiler/xla/stream_executor/cuda/cuda_driver.cc:266] failed call to cuInit: CUDA_ERROR_NO_DEVICE: no CUDA-capable device is detected\n"
     ]
    }
   ],
   "source": [
    "from programs import lstm_tool"
   ]
  },
  {
   "cell_type": "code",
   "execution_count": 4,
   "id": "714171cd-114a-4398-9d60-1b36b748f9df",
   "metadata": {
    "tags": []
   },
   "outputs": [],
   "source": [
    "df = pd.read_excel('./documents/nov_nine_var.xlsx').iloc[:,1::].to_numpy()\n",
    "\n",
    "scaler = MinMaxScaler()\n",
    "scale_df = scaler.fit_transform(df[:,0:21])"
   ]
  },
  {
   "cell_type": "code",
   "execution_count": 5,
   "id": "b7b6bfac-38e5-47cb-9246-d1c23aaaa64a",
   "metadata": {
    "tags": []
   },
   "outputs": [
    {
     "data": {
      "text/plain": [
       "dtype('float64')"
      ]
     },
     "execution_count": 5,
     "metadata": {},
     "output_type": "execute_result"
    }
   ],
   "source": [
    "scale_df.dtype"
   ]
  },
  {
   "cell_type": "code",
   "execution_count": 6,
   "id": "6979459a-d2b7-4853-999f-eb0d2ffe2666",
   "metadata": {
    "tags": []
   },
   "outputs": [],
   "source": [
    "x, y = lstm_tool.make_sequence(scale_df, 60)"
   ]
  },
  {
   "cell_type": "code",
   "execution_count": 7,
   "id": "a7972b8e-d4a3-4acb-9268-3a6981905ac7",
   "metadata": {
    "tags": []
   },
   "outputs": [
    {
     "data": {
      "text/plain": [
       "dtype('float64')"
      ]
     },
     "execution_count": 7,
     "metadata": {},
     "output_type": "execute_result"
    }
   ],
   "source": [
    "x.dtype"
   ]
  },
  {
   "cell_type": "code",
   "execution_count": 8,
   "id": "5a2e311b-ef80-40e1-b72e-da66afb44940",
   "metadata": {
    "tags": []
   },
   "outputs": [],
   "source": [
    "pp = tf.keras.Sequential()\n",
    "pp.add(tf.keras.layers.LSTM(64, activation='tanh', kernel_initializer=tf.keras.initializers.GlorotUniform(), return_sequences=True, dropout=0.2))\n",
    "pp.add(tf.keras.layers.LSTM(32, activation='tanh', return_sequences=False))\n",
    "pp.add(tf.keras.layers.Dense(32, activation='relu', kernel_initializer=tf.keras.initializers.HeNormal()))\n",
    "pp.add(tf.keras.layers.Dense(units=21, activation='linear'))"
   ]
  },
  {
   "cell_type": "code",
   "execution_count": 11,
   "id": "5044947e-fe36-49d6-98ff-71160ea99ffd",
   "metadata": {
    "tags": []
   },
   "outputs": [
    {
     "data": {
      "text/plain": [
       "tf.float32"
      ]
     },
     "execution_count": 11,
     "metadata": {},
     "output_type": "execute_result"
    }
   ],
   "source": [
    "state_input.dtype"
   ]
  },
  {
   "cell_type": "code",
   "execution_count": 10,
   "id": "f6a1fa47-7cf9-4949-81c0-75e57293b7e8",
   "metadata": {
    "tags": []
   },
   "outputs": [
    {
     "name": "stderr",
     "output_type": "stream",
     "text": [
      "2023-04-21 21:01:52.292431: I tensorflow/core/common_runtime/executor.cc:1197] [/device:CPU:0] (DEBUG INFO) Executor start aborting (this does not indicate an error and you can ignore this message): INVALID_ARGUMENT: You must feed a value for placeholder tensor 'gradients/split_2_grad/concat/split_2/split_dim' with dtype int32\n",
      "\t [[{{node gradients/split_2_grad/concat/split_2/split_dim}}]]\n",
      "2023-04-21 21:01:52.293368: I tensorflow/core/common_runtime/executor.cc:1197] [/device:CPU:0] (DEBUG INFO) Executor start aborting (this does not indicate an error and you can ignore this message): INVALID_ARGUMENT: You must feed a value for placeholder tensor 'gradients/split_grad/concat/split/split_dim' with dtype int32\n",
      "\t [[{{node gradients/split_grad/concat/split/split_dim}}]]\n",
      "2023-04-21 21:01:52.293989: I tensorflow/core/common_runtime/executor.cc:1197] [/device:CPU:0] (DEBUG INFO) Executor start aborting (this does not indicate an error and you can ignore this message): INVALID_ARGUMENT: You must feed a value for placeholder tensor 'gradients/split_1_grad/concat/split_1/split_dim' with dtype int32\n",
      "\t [[{{node gradients/split_1_grad/concat/split_1/split_dim}}]]\n",
      "2023-04-21 21:01:52.414620: I tensorflow/core/common_runtime/executor.cc:1197] [/device:CPU:0] (DEBUG INFO) Executor start aborting (this does not indicate an error and you can ignore this message): INVALID_ARGUMENT: You must feed a value for placeholder tensor 'gradients/split_2_grad/concat/split_2/split_dim' with dtype int32\n",
      "\t [[{{node gradients/split_2_grad/concat/split_2/split_dim}}]]\n",
      "2023-04-21 21:01:52.415294: I tensorflow/core/common_runtime/executor.cc:1197] [/device:CPU:0] (DEBUG INFO) Executor start aborting (this does not indicate an error and you can ignore this message): INVALID_ARGUMENT: You must feed a value for placeholder tensor 'gradients/split_grad/concat/split/split_dim' with dtype int32\n",
      "\t [[{{node gradients/split_grad/concat/split/split_dim}}]]\n",
      "2023-04-21 21:01:52.415901: I tensorflow/core/common_runtime/executor.cc:1197] [/device:CPU:0] (DEBUG INFO) Executor start aborting (this does not indicate an error and you can ignore this message): INVALID_ARGUMENT: You must feed a value for placeholder tensor 'gradients/split_1_grad/concat/split_1/split_dim' with dtype int32\n",
      "\t [[{{node gradients/split_1_grad/concat/split_1/split_dim}}]]\n"
     ]
    }
   ],
   "source": [
    "lstm_input = tf.keras.layers.Input(shape=(60, 21))\n",
    "\n",
    "input_lstm_layer = tf.keras.layers.LSTM(256, activation='tanh', input_shape=(60, 21), kernel_initializer=tf.keras.initializers.GlorotUniform(), return_sequences=True)(lstm_input)\n",
    "hidden_lstm_layer0 = tf.keras.layers.LSTM(256, activation='tanh', kernel_initializer=tf.keras.initializers.GlorotUniform(), return_sequences=False)(input_lstm_layer)\n",
    "dropout_lstm_layer = tf.keras.layers.Dropout(0.2)(hidden_lstm_layer0)\n",
    "hidden_lstm_layer1 = tf.keras.layers.Dense(128, activation='relu')(dropout_lstm_layer)\n",
    "hidden_lstm_layer2 = tf.keras.layers.Dense(128, activation='relu')(hidden_lstm_layer1)\n",
    "\n",
    "lstm_layer = tf.keras.models.Model(lstm_input, hidden_lstm_layer2)\n",
    "\n",
    "state_input = tf.keras.layers.Input(shape=(21,))\n",
    "\n",
    "input_state_layer = tf.keras.layers.Dense(64, activation='relu', kernel_initializer=tf.keras.initializers.HeNormal())(state_input)\n",
    "dropout_state_layer = tf.keras.layers.Dropout(0.3)(input_state_layer)\n",
    "hidden_state_layer0 = tf.keras.layers.Dense(64, activation='relu')(dropout_state_layer)\n",
    "hidden_state_layer1 = tf.keras.layers.Dense(64, activation='relu')(hidden_state_layer0)\n",
    "\n",
    "state_layer = tf.keras.models.Model(state_input, hidden_state_layer1)\n",
    "\n",
    "input_concat_layer = tf.keras.layers.concatenate([lstm_layer.output, state_layer.output])\n",
    "hidden_concat_layer0 = tf.keras.layers.Dense(32, activation='relu')(input_concat_layer)\n",
    "dropout_concat_layer = tf.keras.layers.Dropout(0.3)(hidden_concat_layer0)\n",
    "hidden_concat_layer1 = tf.keras.layers.Dense(32, activation='relu')(dropout_concat_layer)\n",
    "output_concat_layer = tf.keras.layers.Dense(1, activation='sigmoid')(hidden_concat_layer1)\n",
    "\n",
    "sp = tf.keras.models.Model([lstm_input, state_input], output_concat_layer)\n",
    "sp.compile(optimizer='adam', loss='binary_crossentropy', metrics='accuracy')"
   ]
  },
  {
   "cell_type": "code",
   "execution_count": null,
   "id": "5f124ba6-6091-452e-a2f1-e2dd96b10bad",
   "metadata": {},
   "outputs": [],
   "source": []
  }
 ],
 "metadata": {
  "kernelspec": {
   "display_name": "Python 3 (ipykernel)",
   "language": "python",
   "name": "python3"
  },
  "language_info": {
   "codemirror_mode": {
    "name": "ipython",
    "version": 3
   },
   "file_extension": ".py",
   "mimetype": "text/x-python",
   "name": "python",
   "nbconvert_exporter": "python",
   "pygments_lexer": "ipython3",
   "version": "3.9.16"
  }
 },
 "nbformat": 4,
 "nbformat_minor": 5
}
