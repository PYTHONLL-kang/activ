{
 "cells": [
  {
   "cell_type": "code",
   "execution_count": 1,
   "id": "ceaac3d5-6462-4117-b7e7-be8020b1f59c",
   "metadata": {
    "tags": []
   },
   "outputs": [],
   "source": [
    "import tensorflow as tf\n",
    "import pandas as pd\n",
    "import numpy as np\n",
    "\n",
    "from sklearn.preprocessing import MinMaxScaler"
   ]
  },
  {
   "cell_type": "code",
   "execution_count": 2,
   "id": "9cedb976-e99e-44a0-8c24-f8a279f56a18",
   "metadata": {
    "tags": []
   },
   "outputs": [],
   "source": [
    "import os\n",
    "os.chdir('../../')"
   ]
  },
  {
   "cell_type": "code",
   "execution_count": 3,
   "id": "a64e172e-924b-46ae-b7d8-3448df3e7758",
   "metadata": {
    "tags": []
   },
   "outputs": [],
   "source": [
    "from programs import lstm_tool"
   ]
  },
  {
   "cell_type": "code",
   "execution_count": 4,
   "id": "714171cd-114a-4398-9d60-1b36b748f9df",
   "metadata": {
    "tags": []
   },
   "outputs": [],
   "source": [
    "df = pd.read_excel('./documents/nov_nine_var.xlsx').iloc[:,1::].to_numpy()\n",
    "\n",
    "scaler = MinMaxScaler()\n",
    "scale_df = scaler.fit_transform(df[:,0:21])"
   ]
  },
  {
   "cell_type": "code",
   "execution_count": 5,
   "id": "b7b6bfac-38e5-47cb-9246-d1c23aaaa64a",
   "metadata": {
    "tags": []
   },
   "outputs": [
    {
     "data": {
      "text/plain": [
       "dtype('float64')"
      ]
     },
     "execution_count": 5,
     "metadata": {},
     "output_type": "execute_result"
    }
   ],
   "source": [
    "scale_df.dtype"
   ]
  },
  {
   "cell_type": "code",
   "execution_count": 6,
   "id": "6979459a-d2b7-4853-999f-eb0d2ffe2666",
   "metadata": {
    "tags": []
   },
   "outputs": [],
   "source": [
    "x, y = lstm_tool.make_sequence(scale_df, 60)"
   ]
  },
  {
   "cell_type": "code",
   "execution_count": 7,
   "id": "a7972b8e-d4a3-4acb-9268-3a6981905ac7",
   "metadata": {
    "tags": []
   },
   "outputs": [
    {
     "data": {
      "text/plain": [
       "dtype('float64')"
      ]
     },
     "execution_count": 7,
     "metadata": {},
     "output_type": "execute_result"
    }
   ],
   "source": [
    "x.dtype"
   ]
  },
  {
   "cell_type": "code",
   "execution_count": 8,
   "id": "5a2e311b-ef80-40e1-b72e-da66afb44940",
   "metadata": {
    "tags": []
   },
   "outputs": [],
   "source": [
    "pp_input = tf.keras.layers.Input(shape=(60, 21))\n",
    "pp_lstm_layer0 = tf.keras.layers.LSTM(64, activation='tanh', kernel_initializer=tf.keras.initializers.GlorotUniform(), return_sequences=True, dropout=0.2)(pp_input)\n",
    "pp_lstm_layer1 = tf.keras.layers.LSTM(32, activation='tanh', return_sequences=False)(pp_lstm_layer0)\n",
    "pp_dense_layer = tf.keras.layers.Dense(32, activation='relu', kernel_initializer=tf.keras.initializers.HeNormal())(pp_lstm_layer1)\n",
    "pp_output_layer = tf.keras.layers.Dense(units=21, activation='linear')(pp_dense_layer)\n",
    "\n",
    "pp = tf.keras.Model(pp_input, pp_output_layer)"
   ]
  },
  {
   "cell_type": "code",
   "execution_count": 9,
   "id": "f6a1fa47-7cf9-4949-81c0-75e57293b7e8",
   "metadata": {
    "tags": []
   },
   "outputs": [],
   "source": [
    "lstm_input = tf.keras.layers.Input(shape=(60, 21))\n",
    "\n",
    "input_lstm_layer = tf.keras.layers.LSTM(256, activation='tanh', kernel_initializer=tf.keras.initializers.GlorotUniform(), return_sequences=True)(lstm_input)\n",
    "hidden_lstm_layer0 = tf.keras.layers.LSTM(256, activation='tanh', kernel_initializer=tf.keras.initializers.GlorotUniform(), return_sequences=False)(input_lstm_layer)\n",
    "dropout_lstm_layer = tf.keras.layers.Dropout(0.2)(hidden_lstm_layer0)\n",
    "hidden_lstm_layer1 = tf.keras.layers.Dense(128, activation='relu')(dropout_lstm_layer)\n",
    "hidden_lstm_layer2 = tf.keras.layers.Dense(128, activation='relu')(hidden_lstm_layer1)\n",
    "\n",
    "lstm_layer = tf.keras.models.Model(lstm_input, hidden_lstm_layer2)\n",
    "\n",
    "state_input = tf.keras.layers.Input(shape=(21,))\n",
    "\n",
    "input_state_layer = tf.keras.layers.Dense(64, activation='relu', kernel_initializer=tf.keras.initializers.HeNormal())(state_input)\n",
    "dropout_state_layer = tf.keras.layers.Dropout(0.3)(input_state_layer)\n",
    "hidden_state_layer0 = tf.keras.layers.Dense(64, activation='relu')(dropout_state_layer)\n",
    "hidden_state_layer1 = tf.keras.layers.Dense(64, activation='relu')(hidden_state_layer0)\n",
    "\n",
    "state_layer = tf.keras.models.Model(state_input, hidden_state_layer1)\n",
    "\n",
    "input_concat_layer = tf.keras.layers.concatenate([lstm_layer.output, state_layer.output])\n",
    "hidden_concat_layer0 = tf.keras.layers.Dense(32, activation='relu')(input_concat_layer)\n",
    "dropout_concat_layer = tf.keras.layers.Dropout(0.3)(hidden_concat_layer0)\n",
    "hidden_concat_layer1 = tf.keras.layers.Dense(32, activation='relu')(dropout_concat_layer)\n",
    "output_concat_layer = tf.keras.layers.Dense(1, activation='sigmoid')(hidden_concat_layer1)\n",
    "\n",
    "sp = tf.keras.models.Model([lstm_input, state_input], output_concat_layer)"
   ]
  },
  {
   "cell_type": "code",
   "execution_count": 10,
   "id": "4e66da4c",
   "metadata": {},
   "outputs": [],
   "source": [
    "pp_optim = tf.keras.optimizers.Adam(1e-4)\n",
    "sp_optim = tf.keras.optimizers.Adam(1e-4)"
   ]
  },
  {
   "cell_type": "code",
   "execution_count": 13,
   "id": "b09f5688",
   "metadata": {},
   "outputs": [],
   "source": [
    "def pp_loss(p_):\n",
    "    return tf.keras.losses.BinaryCrossentropy(from_logits=True)(tf.ones_like(p_), p_)\n",
    "\n",
    "def sp_loss(r, p):\n",
    "    return tf.keras.losses.BinaryCrossentropy(from_logits=True)(tf.ones_like(r), r) + tf.keras.losses.BinaryCrossentropy(from_logits=True)(tf.ones_like(p), p)"
   ]
  },
  {
   "cell_type": "code",
   "execution_count": 14,
   "id": "fb4bca80",
   "metadata": {},
   "outputs": [],
   "source": [
    "@tf.function\n",
    "def train_step(x, y):\n",
    "    with tf.GradientTape() as pp_tape, tf.GradientTape() as sp_tape:\n",
    "        predicted_x = pp(x, training=True)\n",
    "\n",
    "        real_output = sp([x, y], training=True)\n",
    "        fake_output = pp([x, predicted_x], training=True)\n",
    "\n",
    "        p_loss = pp_loss(fake_output)\n",
    "        s_loss = sp_loss(real_output, fake_output)\n",
    "    \n",
    "    pp_gd = pp_tape.gradient(p_loss, pp.trainable_variables)\n",
    "    sp_gd = sp_tape.gradient(s_loss, sp.trainable_variables)\n",
    "\n",
    "    pp_optim.apply_gradients(zip(pp_gd, pp.trainable_weights))\n",
    "    sp_optim.apply_gradients(zip(sp_gd, sp.trainable_weights))"
   ]
  },
  {
   "cell_type": "code",
   "execution_count": null,
   "id": "10d91c78",
   "metadata": {},
   "outputs": [],
   "source": [
    "def train(dataset, epochs):\n",
    "    inputs = [d for d in dataset[::2]]\n",
    "    outputs = [d for d  in dataset[1:2]]\n",
    "\n",
    "    for epoch in range(epochs):\n",
    "        for i, o in zip(inputs, outputs):\n",
    "            train_step(i, o)"
   ]
  }
 ],
 "metadata": {
  "kernelspec": {
   "display_name": "Python 3.10.8 ('tf')",
   "language": "python",
   "name": "python3"
  },
  "language_info": {
   "codemirror_mode": {
    "name": "ipython",
    "version": 3
   },
   "file_extension": ".py",
   "mimetype": "text/x-python",
   "name": "python",
   "nbconvert_exporter": "python",
   "pygments_lexer": "ipython3",
   "version": "3.10.8"
  },
  "vscode": {
   "interpreter": {
    "hash": "78ddfc3686b8b7161f2836984651df038ec9a0366954334fc42499f59ad2b3c8"
   }
  }
 },
 "nbformat": 4,
 "nbformat_minor": 5
}
